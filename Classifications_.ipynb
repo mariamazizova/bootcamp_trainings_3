{
 "cells": [
  {
   "cell_type": "markdown",
   "metadata": {},
   "source": [
    "# Classifications"
   ]
  },
  {
   "cell_type": "code",
   "execution_count": 1,
   "metadata": {},
   "outputs": [],
   "source": [
    "import numpy as np\n",
    "import matplotlib.pyplot as plt\n",
    "import pandas as pd\n",
    "import warnings\n",
    "warnings.filterwarnings(\"ignore\")"
   ]
  },
  {
   "cell_type": "markdown",
   "metadata": {},
   "source": [
    "### Importing the data"
   ]
  },
  {
   "cell_type": "code",
   "execution_count": 2,
   "metadata": {},
   "outputs": [],
   "source": [
    "# Firstly let's import data"
   ]
  },
  {
   "cell_type": "code",
   "execution_count": 3,
   "metadata": {},
   "outputs": [
    {
     "data": {
      "text/html": [
       "<div>\n",
       "<style scoped>\n",
       "    .dataframe tbody tr th:only-of-type {\n",
       "        vertical-align: middle;\n",
       "    }\n",
       "\n",
       "    .dataframe tbody tr th {\n",
       "        vertical-align: top;\n",
       "    }\n",
       "\n",
       "    .dataframe thead th {\n",
       "        text-align: right;\n",
       "    }\n",
       "</style>\n",
       "<table border=\"1\" class=\"dataframe\">\n",
       "  <thead>\n",
       "    <tr style=\"text-align: right;\">\n",
       "      <th></th>\n",
       "      <th>Time spent on lessons/ hour</th>\n",
       "      <th>GPA</th>\n",
       "      <th>Attendance</th>\n",
       "    </tr>\n",
       "  </thead>\n",
       "  <tbody>\n",
       "    <tr>\n",
       "      <th>0</th>\n",
       "      <td>4.0</td>\n",
       "      <td>90.60</td>\n",
       "      <td>Yes</td>\n",
       "    </tr>\n",
       "    <tr>\n",
       "      <th>1</th>\n",
       "      <td>7.0</td>\n",
       "      <td>84.50</td>\n",
       "      <td>No</td>\n",
       "    </tr>\n",
       "    <tr>\n",
       "      <th>2</th>\n",
       "      <td>12.0</td>\n",
       "      <td>NaN</td>\n",
       "      <td>No</td>\n",
       "    </tr>\n",
       "    <tr>\n",
       "      <th>3</th>\n",
       "      <td>2.0</td>\n",
       "      <td>80.00</td>\n",
       "      <td>Yes</td>\n",
       "    </tr>\n",
       "    <tr>\n",
       "      <th>4</th>\n",
       "      <td>7.0</td>\n",
       "      <td>98.50</td>\n",
       "      <td>Yes</td>\n",
       "    </tr>\n",
       "    <tr>\n",
       "      <th>...</th>\n",
       "      <td>...</td>\n",
       "      <td>...</td>\n",
       "      <td>...</td>\n",
       "    </tr>\n",
       "    <tr>\n",
       "      <th>157</th>\n",
       "      <td>1.5</td>\n",
       "      <td>92.27</td>\n",
       "      <td>Yes</td>\n",
       "    </tr>\n",
       "    <tr>\n",
       "      <th>158</th>\n",
       "      <td>10.0</td>\n",
       "      <td>72.00</td>\n",
       "      <td>No</td>\n",
       "    </tr>\n",
       "    <tr>\n",
       "      <th>159</th>\n",
       "      <td>2.0</td>\n",
       "      <td>74.73</td>\n",
       "      <td>Yes</td>\n",
       "    </tr>\n",
       "    <tr>\n",
       "      <th>160</th>\n",
       "      <td>3.0</td>\n",
       "      <td>83.87</td>\n",
       "      <td>Yes</td>\n",
       "    </tr>\n",
       "    <tr>\n",
       "      <th>161</th>\n",
       "      <td>3.5</td>\n",
       "      <td>96.70</td>\n",
       "      <td>Yes</td>\n",
       "    </tr>\n",
       "  </tbody>\n",
       "</table>\n",
       "<p>162 rows × 3 columns</p>\n",
       "</div>"
      ],
      "text/plain": [
       "     Time spent on lessons/ hour    GPA Attendance\n",
       "0                            4.0  90.60        Yes\n",
       "1                            7.0  84.50         No\n",
       "2                           12.0    NaN         No\n",
       "3                            2.0  80.00        Yes\n",
       "4                            7.0  98.50        Yes\n",
       "..                           ...    ...        ...\n",
       "157                          1.5  92.27        Yes\n",
       "158                         10.0  72.00         No\n",
       "159                          2.0  74.73        Yes\n",
       "160                          3.0  83.87        Yes\n",
       "161                          3.5  96.70        Yes\n",
       "\n",
       "[162 rows x 3 columns]"
      ]
     },
     "execution_count": 3,
     "metadata": {},
     "output_type": "execute_result"
    }
   ],
   "source": [
    "data_frame=pd.read_excel(\"D:\\\\data_.xlsx\")\n",
    "data_frame"
   ]
  },
  {
   "cell_type": "code",
   "execution_count": 4,
   "metadata": {
    "scrolled": true
   },
   "outputs": [
    {
     "data": {
      "text/plain": [
       "Index(['Time spent on lessons/ hour', 'GPA', 'Attendance'], dtype='object')"
      ]
     },
     "execution_count": 4,
     "metadata": {},
     "output_type": "execute_result"
    }
   ],
   "source": [
    "data_frame.columns"
   ]
  },
  {
   "cell_type": "code",
   "execution_count": 5,
   "metadata": {},
   "outputs": [],
   "source": [
    "data_frame.columns=['time_lessons','GPA','attendance']"
   ]
  },
  {
   "cell_type": "code",
   "execution_count": 6,
   "metadata": {
    "scrolled": true
   },
   "outputs": [
    {
     "data": {
      "text/html": [
       "<div>\n",
       "<style scoped>\n",
       "    .dataframe tbody tr th:only-of-type {\n",
       "        vertical-align: middle;\n",
       "    }\n",
       "\n",
       "    .dataframe tbody tr th {\n",
       "        vertical-align: top;\n",
       "    }\n",
       "\n",
       "    .dataframe thead th {\n",
       "        text-align: right;\n",
       "    }\n",
       "</style>\n",
       "<table border=\"1\" class=\"dataframe\">\n",
       "  <thead>\n",
       "    <tr style=\"text-align: right;\">\n",
       "      <th></th>\n",
       "      <th>time_lessons</th>\n",
       "      <th>GPA</th>\n",
       "      <th>attendance</th>\n",
       "    </tr>\n",
       "  </thead>\n",
       "  <tbody>\n",
       "    <tr>\n",
       "      <th>0</th>\n",
       "      <td>4.0</td>\n",
       "      <td>90.60</td>\n",
       "      <td>Yes</td>\n",
       "    </tr>\n",
       "    <tr>\n",
       "      <th>1</th>\n",
       "      <td>7.0</td>\n",
       "      <td>84.50</td>\n",
       "      <td>No</td>\n",
       "    </tr>\n",
       "    <tr>\n",
       "      <th>2</th>\n",
       "      <td>12.0</td>\n",
       "      <td>NaN</td>\n",
       "      <td>No</td>\n",
       "    </tr>\n",
       "    <tr>\n",
       "      <th>3</th>\n",
       "      <td>2.0</td>\n",
       "      <td>80.00</td>\n",
       "      <td>Yes</td>\n",
       "    </tr>\n",
       "    <tr>\n",
       "      <th>4</th>\n",
       "      <td>7.0</td>\n",
       "      <td>98.50</td>\n",
       "      <td>Yes</td>\n",
       "    </tr>\n",
       "    <tr>\n",
       "      <th>...</th>\n",
       "      <td>...</td>\n",
       "      <td>...</td>\n",
       "      <td>...</td>\n",
       "    </tr>\n",
       "    <tr>\n",
       "      <th>157</th>\n",
       "      <td>1.5</td>\n",
       "      <td>92.27</td>\n",
       "      <td>Yes</td>\n",
       "    </tr>\n",
       "    <tr>\n",
       "      <th>158</th>\n",
       "      <td>10.0</td>\n",
       "      <td>72.00</td>\n",
       "      <td>No</td>\n",
       "    </tr>\n",
       "    <tr>\n",
       "      <th>159</th>\n",
       "      <td>2.0</td>\n",
       "      <td>74.73</td>\n",
       "      <td>Yes</td>\n",
       "    </tr>\n",
       "    <tr>\n",
       "      <th>160</th>\n",
       "      <td>3.0</td>\n",
       "      <td>83.87</td>\n",
       "      <td>Yes</td>\n",
       "    </tr>\n",
       "    <tr>\n",
       "      <th>161</th>\n",
       "      <td>3.5</td>\n",
       "      <td>96.70</td>\n",
       "      <td>Yes</td>\n",
       "    </tr>\n",
       "  </tbody>\n",
       "</table>\n",
       "<p>162 rows × 3 columns</p>\n",
       "</div>"
      ],
      "text/plain": [
       "     time_lessons    GPA attendance\n",
       "0             4.0  90.60        Yes\n",
       "1             7.0  84.50         No\n",
       "2            12.0    NaN         No\n",
       "3             2.0  80.00        Yes\n",
       "4             7.0  98.50        Yes\n",
       "..            ...    ...        ...\n",
       "157           1.5  92.27        Yes\n",
       "158          10.0  72.00         No\n",
       "159           2.0  74.73        Yes\n",
       "160           3.0  83.87        Yes\n",
       "161           3.5  96.70        Yes\n",
       "\n",
       "[162 rows x 3 columns]"
      ]
     },
     "execution_count": 6,
     "metadata": {},
     "output_type": "execute_result"
    }
   ],
   "source": [
    "data_frame"
   ]
  },
  {
   "cell_type": "code",
   "execution_count": 7,
   "metadata": {},
   "outputs": [
    {
     "data": {
      "text/html": [
       "<div>\n",
       "<style scoped>\n",
       "    .dataframe tbody tr th:only-of-type {\n",
       "        vertical-align: middle;\n",
       "    }\n",
       "\n",
       "    .dataframe tbody tr th {\n",
       "        vertical-align: top;\n",
       "    }\n",
       "\n",
       "    .dataframe thead th {\n",
       "        text-align: right;\n",
       "    }\n",
       "</style>\n",
       "<table border=\"1\" class=\"dataframe\">\n",
       "  <thead>\n",
       "    <tr style=\"text-align: right;\">\n",
       "      <th></th>\n",
       "      <th>time_lessons</th>\n",
       "      <th>GPA</th>\n",
       "      <th>attendance</th>\n",
       "    </tr>\n",
       "  </thead>\n",
       "  <tbody>\n",
       "    <tr>\n",
       "      <th>count</th>\n",
       "      <td>158.000000</td>\n",
       "      <td>161.000000</td>\n",
       "      <td>162</td>\n",
       "    </tr>\n",
       "    <tr>\n",
       "      <th>unique</th>\n",
       "      <td>NaN</td>\n",
       "      <td>NaN</td>\n",
       "      <td>2</td>\n",
       "    </tr>\n",
       "    <tr>\n",
       "      <th>top</th>\n",
       "      <td>NaN</td>\n",
       "      <td>NaN</td>\n",
       "      <td>Yes</td>\n",
       "    </tr>\n",
       "    <tr>\n",
       "      <th>freq</th>\n",
       "      <td>NaN</td>\n",
       "      <td>NaN</td>\n",
       "      <td>123</td>\n",
       "    </tr>\n",
       "    <tr>\n",
       "      <th>mean</th>\n",
       "      <td>3.970253</td>\n",
       "      <td>85.784348</td>\n",
       "      <td>NaN</td>\n",
       "    </tr>\n",
       "    <tr>\n",
       "      <th>std</th>\n",
       "      <td>2.850215</td>\n",
       "      <td>7.794291</td>\n",
       "      <td>NaN</td>\n",
       "    </tr>\n",
       "    <tr>\n",
       "      <th>min</th>\n",
       "      <td>0.250000</td>\n",
       "      <td>47.000000</td>\n",
       "      <td>NaN</td>\n",
       "    </tr>\n",
       "    <tr>\n",
       "      <th>25%</th>\n",
       "      <td>2.000000</td>\n",
       "      <td>80.000000</td>\n",
       "      <td>NaN</td>\n",
       "    </tr>\n",
       "    <tr>\n",
       "      <th>50%</th>\n",
       "      <td>3.000000</td>\n",
       "      <td>87.000000</td>\n",
       "      <td>NaN</td>\n",
       "    </tr>\n",
       "    <tr>\n",
       "      <th>75%</th>\n",
       "      <td>5.000000</td>\n",
       "      <td>91.730000</td>\n",
       "      <td>NaN</td>\n",
       "    </tr>\n",
       "    <tr>\n",
       "      <th>max</th>\n",
       "      <td>12.500000</td>\n",
       "      <td>98.670000</td>\n",
       "      <td>NaN</td>\n",
       "    </tr>\n",
       "  </tbody>\n",
       "</table>\n",
       "</div>"
      ],
      "text/plain": [
       "        time_lessons         GPA attendance\n",
       "count     158.000000  161.000000        162\n",
       "unique           NaN         NaN          2\n",
       "top              NaN         NaN        Yes\n",
       "freq             NaN         NaN        123\n",
       "mean        3.970253   85.784348        NaN\n",
       "std         2.850215    7.794291        NaN\n",
       "min         0.250000   47.000000        NaN\n",
       "25%         2.000000   80.000000        NaN\n",
       "50%         3.000000   87.000000        NaN\n",
       "75%         5.000000   91.730000        NaN\n",
       "max        12.500000   98.670000        NaN"
      ]
     },
     "execution_count": 7,
     "metadata": {},
     "output_type": "execute_result"
    }
   ],
   "source": [
    "data_frame.describe(include='all')"
   ]
  },
  {
   "cell_type": "code",
   "execution_count": 8,
   "metadata": {},
   "outputs": [],
   "source": [
    "# As we see, max count in columns is 162 and min count is 158. This means that, there are missing values (null values) in data"
   ]
  },
  {
   "cell_type": "markdown",
   "metadata": {},
   "source": [
    "### Dealing with null values"
   ]
  },
  {
   "cell_type": "code",
   "execution_count": 9,
   "metadata": {},
   "outputs": [
    {
     "data": {
      "text/plain": [
       "time_lessons    4\n",
       "GPA             1\n",
       "attendance      0\n",
       "dtype: int64"
      ]
     },
     "execution_count": 9,
     "metadata": {},
     "output_type": "execute_result"
    }
   ],
   "source": [
    "data_frame.isnull().sum()"
   ]
  },
  {
   "cell_type": "code",
   "execution_count": 10,
   "metadata": {},
   "outputs": [],
   "source": [
    "# According to output above, there are 5 missing values and they cover approximately 3.7% of the total data\n",
    "# If missing values cover less than or equal to 5% of total data, we can remove all them"
   ]
  },
  {
   "cell_type": "code",
   "execution_count": 11,
   "metadata": {},
   "outputs": [],
   "source": [
    "df=data_frame.dropna(axis=0)"
   ]
  },
  {
   "cell_type": "code",
   "execution_count": 12,
   "metadata": {},
   "outputs": [
    {
     "data": {
      "text/html": [
       "<div>\n",
       "<style scoped>\n",
       "    .dataframe tbody tr th:only-of-type {\n",
       "        vertical-align: middle;\n",
       "    }\n",
       "\n",
       "    .dataframe tbody tr th {\n",
       "        vertical-align: top;\n",
       "    }\n",
       "\n",
       "    .dataframe thead th {\n",
       "        text-align: right;\n",
       "    }\n",
       "</style>\n",
       "<table border=\"1\" class=\"dataframe\">\n",
       "  <thead>\n",
       "    <tr style=\"text-align: right;\">\n",
       "      <th></th>\n",
       "      <th>time_lessons</th>\n",
       "      <th>GPA</th>\n",
       "      <th>attendance</th>\n",
       "    </tr>\n",
       "  </thead>\n",
       "  <tbody>\n",
       "    <tr>\n",
       "      <th>count</th>\n",
       "      <td>157.000000</td>\n",
       "      <td>157.000000</td>\n",
       "      <td>157</td>\n",
       "    </tr>\n",
       "    <tr>\n",
       "      <th>unique</th>\n",
       "      <td>NaN</td>\n",
       "      <td>NaN</td>\n",
       "      <td>2</td>\n",
       "    </tr>\n",
       "    <tr>\n",
       "      <th>top</th>\n",
       "      <td>NaN</td>\n",
       "      <td>NaN</td>\n",
       "      <td>Yes</td>\n",
       "    </tr>\n",
       "    <tr>\n",
       "      <th>freq</th>\n",
       "      <td>NaN</td>\n",
       "      <td>NaN</td>\n",
       "      <td>123</td>\n",
       "    </tr>\n",
       "    <tr>\n",
       "      <th>mean</th>\n",
       "      <td>3.919108</td>\n",
       "      <td>85.734076</td>\n",
       "      <td>NaN</td>\n",
       "    </tr>\n",
       "    <tr>\n",
       "      <th>std</th>\n",
       "      <td>2.785652</td>\n",
       "      <td>7.771917</td>\n",
       "      <td>NaN</td>\n",
       "    </tr>\n",
       "    <tr>\n",
       "      <th>min</th>\n",
       "      <td>0.250000</td>\n",
       "      <td>47.000000</td>\n",
       "      <td>NaN</td>\n",
       "    </tr>\n",
       "    <tr>\n",
       "      <th>25%</th>\n",
       "      <td>2.000000</td>\n",
       "      <td>80.000000</td>\n",
       "      <td>NaN</td>\n",
       "    </tr>\n",
       "    <tr>\n",
       "      <th>50%</th>\n",
       "      <td>3.000000</td>\n",
       "      <td>87.000000</td>\n",
       "      <td>NaN</td>\n",
       "    </tr>\n",
       "    <tr>\n",
       "      <th>75%</th>\n",
       "      <td>5.000000</td>\n",
       "      <td>91.500000</td>\n",
       "      <td>NaN</td>\n",
       "    </tr>\n",
       "    <tr>\n",
       "      <th>max</th>\n",
       "      <td>12.500000</td>\n",
       "      <td>98.670000</td>\n",
       "      <td>NaN</td>\n",
       "    </tr>\n",
       "  </tbody>\n",
       "</table>\n",
       "</div>"
      ],
      "text/plain": [
       "        time_lessons         GPA attendance\n",
       "count     157.000000  157.000000        157\n",
       "unique           NaN         NaN          2\n",
       "top              NaN         NaN        Yes\n",
       "freq             NaN         NaN        123\n",
       "mean        3.919108   85.734076        NaN\n",
       "std         2.785652    7.771917        NaN\n",
       "min         0.250000   47.000000        NaN\n",
       "25%         2.000000   80.000000        NaN\n",
       "50%         3.000000   87.000000        NaN\n",
       "75%         5.000000   91.500000        NaN\n",
       "max        12.500000   98.670000        NaN"
      ]
     },
     "execution_count": 12,
     "metadata": {},
     "output_type": "execute_result"
    }
   ],
   "source": [
    "df.describe(include='all')"
   ]
  },
  {
   "cell_type": "code",
   "execution_count": 13,
   "metadata": {},
   "outputs": [],
   "source": [
    "# Now the number of rows is the same in all columns"
   ]
  },
  {
   "cell_type": "markdown",
   "metadata": {},
   "source": [
    "### Dummy variables"
   ]
  },
  {
   "cell_type": "code",
   "execution_count": 14,
   "metadata": {},
   "outputs": [],
   "source": [
    "df['attendance']=df['attendance'].map({'Yes':1,'No':0})"
   ]
  },
  {
   "cell_type": "code",
   "execution_count": 15,
   "metadata": {},
   "outputs": [
    {
     "data": {
      "text/html": [
       "<div>\n",
       "<style scoped>\n",
       "    .dataframe tbody tr th:only-of-type {\n",
       "        vertical-align: middle;\n",
       "    }\n",
       "\n",
       "    .dataframe tbody tr th {\n",
       "        vertical-align: top;\n",
       "    }\n",
       "\n",
       "    .dataframe thead th {\n",
       "        text-align: right;\n",
       "    }\n",
       "</style>\n",
       "<table border=\"1\" class=\"dataframe\">\n",
       "  <thead>\n",
       "    <tr style=\"text-align: right;\">\n",
       "      <th></th>\n",
       "      <th>time_lessons</th>\n",
       "      <th>GPA</th>\n",
       "      <th>attendance</th>\n",
       "    </tr>\n",
       "  </thead>\n",
       "  <tbody>\n",
       "    <tr>\n",
       "      <th>0</th>\n",
       "      <td>4.0</td>\n",
       "      <td>90.60</td>\n",
       "      <td>1</td>\n",
       "    </tr>\n",
       "    <tr>\n",
       "      <th>1</th>\n",
       "      <td>7.0</td>\n",
       "      <td>84.50</td>\n",
       "      <td>0</td>\n",
       "    </tr>\n",
       "    <tr>\n",
       "      <th>3</th>\n",
       "      <td>2.0</td>\n",
       "      <td>80.00</td>\n",
       "      <td>1</td>\n",
       "    </tr>\n",
       "    <tr>\n",
       "      <th>4</th>\n",
       "      <td>7.0</td>\n",
       "      <td>98.50</td>\n",
       "      <td>1</td>\n",
       "    </tr>\n",
       "    <tr>\n",
       "      <th>5</th>\n",
       "      <td>2.0</td>\n",
       "      <td>91.26</td>\n",
       "      <td>1</td>\n",
       "    </tr>\n",
       "    <tr>\n",
       "      <th>...</th>\n",
       "      <td>...</td>\n",
       "      <td>...</td>\n",
       "      <td>...</td>\n",
       "    </tr>\n",
       "    <tr>\n",
       "      <th>157</th>\n",
       "      <td>1.5</td>\n",
       "      <td>92.27</td>\n",
       "      <td>1</td>\n",
       "    </tr>\n",
       "    <tr>\n",
       "      <th>158</th>\n",
       "      <td>10.0</td>\n",
       "      <td>72.00</td>\n",
       "      <td>0</td>\n",
       "    </tr>\n",
       "    <tr>\n",
       "      <th>159</th>\n",
       "      <td>2.0</td>\n",
       "      <td>74.73</td>\n",
       "      <td>1</td>\n",
       "    </tr>\n",
       "    <tr>\n",
       "      <th>160</th>\n",
       "      <td>3.0</td>\n",
       "      <td>83.87</td>\n",
       "      <td>1</td>\n",
       "    </tr>\n",
       "    <tr>\n",
       "      <th>161</th>\n",
       "      <td>3.5</td>\n",
       "      <td>96.70</td>\n",
       "      <td>1</td>\n",
       "    </tr>\n",
       "  </tbody>\n",
       "</table>\n",
       "<p>157 rows × 3 columns</p>\n",
       "</div>"
      ],
      "text/plain": [
       "     time_lessons    GPA  attendance\n",
       "0             4.0  90.60           1\n",
       "1             7.0  84.50           0\n",
       "3             2.0  80.00           1\n",
       "4             7.0  98.50           1\n",
       "5             2.0  91.26           1\n",
       "..            ...    ...         ...\n",
       "157           1.5  92.27           1\n",
       "158          10.0  72.00           0\n",
       "159           2.0  74.73           1\n",
       "160           3.0  83.87           1\n",
       "161           3.5  96.70           1\n",
       "\n",
       "[157 rows x 3 columns]"
      ]
     },
     "execution_count": 15,
     "metadata": {},
     "output_type": "execute_result"
    }
   ],
   "source": [
    "df"
   ]
  },
  {
   "cell_type": "markdown",
   "metadata": {},
   "source": [
    "# 1. Logistic Regression (Classification)"
   ]
  },
  {
   "cell_type": "markdown",
   "metadata": {},
   "source": [
    "### Determining  independent and dependent variables"
   ]
  },
  {
   "cell_type": "code",
   "execution_count": 16,
   "metadata": {},
   "outputs": [
    {
     "data": {
      "text/html": [
       "<div>\n",
       "<style scoped>\n",
       "    .dataframe tbody tr th:only-of-type {\n",
       "        vertical-align: middle;\n",
       "    }\n",
       "\n",
       "    .dataframe tbody tr th {\n",
       "        vertical-align: top;\n",
       "    }\n",
       "\n",
       "    .dataframe thead th {\n",
       "        text-align: right;\n",
       "    }\n",
       "</style>\n",
       "<table border=\"1\" class=\"dataframe\">\n",
       "  <thead>\n",
       "    <tr style=\"text-align: right;\">\n",
       "      <th></th>\n",
       "      <th>time_lessons</th>\n",
       "      <th>GPA</th>\n",
       "      <th>attendance</th>\n",
       "    </tr>\n",
       "  </thead>\n",
       "  <tbody>\n",
       "    <tr>\n",
       "      <th>0</th>\n",
       "      <td>4.0</td>\n",
       "      <td>90.60</td>\n",
       "      <td>1</td>\n",
       "    </tr>\n",
       "    <tr>\n",
       "      <th>1</th>\n",
       "      <td>7.0</td>\n",
       "      <td>84.50</td>\n",
       "      <td>0</td>\n",
       "    </tr>\n",
       "    <tr>\n",
       "      <th>3</th>\n",
       "      <td>2.0</td>\n",
       "      <td>80.00</td>\n",
       "      <td>1</td>\n",
       "    </tr>\n",
       "    <tr>\n",
       "      <th>4</th>\n",
       "      <td>7.0</td>\n",
       "      <td>98.50</td>\n",
       "      <td>1</td>\n",
       "    </tr>\n",
       "    <tr>\n",
       "      <th>5</th>\n",
       "      <td>2.0</td>\n",
       "      <td>91.26</td>\n",
       "      <td>1</td>\n",
       "    </tr>\n",
       "    <tr>\n",
       "      <th>...</th>\n",
       "      <td>...</td>\n",
       "      <td>...</td>\n",
       "      <td>...</td>\n",
       "    </tr>\n",
       "    <tr>\n",
       "      <th>157</th>\n",
       "      <td>1.5</td>\n",
       "      <td>92.27</td>\n",
       "      <td>1</td>\n",
       "    </tr>\n",
       "    <tr>\n",
       "      <th>158</th>\n",
       "      <td>10.0</td>\n",
       "      <td>72.00</td>\n",
       "      <td>0</td>\n",
       "    </tr>\n",
       "    <tr>\n",
       "      <th>159</th>\n",
       "      <td>2.0</td>\n",
       "      <td>74.73</td>\n",
       "      <td>1</td>\n",
       "    </tr>\n",
       "    <tr>\n",
       "      <th>160</th>\n",
       "      <td>3.0</td>\n",
       "      <td>83.87</td>\n",
       "      <td>1</td>\n",
       "    </tr>\n",
       "    <tr>\n",
       "      <th>161</th>\n",
       "      <td>3.5</td>\n",
       "      <td>96.70</td>\n",
       "      <td>1</td>\n",
       "    </tr>\n",
       "  </tbody>\n",
       "</table>\n",
       "<p>157 rows × 3 columns</p>\n",
       "</div>"
      ],
      "text/plain": [
       "     time_lessons    GPA  attendance\n",
       "0             4.0  90.60           1\n",
       "1             7.0  84.50           0\n",
       "3             2.0  80.00           1\n",
       "4             7.0  98.50           1\n",
       "5             2.0  91.26           1\n",
       "..            ...    ...         ...\n",
       "157           1.5  92.27           1\n",
       "158          10.0  72.00           0\n",
       "159           2.0  74.73           1\n",
       "160           3.0  83.87           1\n",
       "161           3.5  96.70           1\n",
       "\n",
       "[157 rows x 3 columns]"
      ]
     },
     "execution_count": 16,
     "metadata": {},
     "output_type": "execute_result"
    }
   ],
   "source": [
    "df"
   ]
  },
  {
   "cell_type": "code",
   "execution_count": 17,
   "metadata": {},
   "outputs": [],
   "source": [
    "y=df.iloc[:,-1].values\n",
    "x=df.iloc[:,:-1].values"
   ]
  },
  {
   "cell_type": "code",
   "execution_count": 18,
   "metadata": {},
   "outputs": [
    {
     "data": {
      "text/plain": [
       "array([[ 4.  , 90.6 ],\n",
       "       [ 7.  , 84.5 ],\n",
       "       [ 2.  , 80.  ],\n",
       "       [ 7.  , 98.5 ],\n",
       "       [ 2.  , 91.26],\n",
       "       [ 2.5 , 80.  ],\n",
       "       [ 3.  , 86.  ],\n",
       "       [ 4.5 , 71.  ],\n",
       "       [ 4.5 , 82.  ],\n",
       "       [ 2.  , 85.33],\n",
       "       [ 8.5 , 95.56],\n",
       "       [ 1.5 , 92.3 ],\n",
       "       [ 2.5 , 72.  ],\n",
       "       [ 5.5 , 80.  ],\n",
       "       [ 3.5 , 75.7 ],\n",
       "       [ 1.5 , 88.83],\n",
       "       [ 6.  , 93.9 ],\n",
       "       [ 0.25, 90.11],\n",
       "       [ 0.3 , 47.  ],\n",
       "       [ 1.5 , 86.  ],\n",
       "       [ 2.  , 95.4 ],\n",
       "       [12.  , 89.5 ],\n",
       "       [12.5 , 80.  ],\n",
       "       [ 4.  , 76.63],\n",
       "       [ 2.  , 76.  ],\n",
       "       [ 1.5 , 91.73],\n",
       "       [ 9.  , 91.  ],\n",
       "       [ 2.5 , 80.  ],\n",
       "       [ 4.  , 77.  ],\n",
       "       [ 3.5 , 87.  ],\n",
       "       [ 1.5 , 81.  ],\n",
       "       [ 5.  , 84.  ],\n",
       "       [ 3.  , 94.2 ],\n",
       "       [ 1.5 , 80.  ],\n",
       "       [ 1.5 , 83.  ],\n",
       "       [ 4.5 , 77.2 ],\n",
       "       [ 5.  , 84.  ],\n",
       "       [ 2.  , 83.67],\n",
       "       [ 2.5 , 91.5 ],\n",
       "       [11.  , 77.  ],\n",
       "       [ 3.  , 87.  ],\n",
       "       [ 4.5 , 96.5 ],\n",
       "       [ 0.5 , 88.03],\n",
       "       [ 1.5 , 91.27],\n",
       "       [ 4.  , 91.  ],\n",
       "       [ 3.5 , 93.  ],\n",
       "       [ 6.5 , 90.  ],\n",
       "       [ 9.  , 84.03],\n",
       "       [ 1.5 , 92.  ],\n",
       "       [ 2.5 , 94.  ],\n",
       "       [ 3.  , 74.43],\n",
       "       [ 5.  , 96.4 ],\n",
       "       [ 8.  , 93.  ],\n",
       "       [ 2.5 , 97.3 ],\n",
       "       [ 8.  , 96.  ],\n",
       "       [ 4.5 , 90.5 ],\n",
       "       [ 8.  , 81.  ],\n",
       "       [ 3.5 , 80.  ],\n",
       "       [ 5.5 , 92.6 ],\n",
       "       [ 5.5 , 78.  ],\n",
       "       [ 4.  , 76.71],\n",
       "       [ 0.5 , 91.3 ],\n",
       "       [ 2.  , 91.33],\n",
       "       [ 7.5 , 74.  ],\n",
       "       [ 4.5 , 90.73],\n",
       "       [ 4.5 , 96.  ],\n",
       "       [ 2.5 , 76.  ],\n",
       "       [ 5.  , 91.4 ],\n",
       "       [ 8.5 , 81.  ],\n",
       "       [ 2.5 , 88.51],\n",
       "       [ 4.  , 89.  ],\n",
       "       [ 3.5 , 73.22],\n",
       "       [ 3.5 , 93.8 ],\n",
       "       [10.  , 92.85],\n",
       "       [ 1.5 , 94.8 ],\n",
       "       [ 4.5 , 80.  ],\n",
       "       [ 5.5 , 84.5 ],\n",
       "       [ 7.  , 79.47],\n",
       "       [ 2.5 , 87.72],\n",
       "       [ 3.5 , 93.33],\n",
       "       [ 2.  , 69.87],\n",
       "       [ 2.  , 83.  ],\n",
       "       [ 2.5 , 93.03],\n",
       "       [ 2.  , 75.83],\n",
       "       [11.5 , 88.  ],\n",
       "       [ 2.  , 77.5 ],\n",
       "       [ 8.  , 87.83],\n",
       "       [ 1.  , 91.5 ],\n",
       "       [ 4.  , 92.8 ],\n",
       "       [ 0.25, 93.  ],\n",
       "       [ 3.  , 92.2 ],\n",
       "       [ 3.5 , 78.2 ],\n",
       "       [12.5 , 70.  ],\n",
       "       [ 2.5 , 84.2 ],\n",
       "       [ 5.5 , 89.99],\n",
       "       [ 1.5 , 91.  ],\n",
       "       [ 3.  , 83.67],\n",
       "       [ 2.5 , 89.43],\n",
       "       [ 5.  , 84.  ],\n",
       "       [ 4.  , 91.33],\n",
       "       [ 3.  , 91.  ],\n",
       "       [ 3.  , 90.56],\n",
       "       [ 1.  , 89.  ],\n",
       "       [ 3.5 , 70.  ],\n",
       "       [ 4.5 , 89.  ],\n",
       "       [ 5.5 , 83.66],\n",
       "       [ 0.5 , 85.  ],\n",
       "       [ 9.  , 83.  ],\n",
       "       [ 5.5 , 82.  ],\n",
       "       [ 4.  , 76.71],\n",
       "       [ 0.5 , 83.  ],\n",
       "       [ 2.5 , 91.3 ],\n",
       "       [10.  , 85.27],\n",
       "       [ 5.  , 84.  ],\n",
       "       [ 3.  , 90.44],\n",
       "       [ 0.5 , 82.  ],\n",
       "       [10.5 , 98.67],\n",
       "       [ 4.  , 85.  ],\n",
       "       [ 8.  , 93.  ],\n",
       "       [ 0.5 , 80.  ],\n",
       "       [ 3.  , 81.  ],\n",
       "       [ 3.  , 90.5 ],\n",
       "       [ 0.5 , 84.  ],\n",
       "       [ 4.  , 83.63],\n",
       "       [ 5.  , 85.  ],\n",
       "       [ 3.  , 94.  ],\n",
       "       [ 0.5 , 82.  ],\n",
       "       [ 4.  , 82.  ],\n",
       "       [ 4.5 , 78.  ],\n",
       "       [ 2.  , 96.  ],\n",
       "       [ 6.  , 77.  ],\n",
       "       [ 3.  , 79.  ],\n",
       "       [ 4.  , 88.2 ],\n",
       "       [ 2.5 , 93.  ],\n",
       "       [ 6.  , 82.5 ],\n",
       "       [11.  , 98.6 ],\n",
       "       [ 2.  , 89.  ],\n",
       "       [ 1.5 , 87.  ],\n",
       "       [ 5.5 , 87.  ],\n",
       "       [ 1.5 , 92.6 ],\n",
       "       [ 0.5 , 83.  ],\n",
       "       [ 0.5 , 87.  ],\n",
       "       [ 1.5 , 93.  ],\n",
       "       [ 3.  , 80.3 ],\n",
       "       [ 1.5 , 71.  ],\n",
       "       [ 0.5 , 94.04],\n",
       "       [ 1.5 , 88.  ],\n",
       "       [ 2.5 , 95.  ],\n",
       "       [ 3.  , 93.17],\n",
       "       [ 5.  , 80.  ],\n",
       "       [ 2.  , 94.  ],\n",
       "       [ 2.  , 71.  ],\n",
       "       [ 1.5 , 92.27],\n",
       "       [10.  , 72.  ],\n",
       "       [ 2.  , 74.73],\n",
       "       [ 3.  , 83.87],\n",
       "       [ 3.5 , 96.7 ]])"
      ]
     },
     "execution_count": 18,
     "metadata": {},
     "output_type": "execute_result"
    }
   ],
   "source": [
    "x"
   ]
  },
  {
   "cell_type": "code",
   "execution_count": 19,
   "metadata": {},
   "outputs": [
    {
     "data": {
      "text/plain": [
       "array([1, 0, 1, 1, 1, 1, 1, 0, 0, 1, 1, 1, 1, 0, 1, 1, 1, 1, 1, 1, 1, 0,\n",
       "       0, 1, 1, 1, 1, 1, 0, 1, 1, 1, 1, 1, 1, 1, 0, 1, 1, 0, 1, 1, 1, 1,\n",
       "       1, 1, 1, 0, 1, 1, 1, 1, 1, 1, 1, 0, 0, 1, 1, 0, 0, 1, 1, 0, 0, 1,\n",
       "       1, 1, 1, 1, 1, 1, 1, 0, 1, 0, 0, 0, 1, 1, 1, 1, 1, 1, 0, 1, 0, 1,\n",
       "       1, 1, 1, 1, 0, 1, 0, 1, 1, 1, 0, 1, 1, 1, 1, 1, 1, 1, 1, 1, 0, 0,\n",
       "       1, 1, 0, 1, 1, 1, 1, 1, 1, 1, 1, 1, 1, 0, 1, 1, 1, 0, 0, 1, 1, 1,\n",
       "       0, 1, 0, 1, 1, 1, 1, 1, 1, 1, 1, 1, 1, 1, 1, 1, 1, 1, 1, 1, 1, 0,\n",
       "       1, 1, 1], dtype=int64)"
      ]
     },
     "execution_count": 19,
     "metadata": {},
     "output_type": "execute_result"
    }
   ],
   "source": [
    "y"
   ]
  },
  {
   "cell_type": "markdown",
   "metadata": {},
   "source": [
    "## Train and test split"
   ]
  },
  {
   "cell_type": "code",
   "execution_count": 20,
   "metadata": {},
   "outputs": [],
   "source": [
    "from sklearn.model_selection import train_test_split"
   ]
  },
  {
   "cell_type": "code",
   "execution_count": 21,
   "metadata": {},
   "outputs": [],
   "source": [
    "x_train, x_test, y_train, y_test = train_test_split(x, y, test_size = 0.2, random_state = 1)"
   ]
  },
  {
   "cell_type": "code",
   "execution_count": 22,
   "metadata": {},
   "outputs": [
    {
     "data": {
      "text/plain": [
       "numpy.ndarray"
      ]
     },
     "execution_count": 22,
     "metadata": {},
     "output_type": "execute_result"
    }
   ],
   "source": [
    "type(x_train)"
   ]
  },
  {
   "cell_type": "code",
   "execution_count": 23,
   "metadata": {},
   "outputs": [
    {
     "data": {
      "text/plain": [
       "numpy.ndarray"
      ]
     },
     "execution_count": 23,
     "metadata": {},
     "output_type": "execute_result"
    }
   ],
   "source": [
    "type(y_train)"
   ]
  },
  {
   "cell_type": "code",
   "execution_count": 24,
   "metadata": {
    "scrolled": true
   },
   "outputs": [
    {
     "data": {
      "text/plain": [
       "array([[ 2.5 , 76.  ],\n",
       "       [ 1.5 , 80.  ],\n",
       "       [ 0.5 , 87.  ],\n",
       "       [ 5.5 , 78.  ],\n",
       "       [ 4.  , 82.  ],\n",
       "       [ 3.  , 79.  ],\n",
       "       [ 5.  , 80.  ],\n",
       "       [ 3.  , 94.  ],\n",
       "       [ 5.5 , 92.6 ],\n",
       "       [ 4.  , 77.  ],\n",
       "       [ 5.  , 85.  ],\n",
       "       [ 2.5 , 91.3 ],\n",
       "       [ 8.  , 96.  ],\n",
       "       [ 0.25, 90.11],\n",
       "       [10.  , 92.85],\n",
       "       [ 4.5 , 89.  ],\n",
       "       [11.  , 98.6 ],\n",
       "       [ 7.  , 79.47],\n",
       "       [ 0.3 , 47.  ],\n",
       "       [ 1.5 , 92.  ],\n",
       "       [ 2.  , 91.26],\n",
       "       [ 3.5 , 93.  ],\n",
       "       [ 1.  , 89.  ],\n",
       "       [11.  , 77.  ],\n",
       "       [ 5.  , 84.  ],\n",
       "       [ 3.  , 81.  ],\n",
       "       [ 0.5 , 94.04],\n",
       "       [ 0.5 , 83.  ],\n",
       "       [ 2.5 , 72.  ],\n",
       "       [ 1.5 , 92.3 ],\n",
       "       [ 2.  , 77.5 ],\n",
       "       [ 0.5 , 82.  ],\n",
       "       [ 2.5 , 89.43],\n",
       "       [10.5 , 98.67],\n",
       "       [ 2.  , 80.  ],\n",
       "       [ 9.  , 83.  ],\n",
       "       [ 3.  , 86.  ],\n",
       "       [ 4.  , 90.6 ],\n",
       "       [ 5.  , 84.  ],\n",
       "       [ 4.5 , 96.  ],\n",
       "       [ 4.5 , 90.5 ],\n",
       "       [ 2.  , 83.  ],\n",
       "       [11.5 , 88.  ],\n",
       "       [ 6.5 , 90.  ],\n",
       "       [ 2.  , 91.33],\n",
       "       [ 1.5 , 94.8 ],\n",
       "       [ 0.5 , 80.  ],\n",
       "       [ 1.5 , 91.  ],\n",
       "       [ 3.5 , 70.  ],\n",
       "       [ 3.5 , 78.2 ],\n",
       "       [ 8.5 , 95.56],\n",
       "       [ 1.5 , 83.  ],\n",
       "       [ 3.  , 94.2 ],\n",
       "       [ 6.  , 77.  ],\n",
       "       [ 2.5 , 91.5 ],\n",
       "       [ 2.  , 75.83],\n",
       "       [ 3.  , 90.44],\n",
       "       [ 3.5 , 96.7 ],\n",
       "       [ 2.5 , 80.  ],\n",
       "       [ 4.  , 76.63],\n",
       "       [ 5.  , 91.4 ],\n",
       "       [ 2.  , 85.33],\n",
       "       [ 1.5 , 92.27],\n",
       "       [ 3.  , 91.  ],\n",
       "       [ 5.5 , 82.  ],\n",
       "       [ 2.  , 89.  ],\n",
       "       [ 1.  , 91.5 ],\n",
       "       [ 5.  , 84.  ],\n",
       "       [ 1.5 , 88.  ],\n",
       "       [10.  , 85.27],\n",
       "       [ 4.5 , 90.73],\n",
       "       [ 1.5 , 88.83],\n",
       "       [ 2.5 , 93.03],\n",
       "       [ 4.5 , 96.5 ],\n",
       "       [ 2.  , 69.87],\n",
       "       [ 8.  , 93.  ],\n",
       "       [ 9.  , 91.  ],\n",
       "       [ 5.5 , 84.5 ],\n",
       "       [ 1.5 , 91.27],\n",
       "       [ 2.  , 76.  ],\n",
       "       [ 3.  , 83.87],\n",
       "       [ 8.  , 93.  ],\n",
       "       [ 4.  , 88.2 ],\n",
       "       [ 2.5 , 94.  ],\n",
       "       [12.  , 89.5 ],\n",
       "       [ 4.  , 89.  ],\n",
       "       [ 7.  , 98.5 ],\n",
       "       [ 3.  , 93.17],\n",
       "       [ 1.5 , 81.  ],\n",
       "       [ 2.  , 74.73],\n",
       "       [ 3.  , 90.5 ],\n",
       "       [ 0.5 , 85.  ],\n",
       "       [ 9.  , 84.03],\n",
       "       [ 0.5 , 82.  ],\n",
       "       [ 5.5 , 80.  ],\n",
       "       [ 4.  , 92.8 ],\n",
       "       [ 4.5 , 82.  ],\n",
       "       [ 4.  , 76.71],\n",
       "       [ 4.5 , 78.  ],\n",
       "       [ 7.  , 84.5 ],\n",
       "       [ 3.5 , 80.  ],\n",
       "       [12.5 , 80.  ],\n",
       "       [ 0.5 , 91.3 ],\n",
       "       [ 7.5 , 74.  ],\n",
       "       [ 4.5 , 71.  ],\n",
       "       [10.  , 72.  ],\n",
       "       [ 8.  , 87.83],\n",
       "       [ 3.  , 83.67],\n",
       "       [ 8.5 , 81.  ],\n",
       "       [ 3.  , 74.43],\n",
       "       [ 1.5 , 93.  ],\n",
       "       [ 1.5 , 92.6 ],\n",
       "       [ 3.  , 90.56],\n",
       "       [ 2.  , 95.4 ],\n",
       "       [ 1.5 , 91.73],\n",
       "       [ 6.  , 82.5 ],\n",
       "       [ 3.5 , 73.22],\n",
       "       [ 2.  , 96.  ],\n",
       "       [ 1.5 , 71.  ],\n",
       "       [ 3.5 , 93.33],\n",
       "       [ 2.5 , 93.  ],\n",
       "       [ 1.5 , 87.  ],\n",
       "       [ 3.5 , 93.8 ],\n",
       "       [ 0.5 , 83.  ],\n",
       "       [ 2.  , 83.67]])"
      ]
     },
     "execution_count": 24,
     "metadata": {},
     "output_type": "execute_result"
    }
   ],
   "source": [
    "x_train"
   ]
  },
  {
   "cell_type": "code",
   "execution_count": 25,
   "metadata": {},
   "outputs": [
    {
     "data": {
      "text/plain": [
       "array([1, 1, 1, 0, 0, 1, 1, 1, 1, 0, 1, 1, 1, 1, 0, 1, 1, 0, 1, 1, 1, 1,\n",
       "       1, 0, 0, 1, 1, 1, 1, 1, 1, 1, 1, 1, 1, 1, 1, 1, 1, 1, 0, 1, 0, 1,\n",
       "       1, 1, 1, 1, 1, 1, 1, 1, 1, 1, 1, 1, 1, 1, 1, 1, 1, 1, 1, 1, 0, 1,\n",
       "       1, 0, 1, 0, 0, 1, 1, 1, 1, 1, 1, 0, 1, 1, 1, 1, 0, 1, 0, 1, 1, 1,\n",
       "       1, 1, 1, 1, 0, 1, 0, 1, 0, 0, 0, 0, 1, 0, 1, 0, 0, 0, 0, 1, 1, 1,\n",
       "       1, 1, 1, 1, 1, 0, 1, 1, 1, 1, 1, 1, 1, 1, 1], dtype=int64)"
      ]
     },
     "execution_count": 25,
     "metadata": {},
     "output_type": "execute_result"
    }
   ],
   "source": [
    "y_train"
   ]
  },
  {
   "cell_type": "markdown",
   "metadata": {},
   "source": [
    "## Scaling the data"
   ]
  },
  {
   "cell_type": "code",
   "execution_count": 26,
   "metadata": {},
   "outputs": [],
   "source": [
    "from sklearn.preprocessing import StandardScaler"
   ]
  },
  {
   "cell_type": "code",
   "execution_count": 27,
   "metadata": {},
   "outputs": [],
   "source": [
    "scaled=StandardScaler()"
   ]
  },
  {
   "cell_type": "code",
   "execution_count": 28,
   "metadata": {},
   "outputs": [],
   "source": [
    "x_train_scaled=scaled.fit_transform(x_train)\n",
    "x_test_scaled=scaled.transform(x_test)"
   ]
  },
  {
   "cell_type": "code",
   "execution_count": 29,
   "metadata": {},
   "outputs": [
    {
     "data": {
      "text/plain": [
       "array([[-0.50766639, -1.22569969],\n",
       "       [-0.85433834, -0.72273298],\n",
       "       [-1.20101028,  0.15745876],\n",
       "       [ 0.53234944, -0.97421634],\n",
       "       [ 0.01234152, -0.47124963],\n",
       "       [-0.33433042, -0.84847466],\n",
       "       [ 0.35901346, -0.72273298],\n",
       "       [-0.33433042,  1.0376505 ],\n",
       "       [ 0.53234944,  0.86161215],\n",
       "       [ 0.01234152, -1.09995802],\n",
       "       [ 0.35901346, -0.0940246 ],\n",
       "       [-0.50766639,  0.69814797],\n",
       "       [ 1.39902929,  1.28913386],\n",
       "       [-1.28767826,  0.54851538],\n",
       "       [ 2.09237318,  0.89304757],\n",
       "       [ 0.18567749,  0.40894211],\n",
       "       [ 2.43904512,  1.61606222],\n",
       "       [ 1.05235735, -0.78937607],\n",
       "       [-1.27034467, -4.87220834],\n",
       "       [-0.85433834,  0.78616715],\n",
       "       [-0.68100236,  0.6931183 ],\n",
       "       [-0.16099445,  0.91190882],\n",
       "       [-1.02767431,  0.40894211],\n",
       "       [ 2.43904512, -1.09995802],\n",
       "       [ 0.35901346, -0.21976627],\n",
       "       [-0.33433042, -0.59699131],\n",
       "       [-1.20101028,  1.04268017],\n",
       "       [-1.20101028, -0.34550795],\n",
       "       [-0.50766639, -1.7286664 ],\n",
       "       [-0.85433834,  0.82388965],\n",
       "       [-0.68100236, -1.03708718],\n",
       "       [-1.20101028, -0.47124963],\n",
       "       [-0.50766639,  0.46301103],\n",
       "       [ 2.26570915,  1.62486414],\n",
       "       [-0.68100236, -0.72273298],\n",
       "       [ 1.74570123, -0.34550795],\n",
       "       [-0.33433042,  0.03171708],\n",
       "       [ 0.01234152,  0.6101288 ],\n",
       "       [ 0.35901346, -0.21976627],\n",
       "       [ 0.18567749,  1.28913386],\n",
       "       [ 0.18567749,  0.59755463],\n",
       "       [-0.68100236, -0.34550795],\n",
       "       [ 2.61238109,  0.28320044],\n",
       "       [ 0.87902138,  0.53468379],\n",
       "       [-0.68100236,  0.70192022],\n",
       "       [-0.85433834,  1.13824384],\n",
       "       [-1.20101028, -0.72273298],\n",
       "       [-0.85433834,  0.66042547],\n",
       "       [-0.16099445, -1.98014976],\n",
       "       [-0.16099445, -0.949068  ],\n",
       "       [ 1.57236526,  1.23380752],\n",
       "       [-0.85433834, -0.34550795],\n",
       "       [-0.33433042,  1.06279884],\n",
       "       [ 0.70568541, -1.09995802],\n",
       "       [-0.50766639,  0.72329631],\n",
       "       [-0.68100236, -1.24707578],\n",
       "       [-0.33433042,  0.59001013],\n",
       "       [-0.16099445,  1.37715303],\n",
       "       [-0.50766639, -0.72273298],\n",
       "       [ 0.01234152, -1.14648244],\n",
       "       [ 0.35901346,  0.71072214],\n",
       "       [-0.68100236, -0.05252984],\n",
       "       [-0.85433834,  0.8201174 ],\n",
       "       [-0.33433042,  0.66042547],\n",
       "       [ 0.53234944, -0.47124963],\n",
       "       [-0.68100236,  0.40894211],\n",
       "       [-1.02767431,  0.72329631],\n",
       "       [ 0.35901346, -0.21976627],\n",
       "       [-0.85433834,  0.28320044],\n",
       "       [ 2.09237318, -0.06007434],\n",
       "       [ 0.18567749,  0.62647522],\n",
       "       [-0.85433834,  0.38756603],\n",
       "       [-0.50766639,  0.91568107],\n",
       "       [ 0.18567749,  1.35200469],\n",
       "       [-0.68100236, -1.99649618],\n",
       "       [ 1.39902929,  0.91190882],\n",
       "       [ 1.74570123,  0.66042547],\n",
       "       [ 0.53234944, -0.15689544],\n",
       "       [-0.85433834,  0.69437572],\n",
       "       [-0.68100236, -1.22569969],\n",
       "       [-0.33433042, -0.23611269],\n",
       "       [ 1.39902929,  0.91190882],\n",
       "       [ 0.01234152,  0.30834877],\n",
       "       [-0.50766639,  1.0376505 ],\n",
       "       [ 2.78571706,  0.47181295],\n",
       "       [ 0.01234152,  0.40894211],\n",
       "       [ 1.05235735,  1.60348805],\n",
       "       [-0.33433042,  0.93328491],\n",
       "       [-0.85433834, -0.59699131],\n",
       "       [-0.68100236, -1.38539162],\n",
       "       [-0.33433042,  0.59755463],\n",
       "       [-1.20101028, -0.0940246 ],\n",
       "       [ 1.74570123, -0.21599402],\n",
       "       [-1.20101028, -0.47124963],\n",
       "       [ 0.53234944, -0.72273298],\n",
       "       [ 0.01234152,  0.88676049],\n",
       "       [ 0.18567749, -0.47124963],\n",
       "       [ 0.01234152, -1.1364231 ],\n",
       "       [ 0.18567749, -0.97421634],\n",
       "       [ 1.05235735, -0.15689544],\n",
       "       [-0.16099445, -0.72273298],\n",
       "       [ 2.95905303, -0.72273298],\n",
       "       [-1.20101028,  0.69814797],\n",
       "       [ 1.22569332, -1.47718305],\n",
       "       [ 0.18567749, -1.85440808],\n",
       "       [ 2.09237318, -1.7286664 ],\n",
       "       [ 1.39902929,  0.26182435],\n",
       "       [-0.33433042, -0.26126103],\n",
       "       [ 1.57236526, -0.59699131],\n",
       "       [-0.33433042, -1.42311413],\n",
       "       [-0.85433834,  0.91190882],\n",
       "       [-0.85433834,  0.86161215],\n",
       "       [-0.33433042,  0.60509913],\n",
       "       [-0.68100236,  1.21368885],\n",
       "       [-0.85433834,  0.75221689],\n",
       "       [ 0.70568541, -0.40837879],\n",
       "       [-0.16099445, -1.57526156],\n",
       "       [-0.68100236,  1.28913386],\n",
       "       [-0.85433834, -1.85440808],\n",
       "       [-0.16099445,  0.95340358],\n",
       "       [-0.50766639,  0.91190882],\n",
       "       [-0.85433834,  0.15745876],\n",
       "       [-0.16099445,  1.01250217],\n",
       "       [-1.20101028, -0.34550795],\n",
       "       [-0.68100236, -0.26126103]])"
      ]
     },
     "execution_count": 29,
     "metadata": {},
     "output_type": "execute_result"
    }
   ],
   "source": [
    "x_train_scaled"
   ]
  },
  {
   "cell_type": "markdown",
   "metadata": {},
   "source": [
    "## Logistic Regression model on training set"
   ]
  },
  {
   "cell_type": "code",
   "execution_count": 30,
   "metadata": {},
   "outputs": [],
   "source": [
    "from sklearn.linear_model import LogisticRegression"
   ]
  },
  {
   "cell_type": "code",
   "execution_count": 31,
   "metadata": {},
   "outputs": [
    {
     "data": {
      "text/plain": [
       "LogisticRegression(C=1.0, class_weight=None, dual=False, fit_intercept=True,\n",
       "                   intercept_scaling=1, l1_ratio=None, max_iter=100,\n",
       "                   multi_class='warn', n_jobs=None, penalty='l2',\n",
       "                   random_state=0, solver='warn', tol=0.0001, verbose=0,\n",
       "                   warm_start=False)"
      ]
     },
     "execution_count": 31,
     "metadata": {},
     "output_type": "execute_result"
    }
   ],
   "source": [
    "clas = LogisticRegression(random_state = 0)\n",
    "clas.fit(x_train_scaled, y_train)"
   ]
  },
  {
   "cell_type": "markdown",
   "metadata": {},
   "source": [
    "## Predicting training results"
   ]
  },
  {
   "cell_type": "code",
   "execution_count": 32,
   "metadata": {},
   "outputs": [
    {
     "data": {
      "text/plain": [
       "array([1], dtype=int64)"
      ]
     },
     "execution_count": 32,
     "metadata": {},
     "output_type": "execute_result"
    }
   ],
   "source": [
    "clas.predict(([[5,96]]))"
   ]
  },
  {
   "cell_type": "code",
   "execution_count": 33,
   "metadata": {},
   "outputs": [],
   "source": [
    "# Previously we had to transform values because values were scaled"
   ]
  },
  {
   "cell_type": "code",
   "execution_count": 34,
   "metadata": {},
   "outputs": [
    {
     "data": {
      "text/plain": [
       "array([[0.35901346, 1.28913386]])"
      ]
     },
     "execution_count": 34,
     "metadata": {},
     "output_type": "execute_result"
    }
   ],
   "source": [
    "scaled.transform(([[5,96]]))"
   ]
  },
  {
   "cell_type": "code",
   "execution_count": 35,
   "metadata": {},
   "outputs": [
    {
     "data": {
      "text/plain": [
       "array([1], dtype=int64)"
      ]
     },
     "execution_count": 35,
     "metadata": {},
     "output_type": "execute_result"
    }
   ],
   "source": [
    "clas.predict(([[0.48213316, 1.59691169]]))"
   ]
  },
  {
   "cell_type": "code",
   "execution_count": 36,
   "metadata": {},
   "outputs": [
    {
     "data": {
      "text/plain": [
       "array([1], dtype=int64)"
      ]
     },
     "execution_count": 36,
     "metadata": {},
     "output_type": "execute_result"
    }
   ],
   "source": [
    "clas.predict(scaled.transform(([[5,96]])))"
   ]
  },
  {
   "cell_type": "markdown",
   "metadata": {},
   "source": [
    "## Predicting test results"
   ]
  },
  {
   "cell_type": "code",
   "execution_count": 37,
   "metadata": {},
   "outputs": [],
   "source": [
    "y_pred=clas.predict(x_test_scaled)"
   ]
  },
  {
   "cell_type": "code",
   "execution_count": 38,
   "metadata": {},
   "outputs": [
    {
     "data": {
      "text/plain": [
       "array([1, 1, 1, 1, 1, 1, 1, 1, 1, 1, 1, 1, 0, 1, 1, 1, 1, 1, 1, 1, 0, 1,\n",
       "       1, 1, 1, 1, 1, 1, 1, 1, 1, 1], dtype=int64)"
      ]
     },
     "execution_count": 38,
     "metadata": {},
     "output_type": "execute_result"
    }
   ],
   "source": [
    "y_pred"
   ]
  },
  {
   "cell_type": "code",
   "execution_count": 39,
   "metadata": {},
   "outputs": [
    {
     "data": {
      "text/plain": [
       "array([[ 4.  , 85.  ],\n",
       "       [ 4.5 , 80.  ],\n",
       "       [ 5.  , 96.4 ],\n",
       "       [ 5.  , 84.  ],\n",
       "       [ 4.5 , 77.2 ],\n",
       "       [ 3.  , 87.  ],\n",
       "       [ 3.5 , 75.7 ],\n",
       "       [ 4.  , 76.71],\n",
       "       [ 2.5 , 97.3 ],\n",
       "       [ 2.5 , 95.  ],\n",
       "       [ 2.  , 71.  ],\n",
       "       [ 2.5 , 87.72],\n",
       "       [12.5 , 70.  ],\n",
       "       [ 3.  , 92.2 ],\n",
       "       [ 0.25, 93.  ],\n",
       "       [ 2.5 , 80.  ],\n",
       "       [ 4.  , 83.63],\n",
       "       [ 6.  , 93.9 ],\n",
       "       [ 1.5 , 86.  ],\n",
       "       [ 3.5 , 87.  ],\n",
       "       [ 8.  , 81.  ],\n",
       "       [ 2.  , 94.  ],\n",
       "       [ 3.  , 80.3 ],\n",
       "       [ 4.  , 91.33],\n",
       "       [ 2.5 , 84.2 ],\n",
       "       [ 2.5 , 88.51],\n",
       "       [ 5.5 , 89.99],\n",
       "       [ 0.5 , 88.03],\n",
       "       [ 0.5 , 84.  ],\n",
       "       [ 4.  , 91.  ],\n",
       "       [ 5.5 , 83.66],\n",
       "       [ 5.5 , 87.  ]])"
      ]
     },
     "execution_count": 39,
     "metadata": {},
     "output_type": "execute_result"
    }
   ],
   "source": [
    "x_test"
   ]
  },
  {
   "cell_type": "code",
   "execution_count": 40,
   "metadata": {},
   "outputs": [
    {
     "data": {
      "text/plain": [
       "numpy.ndarray"
      ]
     },
     "execution_count": 40,
     "metadata": {},
     "output_type": "execute_result"
    }
   ],
   "source": [
    "type(y_pred)"
   ]
  },
  {
   "cell_type": "markdown",
   "metadata": {},
   "source": [
    "## Confusion Matrix "
   ]
  },
  {
   "cell_type": "code",
   "execution_count": 41,
   "metadata": {},
   "outputs": [
    {
     "data": {
      "text/plain": [
       "array([1, 0, 1, 1, 1, 1, 1, 0, 1, 1, 1, 1, 0, 1, 1, 1, 0, 1, 1, 1, 0, 1,\n",
       "       1, 1, 1, 1, 0, 1, 1, 1, 1, 1], dtype=int64)"
      ]
     },
     "execution_count": 41,
     "metadata": {},
     "output_type": "execute_result"
    }
   ],
   "source": [
    "y_test"
   ]
  },
  {
   "cell_type": "code",
   "execution_count": 42,
   "metadata": {},
   "outputs": [
    {
     "data": {
      "text/plain": [
       "array([1, 1, 1, 1, 1, 1, 1, 1, 1, 1, 1, 1, 0, 1, 1, 1, 1, 1, 1, 1, 0, 1,\n",
       "       1, 1, 1, 1, 1, 1, 1, 1, 1, 1], dtype=int64)"
      ]
     },
     "execution_count": 42,
     "metadata": {},
     "output_type": "execute_result"
    }
   ],
   "source": [
    "y_pred"
   ]
  },
  {
   "cell_type": "code",
   "execution_count": 43,
   "metadata": {},
   "outputs": [],
   "source": [
    "data={\"Original values (y_test)\": y_test,\n",
    "      \"Predicted values (y_pred)\": y_pred}"
   ]
  },
  {
   "cell_type": "code",
   "execution_count": 44,
   "metadata": {},
   "outputs": [],
   "source": [
    "data_=pd.DataFrame(data)"
   ]
  },
  {
   "cell_type": "code",
   "execution_count": 45,
   "metadata": {},
   "outputs": [
    {
     "data": {
      "text/html": [
       "<div>\n",
       "<style scoped>\n",
       "    .dataframe tbody tr th:only-of-type {\n",
       "        vertical-align: middle;\n",
       "    }\n",
       "\n",
       "    .dataframe tbody tr th {\n",
       "        vertical-align: top;\n",
       "    }\n",
       "\n",
       "    .dataframe thead th {\n",
       "        text-align: right;\n",
       "    }\n",
       "</style>\n",
       "<table border=\"1\" class=\"dataframe\">\n",
       "  <thead>\n",
       "    <tr style=\"text-align: right;\">\n",
       "      <th></th>\n",
       "      <th>Original values (y_test)</th>\n",
       "      <th>Predicted values (y_pred)</th>\n",
       "    </tr>\n",
       "  </thead>\n",
       "  <tbody>\n",
       "    <tr>\n",
       "      <th>0</th>\n",
       "      <td>1</td>\n",
       "      <td>1</td>\n",
       "    </tr>\n",
       "    <tr>\n",
       "      <th>1</th>\n",
       "      <td>0</td>\n",
       "      <td>1</td>\n",
       "    </tr>\n",
       "    <tr>\n",
       "      <th>2</th>\n",
       "      <td>1</td>\n",
       "      <td>1</td>\n",
       "    </tr>\n",
       "    <tr>\n",
       "      <th>3</th>\n",
       "      <td>1</td>\n",
       "      <td>1</td>\n",
       "    </tr>\n",
       "    <tr>\n",
       "      <th>4</th>\n",
       "      <td>1</td>\n",
       "      <td>1</td>\n",
       "    </tr>\n",
       "    <tr>\n",
       "      <th>5</th>\n",
       "      <td>1</td>\n",
       "      <td>1</td>\n",
       "    </tr>\n",
       "    <tr>\n",
       "      <th>6</th>\n",
       "      <td>1</td>\n",
       "      <td>1</td>\n",
       "    </tr>\n",
       "    <tr>\n",
       "      <th>7</th>\n",
       "      <td>0</td>\n",
       "      <td>1</td>\n",
       "    </tr>\n",
       "    <tr>\n",
       "      <th>8</th>\n",
       "      <td>1</td>\n",
       "      <td>1</td>\n",
       "    </tr>\n",
       "    <tr>\n",
       "      <th>9</th>\n",
       "      <td>1</td>\n",
       "      <td>1</td>\n",
       "    </tr>\n",
       "    <tr>\n",
       "      <th>10</th>\n",
       "      <td>1</td>\n",
       "      <td>1</td>\n",
       "    </tr>\n",
       "    <tr>\n",
       "      <th>11</th>\n",
       "      <td>1</td>\n",
       "      <td>1</td>\n",
       "    </tr>\n",
       "    <tr>\n",
       "      <th>12</th>\n",
       "      <td>0</td>\n",
       "      <td>0</td>\n",
       "    </tr>\n",
       "    <tr>\n",
       "      <th>13</th>\n",
       "      <td>1</td>\n",
       "      <td>1</td>\n",
       "    </tr>\n",
       "    <tr>\n",
       "      <th>14</th>\n",
       "      <td>1</td>\n",
       "      <td>1</td>\n",
       "    </tr>\n",
       "    <tr>\n",
       "      <th>15</th>\n",
       "      <td>1</td>\n",
       "      <td>1</td>\n",
       "    </tr>\n",
       "    <tr>\n",
       "      <th>16</th>\n",
       "      <td>0</td>\n",
       "      <td>1</td>\n",
       "    </tr>\n",
       "    <tr>\n",
       "      <th>17</th>\n",
       "      <td>1</td>\n",
       "      <td>1</td>\n",
       "    </tr>\n",
       "    <tr>\n",
       "      <th>18</th>\n",
       "      <td>1</td>\n",
       "      <td>1</td>\n",
       "    </tr>\n",
       "    <tr>\n",
       "      <th>19</th>\n",
       "      <td>1</td>\n",
       "      <td>1</td>\n",
       "    </tr>\n",
       "    <tr>\n",
       "      <th>20</th>\n",
       "      <td>0</td>\n",
       "      <td>0</td>\n",
       "    </tr>\n",
       "    <tr>\n",
       "      <th>21</th>\n",
       "      <td>1</td>\n",
       "      <td>1</td>\n",
       "    </tr>\n",
       "    <tr>\n",
       "      <th>22</th>\n",
       "      <td>1</td>\n",
       "      <td>1</td>\n",
       "    </tr>\n",
       "    <tr>\n",
       "      <th>23</th>\n",
       "      <td>1</td>\n",
       "      <td>1</td>\n",
       "    </tr>\n",
       "    <tr>\n",
       "      <th>24</th>\n",
       "      <td>1</td>\n",
       "      <td>1</td>\n",
       "    </tr>\n",
       "    <tr>\n",
       "      <th>25</th>\n",
       "      <td>1</td>\n",
       "      <td>1</td>\n",
       "    </tr>\n",
       "    <tr>\n",
       "      <th>26</th>\n",
       "      <td>0</td>\n",
       "      <td>1</td>\n",
       "    </tr>\n",
       "    <tr>\n",
       "      <th>27</th>\n",
       "      <td>1</td>\n",
       "      <td>1</td>\n",
       "    </tr>\n",
       "    <tr>\n",
       "      <th>28</th>\n",
       "      <td>1</td>\n",
       "      <td>1</td>\n",
       "    </tr>\n",
       "    <tr>\n",
       "      <th>29</th>\n",
       "      <td>1</td>\n",
       "      <td>1</td>\n",
       "    </tr>\n",
       "    <tr>\n",
       "      <th>30</th>\n",
       "      <td>1</td>\n",
       "      <td>1</td>\n",
       "    </tr>\n",
       "    <tr>\n",
       "      <th>31</th>\n",
       "      <td>1</td>\n",
       "      <td>1</td>\n",
       "    </tr>\n",
       "  </tbody>\n",
       "</table>\n",
       "</div>"
      ],
      "text/plain": [
       "    Original values (y_test)  Predicted values (y_pred)\n",
       "0                          1                          1\n",
       "1                          0                          1\n",
       "2                          1                          1\n",
       "3                          1                          1\n",
       "4                          1                          1\n",
       "5                          1                          1\n",
       "6                          1                          1\n",
       "7                          0                          1\n",
       "8                          1                          1\n",
       "9                          1                          1\n",
       "10                         1                          1\n",
       "11                         1                          1\n",
       "12                         0                          0\n",
       "13                         1                          1\n",
       "14                         1                          1\n",
       "15                         1                          1\n",
       "16                         0                          1\n",
       "17                         1                          1\n",
       "18                         1                          1\n",
       "19                         1                          1\n",
       "20                         0                          0\n",
       "21                         1                          1\n",
       "22                         1                          1\n",
       "23                         1                          1\n",
       "24                         1                          1\n",
       "25                         1                          1\n",
       "26                         0                          1\n",
       "27                         1                          1\n",
       "28                         1                          1\n",
       "29                         1                          1\n",
       "30                         1                          1\n",
       "31                         1                          1"
      ]
     },
     "execution_count": 45,
     "metadata": {},
     "output_type": "execute_result"
    }
   ],
   "source": [
    "data_"
   ]
  },
  {
   "cell_type": "code",
   "execution_count": 46,
   "metadata": {},
   "outputs": [],
   "source": [
    "confusion_matrix=pd.crosstab(data_['Original values (y_test)'],data_['Predicted values (y_pred)'],\n",
    "                            rownames=['Original values'], colnames=['Predicted values'])"
   ]
  },
  {
   "cell_type": "code",
   "execution_count": 47,
   "metadata": {},
   "outputs": [
    {
     "data": {
      "text/html": [
       "<div>\n",
       "<style scoped>\n",
       "    .dataframe tbody tr th:only-of-type {\n",
       "        vertical-align: middle;\n",
       "    }\n",
       "\n",
       "    .dataframe tbody tr th {\n",
       "        vertical-align: top;\n",
       "    }\n",
       "\n",
       "    .dataframe thead th {\n",
       "        text-align: right;\n",
       "    }\n",
       "</style>\n",
       "<table border=\"1\" class=\"dataframe\">\n",
       "  <thead>\n",
       "    <tr style=\"text-align: right;\">\n",
       "      <th>Predicted values</th>\n",
       "      <th>0</th>\n",
       "      <th>1</th>\n",
       "    </tr>\n",
       "    <tr>\n",
       "      <th>Original values</th>\n",
       "      <th></th>\n",
       "      <th></th>\n",
       "    </tr>\n",
       "  </thead>\n",
       "  <tbody>\n",
       "    <tr>\n",
       "      <th>0</th>\n",
       "      <td>2</td>\n",
       "      <td>4</td>\n",
       "    </tr>\n",
       "    <tr>\n",
       "      <th>1</th>\n",
       "      <td>0</td>\n",
       "      <td>26</td>\n",
       "    </tr>\n",
       "  </tbody>\n",
       "</table>\n",
       "</div>"
      ],
      "text/plain": [
       "Predicted values  0   1\n",
       "Original values        \n",
       "0                 2   4\n",
       "1                 0  26"
      ]
     },
     "execution_count": 47,
     "metadata": {},
     "output_type": "execute_result"
    }
   ],
   "source": [
    "confusion_matrix"
   ]
  },
  {
   "cell_type": "code",
   "execution_count": 48,
   "metadata": {},
   "outputs": [],
   "source": [
    "import seaborn as sn"
   ]
  },
  {
   "cell_type": "code",
   "execution_count": 49,
   "metadata": {
    "scrolled": false
   },
   "outputs": [
    {
     "data": {
      "text/plain": [
       "<matplotlib.axes._subplots.AxesSubplot at 0xb065af0>"
      ]
     },
     "execution_count": 49,
     "metadata": {},
     "output_type": "execute_result"
    },
    {
     "data": {
      "image/png": "[encoded data removed]",
      "text/plain": [
       "<Figure size 432x288 with 2 Axes>"
      ]
     },
     "metadata": {
      "needs_background": "light"
     },
     "output_type": "display_data"
    }
   ],
   "source": [
    "sn.heatmap(confusion_matrix, annot=True)"
   ]
  },
  {
   "cell_type": "code",
   "execution_count": 50,
   "metadata": {},
   "outputs": [
    {
     "data": {
      "text/plain": [
       "2"
      ]
     },
     "execution_count": 50,
     "metadata": {},
     "output_type": "execute_result"
    }
   ],
   "source": [
    "len(y_pred[y_pred==0])"
   ]
  },
  {
   "cell_type": "code",
   "execution_count": 51,
   "metadata": {},
   "outputs": [
    {
     "data": {
      "text/plain": [
       "30"
      ]
     },
     "execution_count": 51,
     "metadata": {},
     "output_type": "execute_result"
    }
   ],
   "source": [
    "len(y_pred[y_pred==1])"
   ]
  },
  {
   "cell_type": "markdown",
   "metadata": {},
   "source": [
    "## Accuracy Score"
   ]
  },
  {
   "cell_type": "code",
   "execution_count": 52,
   "metadata": {},
   "outputs": [],
   "source": [
    "from sklearn.metrics import accuracy_score"
   ]
  },
  {
   "cell_type": "code",
   "execution_count": 53,
   "metadata": {},
   "outputs": [
    {
     "name": "stdout",
     "output_type": "stream",
     "text": [
      "Accuracy Score:  0.875\n"
     ]
    }
   ],
   "source": [
    "print(\"Accuracy Score: \",accuracy_score(y_test,y_pred))"
   ]
  },
  {
   "cell_type": "markdown",
   "metadata": {},
   "source": [
    "## Visualization of Logistic Regression on training set"
   ]
  },
  {
   "cell_type": "code",
   "execution_count": 54,
   "metadata": {},
   "outputs": [],
   "source": [
    "from matplotlib.colors import ListedColormap"
   ]
  },
  {
   "cell_type": "code",
   "execution_count": 55,
   "metadata": {},
   "outputs": [
    {
     "name": "stderr",
     "output_type": "stream",
     "text": [
      "'c' argument looks like a single numeric RGB or RGBA sequence, which should be avoided as value-mapping will have precedence in case its length matches with 'x' & 'y'.  Please use a 2-D array with a single row if you really want to specify the same RGB or RGBA value for all points.\n",
      "'c' argument looks like a single numeric RGB or RGBA sequence, which should be avoided as value-mapping will have precedence in case its length matches with 'x' & 'y'.  Please use a 2-D array with a single row if you really want to specify the same RGB or RGBA value for all points.\n"
     ]
    },
    {
     "data": {
      "image/png": "[encoded data removed]",
      "text/plain": [
       "<Figure size 432x288 with 1 Axes>"
      ]
     },
     "metadata": {
      "needs_background": "light"
     },
     "output_type": "display_data"
    }
   ],
   "source": [
    "x_set, y_set = scaled.inverse_transform(x_train_scaled), y_train\n",
    "\n",
    "x1, x2 = np.meshgrid(np.arange(start = x_set[:, 0].min() - 10, stop = x_set[:, 0].max() + 10, step = 0.2),\n",
    "                     np.arange(start = x_set[:, 1].min() - 1000, stop = x_set[:, 1].max() + 1000, step = 0.2))\n",
    "\n",
    "plt.contourf(x1, x2, clas.predict(scaled.transform(np.array([x1.ravel(), x2.ravel()]).T)).reshape(x1.shape),\n",
    "             alpha = 0.75, cmap = ListedColormap(('red', 'green')))\n",
    "\n",
    "plt.xlim(0,12)\n",
    "plt.ylim(60,100)\n",
    "\n",
    "for i, j in enumerate(np.unique(y_set)):\n",
    "    plt.scatter(x_set[y_set == j, 0], x_set[y_set == j, 1], c = ListedColormap(('red', 'green'))(i), label = j)\n",
    "    \n",
    "plt.title(\"Logistic Regression on training set\")\n",
    "plt.xlabel(\"Time spent on lessons\")\n",
    "plt.ylabel(\"GPA\")\n",
    "plt.legend()\n",
    "plt.show()"
   ]
  },
  {
   "cell_type": "code",
   "execution_count": 56,
   "metadata": {},
   "outputs": [],
   "source": [
    "# As we can see, there are two colors in the graph and some blue dots are spread over the green area of the graph and vice versa. \n",
    "# It means these points were guessed incorrectly.\n",
    "# For example, a student who spend 6 hours on lessons and has about 77 of GPA didn't attend lesson,\n",
    "# but it is estimated that, that person attended lesson."
   ]
  },
  {
   "cell_type": "code",
   "execution_count": 57,
   "metadata": {},
   "outputs": [
    {
     "data": {
      "text/plain": [
       "array([[ 2.5 , 76.  ],\n",
       "       [ 1.5 , 80.  ],\n",
       "       [ 0.5 , 87.  ],\n",
       "       [ 5.5 , 78.  ],\n",
       "       [ 4.  , 82.  ],\n",
       "       [ 3.  , 79.  ],\n",
       "       [ 5.  , 80.  ],\n",
       "       [ 3.  , 94.  ],\n",
       "       [ 5.5 , 92.6 ],\n",
       "       [ 4.  , 77.  ],\n",
       "       [ 5.  , 85.  ],\n",
       "       [ 2.5 , 91.3 ],\n",
       "       [ 8.  , 96.  ],\n",
       "       [ 0.25, 90.11],\n",
       "       [10.  , 92.85],\n",
       "       [ 4.5 , 89.  ],\n",
       "       [11.  , 98.6 ],\n",
       "       [ 7.  , 79.47],\n",
       "       [ 0.3 , 47.  ],\n",
       "       [ 1.5 , 92.  ],\n",
       "       [ 2.  , 91.26],\n",
       "       [ 3.5 , 93.  ],\n",
       "       [ 1.  , 89.  ],\n",
       "       [11.  , 77.  ],\n",
       "       [ 5.  , 84.  ],\n",
       "       [ 3.  , 81.  ],\n",
       "       [ 0.5 , 94.04],\n",
       "       [ 0.5 , 83.  ],\n",
       "       [ 2.5 , 72.  ],\n",
       "       [ 1.5 , 92.3 ],\n",
       "       [ 2.  , 77.5 ],\n",
       "       [ 0.5 , 82.  ],\n",
       "       [ 2.5 , 89.43],\n",
       "       [10.5 , 98.67],\n",
       "       [ 2.  , 80.  ],\n",
       "       [ 9.  , 83.  ],\n",
       "       [ 3.  , 86.  ],\n",
       "       [ 4.  , 90.6 ],\n",
       "       [ 5.  , 84.  ],\n",
       "       [ 4.5 , 96.  ],\n",
       "       [ 4.5 , 90.5 ],\n",
       "       [ 2.  , 83.  ],\n",
       "       [11.5 , 88.  ],\n",
       "       [ 6.5 , 90.  ],\n",
       "       [ 2.  , 91.33],\n",
       "       [ 1.5 , 94.8 ],\n",
       "       [ 0.5 , 80.  ],\n",
       "       [ 1.5 , 91.  ],\n",
       "       [ 3.5 , 70.  ],\n",
       "       [ 3.5 , 78.2 ],\n",
       "       [ 8.5 , 95.56],\n",
       "       [ 1.5 , 83.  ],\n",
       "       [ 3.  , 94.2 ],\n",
       "       [ 6.  , 77.  ],\n",
       "       [ 2.5 , 91.5 ],\n",
       "       [ 2.  , 75.83],\n",
       "       [ 3.  , 90.44],\n",
       "       [ 3.5 , 96.7 ],\n",
       "       [ 2.5 , 80.  ],\n",
       "       [ 4.  , 76.63],\n",
       "       [ 5.  , 91.4 ],\n",
       "       [ 2.  , 85.33],\n",
       "       [ 1.5 , 92.27],\n",
       "       [ 3.  , 91.  ],\n",
       "       [ 5.5 , 82.  ],\n",
       "       [ 2.  , 89.  ],\n",
       "       [ 1.  , 91.5 ],\n",
       "       [ 5.  , 84.  ],\n",
       "       [ 1.5 , 88.  ],\n",
       "       [10.  , 85.27],\n",
       "       [ 4.5 , 90.73],\n",
       "       [ 1.5 , 88.83],\n",
       "       [ 2.5 , 93.03],\n",
       "       [ 4.5 , 96.5 ],\n",
       "       [ 2.  , 69.87],\n",
       "       [ 8.  , 93.  ],\n",
       "       [ 9.  , 91.  ],\n",
       "       [ 5.5 , 84.5 ],\n",
       "       [ 1.5 , 91.27],\n",
       "       [ 2.  , 76.  ],\n",
       "       [ 3.  , 83.87],\n",
       "       [ 8.  , 93.  ],\n",
       "       [ 4.  , 88.2 ],\n",
       "       [ 2.5 , 94.  ],\n",
       "       [12.  , 89.5 ],\n",
       "       [ 4.  , 89.  ],\n",
       "       [ 7.  , 98.5 ],\n",
       "       [ 3.  , 93.17],\n",
       "       [ 1.5 , 81.  ],\n",
       "       [ 2.  , 74.73],\n",
       "       [ 3.  , 90.5 ],\n",
       "       [ 0.5 , 85.  ],\n",
       "       [ 9.  , 84.03],\n",
       "       [ 0.5 , 82.  ],\n",
       "       [ 5.5 , 80.  ],\n",
       "       [ 4.  , 92.8 ],\n",
       "       [ 4.5 , 82.  ],\n",
       "       [ 4.  , 76.71],\n",
       "       [ 4.5 , 78.  ],\n",
       "       [ 7.  , 84.5 ],\n",
       "       [ 3.5 , 80.  ],\n",
       "       [12.5 , 80.  ],\n",
       "       [ 0.5 , 91.3 ],\n",
       "       [ 7.5 , 74.  ],\n",
       "       [ 4.5 , 71.  ],\n",
       "       [10.  , 72.  ],\n",
       "       [ 8.  , 87.83],\n",
       "       [ 3.  , 83.67],\n",
       "       [ 8.5 , 81.  ],\n",
       "       [ 3.  , 74.43],\n",
       "       [ 1.5 , 93.  ],\n",
       "       [ 1.5 , 92.6 ],\n",
       "       [ 3.  , 90.56],\n",
       "       [ 2.  , 95.4 ],\n",
       "       [ 1.5 , 91.73],\n",
       "       [ 6.  , 82.5 ],\n",
       "       [ 3.5 , 73.22],\n",
       "       [ 2.  , 96.  ],\n",
       "       [ 1.5 , 71.  ],\n",
       "       [ 3.5 , 93.33],\n",
       "       [ 2.5 , 93.  ],\n",
       "       [ 1.5 , 87.  ],\n",
       "       [ 3.5 , 93.8 ],\n",
       "       [ 0.5 , 83.  ],\n",
       "       [ 2.  , 83.67]])"
      ]
     },
     "execution_count": 57,
     "metadata": {},
     "output_type": "execute_result"
    }
   ],
   "source": [
    "x_set"
   ]
  },
  {
   "cell_type": "code",
   "execution_count": 58,
   "metadata": {},
   "outputs": [
    {
     "data": {
      "text/plain": [
       "array([1, 1, 1, 0, 0, 1, 1, 1, 1, 0, 1, 1, 1, 1, 0, 1, 1, 0, 1, 1, 1, 1,\n",
       "       1, 0, 0, 1, 1, 1, 1, 1, 1, 1, 1, 1, 1, 1, 1, 1, 1, 1, 0, 1, 0, 1,\n",
       "       1, 1, 1, 1, 1, 1, 1, 1, 1, 1, 1, 1, 1, 1, 1, 1, 1, 1, 1, 1, 0, 1,\n",
       "       1, 0, 1, 0, 0, 1, 1, 1, 1, 1, 1, 0, 1, 1, 1, 1, 0, 1, 0, 1, 1, 1,\n",
       "       1, 1, 1, 1, 0, 1, 0, 1, 0, 0, 0, 0, 1, 0, 1, 0, 0, 0, 0, 1, 1, 1,\n",
       "       1, 1, 1, 1, 1, 0, 1, 1, 1, 1, 1, 1, 1, 1, 1], dtype=int64)"
      ]
     },
     "execution_count": 58,
     "metadata": {},
     "output_type": "execute_result"
    }
   ],
   "source": [
    "y_set"
   ]
  },
  {
   "cell_type": "code",
   "execution_count": 59,
   "metadata": {},
   "outputs": [],
   "source": [
    "x1, x2 = np.meshgrid(np.arange(start = x_set[:, 0].min() - 10, stop = x_set[:, 0].max() + 10, step = 0.2),\n",
    "                     np.arange(start = x_set[:, 1].min() - 1000, stop = x_set[:, 1].max() + 1000, step = 0.2))\n",
    "\n",
    "# So x was divided into ranges"
   ]
  },
  {
   "cell_type": "code",
   "execution_count": 60,
   "metadata": {},
   "outputs": [
    {
     "data": {
      "text/plain": [
       "array([[-9.75, -9.55, -9.35, ..., 22.05, 22.25, 22.45],\n",
       "       [-9.75, -9.55, -9.35, ..., 22.05, 22.25, 22.45],\n",
       "       [-9.75, -9.55, -9.35, ..., 22.05, 22.25, 22.45],\n",
       "       ...,\n",
       "       [-9.75, -9.55, -9.35, ..., 22.05, 22.25, 22.45],\n",
       "       [-9.75, -9.55, -9.35, ..., 22.05, 22.25, 22.45],\n",
       "       [-9.75, -9.55, -9.35, ..., 22.05, 22.25, 22.45]])"
      ]
     },
     "execution_count": 60,
     "metadata": {},
     "output_type": "execute_result"
    }
   ],
   "source": [
    "x1"
   ]
  },
  {
   "cell_type": "code",
   "execution_count": 61,
   "metadata": {},
   "outputs": [
    {
     "data": {
      "text/plain": [
       "array([[-953. , -953. , -953. , ..., -953. , -953. , -953. ],\n",
       "       [-952.8, -952.8, -952.8, ..., -952.8, -952.8, -952.8],\n",
       "       [-952.6, -952.6, -952.6, ..., -952.6, -952.6, -952.6],\n",
       "       ...,\n",
       "       [1098.2, 1098.2, 1098.2, ..., 1098.2, 1098.2, 1098.2],\n",
       "       [1098.4, 1098.4, 1098.4, ..., 1098.4, 1098.4, 1098.4],\n",
       "       [1098.6, 1098.6, 1098.6, ..., 1098.6, 1098.6, 1098.6]])"
      ]
     },
     "execution_count": 61,
     "metadata": {},
     "output_type": "execute_result"
    }
   ],
   "source": [
    "x2"
   ]
  },
  {
   "cell_type": "code",
   "execution_count": 62,
   "metadata": {
    "scrolled": true
   },
   "outputs": [
    {
     "data": {
      "text/plain": [
       "-9.75"
      ]
     },
     "execution_count": 62,
     "metadata": {},
     "output_type": "execute_result"
    }
   ],
   "source": [
    "x1.min()"
   ]
  },
  {
   "cell_type": "code",
   "execution_count": 63,
   "metadata": {},
   "outputs": [
    {
     "data": {
      "text/plain": [
       "22.44999999999989"
      ]
     },
     "execution_count": 63,
     "metadata": {},
     "output_type": "execute_result"
    }
   ],
   "source": [
    "x1.max()"
   ]
  },
  {
   "cell_type": "code",
   "execution_count": 64,
   "metadata": {},
   "outputs": [
    {
     "data": {
      "text/plain": [
       "-953.0"
      ]
     },
     "execution_count": 64,
     "metadata": {},
     "output_type": "execute_result"
    }
   ],
   "source": [
    "x2.min()"
   ]
  },
  {
   "cell_type": "code",
   "execution_count": 65,
   "metadata": {},
   "outputs": [
    {
     "data": {
      "text/plain": [
       "1098.6000000004665"
      ]
     },
     "execution_count": 65,
     "metadata": {},
     "output_type": "execute_result"
    }
   ],
   "source": [
    "x2.max()"
   ]
  },
  {
   "cell_type": "code",
   "execution_count": 66,
   "metadata": {},
   "outputs": [
    {
     "data": {
      "text/plain": [
       "array([-9.75, -9.55, -9.35, ..., 22.05, 22.25, 22.45])"
      ]
     },
     "execution_count": 66,
     "metadata": {},
     "output_type": "execute_result"
    }
   ],
   "source": [
    "# First row of x1\n",
    "\n",
    "x1.ravel()"
   ]
  },
  {
   "cell_type": "code",
   "execution_count": 67,
   "metadata": {},
   "outputs": [
    {
     "data": {
      "text/plain": [
       "array([-953. , -953. , -953. , ..., 1098.6, 1098.6, 1098.6])"
      ]
     },
     "execution_count": 67,
     "metadata": {},
     "output_type": "execute_result"
    }
   ],
   "source": [
    "x2.ravel()"
   ]
  },
  {
   "cell_type": "code",
   "execution_count": 68,
   "metadata": {},
   "outputs": [
    {
     "name": "stderr",
     "output_type": "stream",
     "text": [
      "'c' argument looks like a single numeric RGB or RGBA sequence, which should be avoided as value-mapping will have precedence in case its length matches with 'x' & 'y'.  Please use a 2-D array with a single row if you really want to specify the same RGB or RGBA value for all points.\n",
      "'c' argument looks like a single numeric RGB or RGBA sequence, which should be avoided as value-mapping will have precedence in case its length matches with 'x' & 'y'.  Please use a 2-D array with a single row if you really want to specify the same RGB or RGBA value for all points.\n"
     ]
    },
    {
     "data": {
      "image/png": "[encoded data removed]",
      "text/plain": [
       "<Figure size 432x288 with 1 Axes>"
      ]
     },
     "metadata": {
      "needs_background": "light"
     },
     "output_type": "display_data"
    }
   ],
   "source": [
    "for i, j in enumerate(np.unique(y_set)):\n",
    "    plt.scatter(x_set[y_set == j, 0], x_set[y_set == j, 1], c = ListedColormap(('red', 'green'))(i), label = j)\n",
    "    "
   ]
  },
  {
   "cell_type": "code",
   "execution_count": 69,
   "metadata": {},
   "outputs": [
    {
     "data": {
      "text/plain": [
       "array([ 2.5 ,  1.5 ,  0.5 ,  3.  ,  5.  ,  3.  ,  5.5 ,  5.  ,  2.5 ,\n",
       "        8.  ,  0.25,  4.5 , 11.  ,  0.3 ,  1.5 ,  2.  ,  3.5 ,  1.  ,\n",
       "        3.  ,  0.5 ,  0.5 ,  2.5 ,  1.5 ,  2.  ,  0.5 ,  2.5 , 10.5 ,\n",
       "        2.  ,  9.  ,  3.  ,  4.  ,  5.  ,  4.5 ,  2.  ,  6.5 ,  2.  ,\n",
       "        1.5 ,  0.5 ,  1.5 ,  3.5 ,  3.5 ,  8.5 ,  1.5 ,  3.  ,  6.  ,\n",
       "        2.5 ,  2.  ,  3.  ,  3.5 ,  2.5 ,  4.  ,  5.  ,  2.  ,  1.5 ,\n",
       "        3.  ,  2.  ,  1.  ,  1.5 ,  1.5 ,  2.5 ,  4.5 ,  2.  ,  8.  ,\n",
       "        9.  ,  1.5 ,  2.  ,  3.  ,  8.  ,  2.5 ,  4.  ,  7.  ,  3.  ,\n",
       "        1.5 ,  2.  ,  3.  ,  0.5 ,  0.5 ,  4.  ,  3.5 ,  0.5 ,  3.  ,\n",
       "        8.5 ,  3.  ,  1.5 ,  1.5 ,  3.  ,  2.  ,  1.5 ,  3.5 ,  2.  ,\n",
       "        1.5 ,  3.5 ,  2.5 ,  1.5 ,  3.5 ,  0.5 ,  2.  ])"
      ]
     },
     "execution_count": 69,
     "metadata": {},
     "output_type": "execute_result"
    }
   ],
   "source": [
    "x_set[y_set == 1, 0]"
   ]
  },
  {
   "cell_type": "code",
   "execution_count": 70,
   "metadata": {},
   "outputs": [
    {
     "data": {
      "text/plain": [
       "array([76.  , 80.  , 87.  , 79.  , 80.  , 94.  , 92.6 , 85.  , 91.3 ,\n",
       "       96.  , 90.11, 89.  , 98.6 , 47.  , 92.  , 91.26, 93.  , 89.  ,\n",
       "       81.  , 94.04, 83.  , 72.  , 92.3 , 77.5 , 82.  , 89.43, 98.67,\n",
       "       80.  , 83.  , 86.  , 90.6 , 84.  , 96.  , 83.  , 90.  , 91.33,\n",
       "       94.8 , 80.  , 91.  , 70.  , 78.2 , 95.56, 83.  , 94.2 , 77.  ,\n",
       "       91.5 , 75.83, 90.44, 96.7 , 80.  , 76.63, 91.4 , 85.33, 92.27,\n",
       "       91.  , 89.  , 91.5 , 88.  , 88.83, 93.03, 96.5 , 69.87, 93.  ,\n",
       "       91.  , 91.27, 76.  , 83.87, 93.  , 94.  , 89.  , 98.5 , 93.17,\n",
       "       81.  , 74.73, 90.5 , 85.  , 82.  , 92.8 , 80.  , 91.3 , 83.67,\n",
       "       81.  , 74.43, 93.  , 92.6 , 90.56, 95.4 , 91.73, 73.22, 96.  ,\n",
       "       71.  , 93.33, 93.  , 87.  , 93.8 , 83.  , 83.67])"
      ]
     },
     "execution_count": 70,
     "metadata": {},
     "output_type": "execute_result"
    }
   ],
   "source": [
    "x_set[y_set == 1, 1]"
   ]
  },
  {
   "cell_type": "code",
   "execution_count": 71,
   "metadata": {},
   "outputs": [
    {
     "data": {
      "text/plain": [
       "array([[  -9.75, -953.  ],\n",
       "       [  -9.55, -953.  ],\n",
       "       [  -9.35, -953.  ],\n",
       "       ...,\n",
       "       [  22.05, 1098.6 ],\n",
       "       [  22.25, 1098.6 ],\n",
       "       [  22.45, 1098.6 ]])"
      ]
     },
     "execution_count": 71,
     "metadata": {},
     "output_type": "execute_result"
    }
   ],
   "source": [
    "np.array([x1.ravel(), x2.ravel()]).T"
   ]
  },
  {
   "cell_type": "markdown",
   "metadata": {},
   "source": [
    "## Visualization of Logistic Regression on test set"
   ]
  },
  {
   "cell_type": "code",
   "execution_count": 72,
   "metadata": {},
   "outputs": [
    {
     "name": "stderr",
     "output_type": "stream",
     "text": [
      "'c' argument looks like a single numeric RGB or RGBA sequence, which should be avoided as value-mapping will have precedence in case its length matches with 'x' & 'y'.  Please use a 2-D array with a single row if you really want to specify the same RGB or RGBA value for all points.\n",
      "'c' argument looks like a single numeric RGB or RGBA sequence, which should be avoided as value-mapping will have precedence in case its length matches with 'x' & 'y'.  Please use a 2-D array with a single row if you really want to specify the same RGB or RGBA value for all points.\n"
     ]
    },
    {
     "data": {
      "image/png": "[encoded data removed]",
      "text/plain": [
       "<Figure size 432x288 with 1 Axes>"
      ]
     },
     "metadata": {
      "needs_background": "light"
     },
     "output_type": "display_data"
    }
   ],
   "source": [
    "x_set, y_set = scaled.inverse_transform(x_test_scaled), y_test\n",
    "\n",
    "x1, x2 = np.meshgrid(np.arange(start = x_set[:, 0].min() - 10, stop = x_set[:, 0].max() + 10, step = 0.2),\n",
    "                     np.arange(start = x_set[:, 1].min() - 1000, stop = x_set[:, 1].max() + 1000, step = 0.2))\n",
    "\n",
    "plt.contourf(x1, x2, clas.predict(scaled.transform(np.array([x1.ravel(), x2.ravel()]).T)).reshape(x1.shape),\n",
    "             alpha = 0.75, cmap = ListedColormap(('red','green')))\n",
    "\n",
    "plt.xlim(0,12)\n",
    "plt.ylim(60,100)\n",
    "\n",
    "for i, j in enumerate(np.unique(y_set)):\n",
    "    plt.scatter(x_set[y_set == j, 0], x_set[y_set == j, 1], c = ListedColormap(('red','green'))(i), label = j)\n",
    "    \n",
    "plt.title(\"Logistic Regression on test set\")\n",
    "plt.xlabel(\"Time spent on lessons\")\n",
    "plt.ylabel(\"GPA\")\n",
    "plt.legend()\n",
    "plt.show()"
   ]
  },
  {
   "cell_type": "markdown",
   "metadata": {},
   "source": [
    "# 2. K_nearest_neighbors ( K-NN )"
   ]
  },
  {
   "cell_type": "code",
   "execution_count": 73,
   "metadata": {},
   "outputs": [
    {
     "data": {
      "text/html": [
       "<div>\n",
       "<style scoped>\n",
       "    .dataframe tbody tr th:only-of-type {\n",
       "        vertical-align: middle;\n",
       "    }\n",
       "\n",
       "    .dataframe tbody tr th {\n",
       "        vertical-align: top;\n",
       "    }\n",
       "\n",
       "    .dataframe thead th {\n",
       "        text-align: right;\n",
       "    }\n",
       "</style>\n",
       "<table border=\"1\" class=\"dataframe\">\n",
       "  <thead>\n",
       "    <tr style=\"text-align: right;\">\n",
       "      <th></th>\n",
       "      <th>time_lessons</th>\n",
       "      <th>GPA</th>\n",
       "      <th>attendance</th>\n",
       "    </tr>\n",
       "  </thead>\n",
       "  <tbody>\n",
       "    <tr>\n",
       "      <th>0</th>\n",
       "      <td>4.0</td>\n",
       "      <td>90.60</td>\n",
       "      <td>1</td>\n",
       "    </tr>\n",
       "    <tr>\n",
       "      <th>1</th>\n",
       "      <td>7.0</td>\n",
       "      <td>84.50</td>\n",
       "      <td>0</td>\n",
       "    </tr>\n",
       "    <tr>\n",
       "      <th>3</th>\n",
       "      <td>2.0</td>\n",
       "      <td>80.00</td>\n",
       "      <td>1</td>\n",
       "    </tr>\n",
       "    <tr>\n",
       "      <th>4</th>\n",
       "      <td>7.0</td>\n",
       "      <td>98.50</td>\n",
       "      <td>1</td>\n",
       "    </tr>\n",
       "    <tr>\n",
       "      <th>5</th>\n",
       "      <td>2.0</td>\n",
       "      <td>91.26</td>\n",
       "      <td>1</td>\n",
       "    </tr>\n",
       "    <tr>\n",
       "      <th>...</th>\n",
       "      <td>...</td>\n",
       "      <td>...</td>\n",
       "      <td>...</td>\n",
       "    </tr>\n",
       "    <tr>\n",
       "      <th>157</th>\n",
       "      <td>1.5</td>\n",
       "      <td>92.27</td>\n",
       "      <td>1</td>\n",
       "    </tr>\n",
       "    <tr>\n",
       "      <th>158</th>\n",
       "      <td>10.0</td>\n",
       "      <td>72.00</td>\n",
       "      <td>0</td>\n",
       "    </tr>\n",
       "    <tr>\n",
       "      <th>159</th>\n",
       "      <td>2.0</td>\n",
       "      <td>74.73</td>\n",
       "      <td>1</td>\n",
       "    </tr>\n",
       "    <tr>\n",
       "      <th>160</th>\n",
       "      <td>3.0</td>\n",
       "      <td>83.87</td>\n",
       "      <td>1</td>\n",
       "    </tr>\n",
       "    <tr>\n",
       "      <th>161</th>\n",
       "      <td>3.5</td>\n",
       "      <td>96.70</td>\n",
       "      <td>1</td>\n",
       "    </tr>\n",
       "  </tbody>\n",
       "</table>\n",
       "<p>157 rows × 3 columns</p>\n",
       "</div>"
      ],
      "text/plain": [
       "     time_lessons    GPA  attendance\n",
       "0             4.0  90.60           1\n",
       "1             7.0  84.50           0\n",
       "3             2.0  80.00           1\n",
       "4             7.0  98.50           1\n",
       "5             2.0  91.26           1\n",
       "..            ...    ...         ...\n",
       "157           1.5  92.27           1\n",
       "158          10.0  72.00           0\n",
       "159           2.0  74.73           1\n",
       "160           3.0  83.87           1\n",
       "161           3.5  96.70           1\n",
       "\n",
       "[157 rows x 3 columns]"
      ]
     },
     "execution_count": 73,
     "metadata": {},
     "output_type": "execute_result"
    }
   ],
   "source": [
    "df"
   ]
  },
  {
   "cell_type": "markdown",
   "metadata": {},
   "source": [
    "### Determining  independent and dependent variables"
   ]
  },
  {
   "cell_type": "code",
   "execution_count": 74,
   "metadata": {},
   "outputs": [],
   "source": [
    "x_1=df.iloc[:,:-1].values\n",
    "y_1=df.iloc[:,-1].values"
   ]
  },
  {
   "cell_type": "code",
   "execution_count": 75,
   "metadata": {},
   "outputs": [
    {
     "data": {
      "text/plain": [
       "array([[ 4.  , 90.6 ],\n",
       "       [ 7.  , 84.5 ],\n",
       "       [ 2.  , 80.  ],\n",
       "       [ 7.  , 98.5 ],\n",
       "       [ 2.  , 91.26],\n",
       "       [ 2.5 , 80.  ],\n",
       "       [ 3.  , 86.  ],\n",
       "       [ 4.5 , 71.  ],\n",
       "       [ 4.5 , 82.  ],\n",
       "       [ 2.  , 85.33],\n",
       "       [ 8.5 , 95.56],\n",
       "       [ 1.5 , 92.3 ],\n",
       "       [ 2.5 , 72.  ],\n",
       "       [ 5.5 , 80.  ],\n",
       "       [ 3.5 , 75.7 ],\n",
       "       [ 1.5 , 88.83],\n",
       "       [ 6.  , 93.9 ],\n",
       "       [ 0.25, 90.11],\n",
       "       [ 0.3 , 47.  ],\n",
       "       [ 1.5 , 86.  ],\n",
       "       [ 2.  , 95.4 ],\n",
       "       [12.  , 89.5 ],\n",
       "       [12.5 , 80.  ],\n",
       "       [ 4.  , 76.63],\n",
       "       [ 2.  , 76.  ],\n",
       "       [ 1.5 , 91.73],\n",
       "       [ 9.  , 91.  ],\n",
       "       [ 2.5 , 80.  ],\n",
       "       [ 4.  , 77.  ],\n",
       "       [ 3.5 , 87.  ],\n",
       "       [ 1.5 , 81.  ],\n",
       "       [ 5.  , 84.  ],\n",
       "       [ 3.  , 94.2 ],\n",
       "       [ 1.5 , 80.  ],\n",
       "       [ 1.5 , 83.  ],\n",
       "       [ 4.5 , 77.2 ],\n",
       "       [ 5.  , 84.  ],\n",
       "       [ 2.  , 83.67],\n",
       "       [ 2.5 , 91.5 ],\n",
       "       [11.  , 77.  ],\n",
       "       [ 3.  , 87.  ],\n",
       "       [ 4.5 , 96.5 ],\n",
       "       [ 0.5 , 88.03],\n",
       "       [ 1.5 , 91.27],\n",
       "       [ 4.  , 91.  ],\n",
       "       [ 3.5 , 93.  ],\n",
       "       [ 6.5 , 90.  ],\n",
       "       [ 9.  , 84.03],\n",
       "       [ 1.5 , 92.  ],\n",
       "       [ 2.5 , 94.  ],\n",
       "       [ 3.  , 74.43],\n",
       "       [ 5.  , 96.4 ],\n",
       "       [ 8.  , 93.  ],\n",
       "       [ 2.5 , 97.3 ],\n",
       "       [ 8.  , 96.  ],\n",
       "       [ 4.5 , 90.5 ],\n",
       "       [ 8.  , 81.  ],\n",
       "       [ 3.5 , 80.  ],\n",
       "       [ 5.5 , 92.6 ],\n",
       "       [ 5.5 , 78.  ],\n",
       "       [ 4.  , 76.71],\n",
       "       [ 0.5 , 91.3 ],\n",
       "       [ 2.  , 91.33],\n",
       "       [ 7.5 , 74.  ],\n",
       "       [ 4.5 , 90.73],\n",
       "       [ 4.5 , 96.  ],\n",
       "       [ 2.5 , 76.  ],\n",
       "       [ 5.  , 91.4 ],\n",
       "       [ 8.5 , 81.  ],\n",
       "       [ 2.5 , 88.51],\n",
       "       [ 4.  , 89.  ],\n",
       "       [ 3.5 , 73.22],\n",
       "       [ 3.5 , 93.8 ],\n",
       "       [10.  , 92.85],\n",
       "       [ 1.5 , 94.8 ],\n",
       "       [ 4.5 , 80.  ],\n",
       "       [ 5.5 , 84.5 ],\n",
       "       [ 7.  , 79.47],\n",
       "       [ 2.5 , 87.72],\n",
       "       [ 3.5 , 93.33],\n",
       "       [ 2.  , 69.87],\n",
       "       [ 2.  , 83.  ],\n",
       "       [ 2.5 , 93.03],\n",
       "       [ 2.  , 75.83],\n",
       "       [11.5 , 88.  ],\n",
       "       [ 2.  , 77.5 ],\n",
       "       [ 8.  , 87.83],\n",
       "       [ 1.  , 91.5 ],\n",
       "       [ 4.  , 92.8 ],\n",
       "       [ 0.25, 93.  ],\n",
       "       [ 3.  , 92.2 ],\n",
       "       [ 3.5 , 78.2 ],\n",
       "       [12.5 , 70.  ],\n",
       "       [ 2.5 , 84.2 ],\n",
       "       [ 5.5 , 89.99],\n",
       "       [ 1.5 , 91.  ],\n",
       "       [ 3.  , 83.67],\n",
       "       [ 2.5 , 89.43],\n",
       "       [ 5.  , 84.  ],\n",
       "       [ 4.  , 91.33],\n",
       "       [ 3.  , 91.  ],\n",
       "       [ 3.  , 90.56],\n",
       "       [ 1.  , 89.  ],\n",
       "       [ 3.5 , 70.  ],\n",
       "       [ 4.5 , 89.  ],\n",
       "       [ 5.5 , 83.66],\n",
       "       [ 0.5 , 85.  ],\n",
       "       [ 9.  , 83.  ],\n",
       "       [ 5.5 , 82.  ],\n",
       "       [ 4.  , 76.71],\n",
       "       [ 0.5 , 83.  ],\n",
       "       [ 2.5 , 91.3 ],\n",
       "       [10.  , 85.27],\n",
       "       [ 5.  , 84.  ],\n",
       "       [ 3.  , 90.44],\n",
       "       [ 0.5 , 82.  ],\n",
       "       [10.5 , 98.67],\n",
       "       [ 4.  , 85.  ],\n",
       "       [ 8.  , 93.  ],\n",
       "       [ 0.5 , 80.  ],\n",
       "       [ 3.  , 81.  ],\n",
       "       [ 3.  , 90.5 ],\n",
       "       [ 0.5 , 84.  ],\n",
       "       [ 4.  , 83.63],\n",
       "       [ 5.  , 85.  ],\n",
       "       [ 3.  , 94.  ],\n",
       "       [ 0.5 , 82.  ],\n",
       "       [ 4.  , 82.  ],\n",
       "       [ 4.5 , 78.  ],\n",
       "       [ 2.  , 96.  ],\n",
       "       [ 6.  , 77.  ],\n",
       "       [ 3.  , 79.  ],\n",
       "       [ 4.  , 88.2 ],\n",
       "       [ 2.5 , 93.  ],\n",
       "       [ 6.  , 82.5 ],\n",
       "       [11.  , 98.6 ],\n",
       "       [ 2.  , 89.  ],\n",
       "       [ 1.5 , 87.  ],\n",
       "       [ 5.5 , 87.  ],\n",
       "       [ 1.5 , 92.6 ],\n",
       "       [ 0.5 , 83.  ],\n",
       "       [ 0.5 , 87.  ],\n",
       "       [ 1.5 , 93.  ],\n",
       "       [ 3.  , 80.3 ],\n",
       "       [ 1.5 , 71.  ],\n",
       "       [ 0.5 , 94.04],\n",
       "       [ 1.5 , 88.  ],\n",
       "       [ 2.5 , 95.  ],\n",
       "       [ 3.  , 93.17],\n",
       "       [ 5.  , 80.  ],\n",
       "       [ 2.  , 94.  ],\n",
       "       [ 2.  , 71.  ],\n",
       "       [ 1.5 , 92.27],\n",
       "       [10.  , 72.  ],\n",
       "       [ 2.  , 74.73],\n",
       "       [ 3.  , 83.87],\n",
       "       [ 3.5 , 96.7 ]])"
      ]
     },
     "execution_count": 75,
     "metadata": {},
     "output_type": "execute_result"
    }
   ],
   "source": [
    "x_1"
   ]
  },
  {
   "cell_type": "code",
   "execution_count": 76,
   "metadata": {},
   "outputs": [
    {
     "data": {
      "text/plain": [
       "array([1, 0, 1, 1, 1, 1, 1, 0, 0, 1, 1, 1, 1, 0, 1, 1, 1, 1, 1, 1, 1, 0,\n",
       "       0, 1, 1, 1, 1, 1, 0, 1, 1, 1, 1, 1, 1, 1, 0, 1, 1, 0, 1, 1, 1, 1,\n",
       "       1, 1, 1, 0, 1, 1, 1, 1, 1, 1, 1, 0, 0, 1, 1, 0, 0, 1, 1, 0, 0, 1,\n",
       "       1, 1, 1, 1, 1, 1, 1, 0, 1, 0, 0, 0, 1, 1, 1, 1, 1, 1, 0, 1, 0, 1,\n",
       "       1, 1, 1, 1, 0, 1, 0, 1, 1, 1, 0, 1, 1, 1, 1, 1, 1, 1, 1, 1, 0, 0,\n",
       "       1, 1, 0, 1, 1, 1, 1, 1, 1, 1, 1, 1, 1, 0, 1, 1, 1, 0, 0, 1, 1, 1,\n",
       "       0, 1, 0, 1, 1, 1, 1, 1, 1, 1, 1, 1, 1, 1, 1, 1, 1, 1, 1, 1, 1, 0,\n",
       "       1, 1, 1], dtype=int64)"
      ]
     },
     "execution_count": 76,
     "metadata": {},
     "output_type": "execute_result"
    }
   ],
   "source": [
    "y_1"
   ]
  },
  {
   "cell_type": "markdown",
   "metadata": {},
   "source": [
    "## Train and test split"
   ]
  },
  {
   "cell_type": "code",
   "execution_count": 77,
   "metadata": {},
   "outputs": [],
   "source": [
    "x1_train, x1_test, y1_train, y1_test = train_test_split(x_1, y_1, test_size = 0.2, random_state = 1)"
   ]
  },
  {
   "cell_type": "code",
   "execution_count": 78,
   "metadata": {},
   "outputs": [
    {
     "data": {
      "text/plain": [
       "array([[ 2.5 , 76.  ],\n",
       "       [ 1.5 , 80.  ],\n",
       "       [ 0.5 , 87.  ],\n",
       "       [ 5.5 , 78.  ],\n",
       "       [ 4.  , 82.  ],\n",
       "       [ 3.  , 79.  ],\n",
       "       [ 5.  , 80.  ],\n",
       "       [ 3.  , 94.  ],\n",
       "       [ 5.5 , 92.6 ],\n",
       "       [ 4.  , 77.  ],\n",
       "       [ 5.  , 85.  ],\n",
       "       [ 2.5 , 91.3 ],\n",
       "       [ 8.  , 96.  ],\n",
       "       [ 0.25, 90.11],\n",
       "       [10.  , 92.85],\n",
       "       [ 4.5 , 89.  ],\n",
       "       [11.  , 98.6 ],\n",
       "       [ 7.  , 79.47],\n",
       "       [ 0.3 , 47.  ],\n",
       "       [ 1.5 , 92.  ],\n",
       "       [ 2.  , 91.26],\n",
       "       [ 3.5 , 93.  ],\n",
       "       [ 1.  , 89.  ],\n",
       "       [11.  , 77.  ],\n",
       "       [ 5.  , 84.  ],\n",
       "       [ 3.  , 81.  ],\n",
       "       [ 0.5 , 94.04],\n",
       "       [ 0.5 , 83.  ],\n",
       "       [ 2.5 , 72.  ],\n",
       "       [ 1.5 , 92.3 ],\n",
       "       [ 2.  , 77.5 ],\n",
       "       [ 0.5 , 82.  ],\n",
       "       [ 2.5 , 89.43],\n",
       "       [10.5 , 98.67],\n",
       "       [ 2.  , 80.  ],\n",
       "       [ 9.  , 83.  ],\n",
       "       [ 3.  , 86.  ],\n",
       "       [ 4.  , 90.6 ],\n",
       "       [ 5.  , 84.  ],\n",
       "       [ 4.5 , 96.  ],\n",
       "       [ 4.5 , 90.5 ],\n",
       "       [ 2.  , 83.  ],\n",
       "       [11.5 , 88.  ],\n",
       "       [ 6.5 , 90.  ],\n",
       "       [ 2.  , 91.33],\n",
       "       [ 1.5 , 94.8 ],\n",
       "       [ 0.5 , 80.  ],\n",
       "       [ 1.5 , 91.  ],\n",
       "       [ 3.5 , 70.  ],\n",
       "       [ 3.5 , 78.2 ],\n",
       "       [ 8.5 , 95.56],\n",
       "       [ 1.5 , 83.  ],\n",
       "       [ 3.  , 94.2 ],\n",
       "       [ 6.  , 77.  ],\n",
       "       [ 2.5 , 91.5 ],\n",
       "       [ 2.  , 75.83],\n",
       "       [ 3.  , 90.44],\n",
       "       [ 3.5 , 96.7 ],\n",
       "       [ 2.5 , 80.  ],\n",
       "       [ 4.  , 76.63],\n",
       "       [ 5.  , 91.4 ],\n",
       "       [ 2.  , 85.33],\n",
       "       [ 1.5 , 92.27],\n",
       "       [ 3.  , 91.  ],\n",
       "       [ 5.5 , 82.  ],\n",
       "       [ 2.  , 89.  ],\n",
       "       [ 1.  , 91.5 ],\n",
       "       [ 5.  , 84.  ],\n",
       "       [ 1.5 , 88.  ],\n",
       "       [10.  , 85.27],\n",
       "       [ 4.5 , 90.73],\n",
       "       [ 1.5 , 88.83],\n",
       "       [ 2.5 , 93.03],\n",
       "       [ 4.5 , 96.5 ],\n",
       "       [ 2.  , 69.87],\n",
       "       [ 8.  , 93.  ],\n",
       "       [ 9.  , 91.  ],\n",
       "       [ 5.5 , 84.5 ],\n",
       "       [ 1.5 , 91.27],\n",
       "       [ 2.  , 76.  ],\n",
       "       [ 3.  , 83.87],\n",
       "       [ 8.  , 93.  ],\n",
       "       [ 4.  , 88.2 ],\n",
       "       [ 2.5 , 94.  ],\n",
       "       [12.  , 89.5 ],\n",
       "       [ 4.  , 89.  ],\n",
       "       [ 7.  , 98.5 ],\n",
       "       [ 3.  , 93.17],\n",
       "       [ 1.5 , 81.  ],\n",
       "       [ 2.  , 74.73],\n",
       "       [ 3.  , 90.5 ],\n",
       "       [ 0.5 , 85.  ],\n",
       "       [ 9.  , 84.03],\n",
       "       [ 0.5 , 82.  ],\n",
       "       [ 5.5 , 80.  ],\n",
       "       [ 4.  , 92.8 ],\n",
       "       [ 4.5 , 82.  ],\n",
       "       [ 4.  , 76.71],\n",
       "       [ 4.5 , 78.  ],\n",
       "       [ 7.  , 84.5 ],\n",
       "       [ 3.5 , 80.  ],\n",
       "       [12.5 , 80.  ],\n",
       "       [ 0.5 , 91.3 ],\n",
       "       [ 7.5 , 74.  ],\n",
       "       [ 4.5 , 71.  ],\n",
       "       [10.  , 72.  ],\n",
       "       [ 8.  , 87.83],\n",
       "       [ 3.  , 83.67],\n",
       "       [ 8.5 , 81.  ],\n",
       "       [ 3.  , 74.43],\n",
       "       [ 1.5 , 93.  ],\n",
       "       [ 1.5 , 92.6 ],\n",
       "       [ 3.  , 90.56],\n",
       "       [ 2.  , 95.4 ],\n",
       "       [ 1.5 , 91.73],\n",
       "       [ 6.  , 82.5 ],\n",
       "       [ 3.5 , 73.22],\n",
       "       [ 2.  , 96.  ],\n",
       "       [ 1.5 , 71.  ],\n",
       "       [ 3.5 , 93.33],\n",
       "       [ 2.5 , 93.  ],\n",
       "       [ 1.5 , 87.  ],\n",
       "       [ 3.5 , 93.8 ],\n",
       "       [ 0.5 , 83.  ],\n",
       "       [ 2.  , 83.67]])"
      ]
     },
     "execution_count": 78,
     "metadata": {},
     "output_type": "execute_result"
    }
   ],
   "source": [
    "x1_train"
   ]
  },
  {
   "cell_type": "code",
   "execution_count": 79,
   "metadata": {},
   "outputs": [
    {
     "data": {
      "text/plain": [
       "array([1, 1, 1, 0, 0, 1, 1, 1, 1, 0, 1, 1, 1, 1, 0, 1, 1, 0, 1, 1, 1, 1,\n",
       "       1, 0, 0, 1, 1, 1, 1, 1, 1, 1, 1, 1, 1, 1, 1, 1, 1, 1, 0, 1, 0, 1,\n",
       "       1, 1, 1, 1, 1, 1, 1, 1, 1, 1, 1, 1, 1, 1, 1, 1, 1, 1, 1, 1, 0, 1,\n",
       "       1, 0, 1, 0, 0, 1, 1, 1, 1, 1, 1, 0, 1, 1, 1, 1, 0, 1, 0, 1, 1, 1,\n",
       "       1, 1, 1, 1, 0, 1, 0, 1, 0, 0, 0, 0, 1, 0, 1, 0, 0, 0, 0, 1, 1, 1,\n",
       "       1, 1, 1, 1, 1, 0, 1, 1, 1, 1, 1, 1, 1, 1, 1], dtype=int64)"
      ]
     },
     "execution_count": 79,
     "metadata": {},
     "output_type": "execute_result"
    }
   ],
   "source": [
    "y1_train"
   ]
  },
  {
   "cell_type": "markdown",
   "metadata": {},
   "source": [
    "## Scaling the data"
   ]
  },
  {
   "cell_type": "code",
   "execution_count": 80,
   "metadata": {},
   "outputs": [],
   "source": [
    "scaled1=StandardScaler()"
   ]
  },
  {
   "cell_type": "code",
   "execution_count": 81,
   "metadata": {},
   "outputs": [],
   "source": [
    "x1_train_scaled=scaled1.fit_transform(x1_train)\n",
    "x1_test_scaled=scaled1.transform(x1_test)"
   ]
  },
  {
   "cell_type": "code",
   "execution_count": 82,
   "metadata": {},
   "outputs": [
    {
     "data": {
      "text/plain": [
       "array([[-0.50766639, -1.22569969],\n",
       "       [-0.85433834, -0.72273298],\n",
       "       [-1.20101028,  0.15745876],\n",
       "       [ 0.53234944, -0.97421634],\n",
       "       [ 0.01234152, -0.47124963],\n",
       "       [-0.33433042, -0.84847466],\n",
       "       [ 0.35901346, -0.72273298],\n",
       "       [-0.33433042,  1.0376505 ],\n",
       "       [ 0.53234944,  0.86161215],\n",
       "       [ 0.01234152, -1.09995802],\n",
       "       [ 0.35901346, -0.0940246 ],\n",
       "       [-0.50766639,  0.69814797],\n",
       "       [ 1.39902929,  1.28913386],\n",
       "       [-1.28767826,  0.54851538],\n",
       "       [ 2.09237318,  0.89304757],\n",
       "       [ 0.18567749,  0.40894211],\n",
       "       [ 2.43904512,  1.61606222],\n",
       "       [ 1.05235735, -0.78937607],\n",
       "       [-1.27034467, -4.87220834],\n",
       "       [-0.85433834,  0.78616715],\n",
       "       [-0.68100236,  0.6931183 ],\n",
       "       [-0.16099445,  0.91190882],\n",
       "       [-1.02767431,  0.40894211],\n",
       "       [ 2.43904512, -1.09995802],\n",
       "       [ 0.35901346, -0.21976627],\n",
       "       [-0.33433042, -0.59699131],\n",
       "       [-1.20101028,  1.04268017],\n",
       "       [-1.20101028, -0.34550795],\n",
       "       [-0.50766639, -1.7286664 ],\n",
       "       [-0.85433834,  0.82388965],\n",
       "       [-0.68100236, -1.03708718],\n",
       "       [-1.20101028, -0.47124963],\n",
       "       [-0.50766639,  0.46301103],\n",
       "       [ 2.26570915,  1.62486414],\n",
       "       [-0.68100236, -0.72273298],\n",
       "       [ 1.74570123, -0.34550795],\n",
       "       [-0.33433042,  0.03171708],\n",
       "       [ 0.01234152,  0.6101288 ],\n",
       "       [ 0.35901346, -0.21976627],\n",
       "       [ 0.18567749,  1.28913386],\n",
       "       [ 0.18567749,  0.59755463],\n",
       "       [-0.68100236, -0.34550795],\n",
       "       [ 2.61238109,  0.28320044],\n",
       "       [ 0.87902138,  0.53468379],\n",
       "       [-0.68100236,  0.70192022],\n",
       "       [-0.85433834,  1.13824384],\n",
       "       [-1.20101028, -0.72273298],\n",
       "       [-0.85433834,  0.66042547],\n",
       "       [-0.16099445, -1.98014976],\n",
       "       [-0.16099445, -0.949068  ],\n",
       "       [ 1.57236526,  1.23380752],\n",
       "       [-0.85433834, -0.34550795],\n",
       "       [-0.33433042,  1.06279884],\n",
       "       [ 0.70568541, -1.09995802],\n",
       "       [-0.50766639,  0.72329631],\n",
       "       [-0.68100236, -1.24707578],\n",
       "       [-0.33433042,  0.59001013],\n",
       "       [-0.16099445,  1.37715303],\n",
       "       [-0.50766639, -0.72273298],\n",
       "       [ 0.01234152, -1.14648244],\n",
       "       [ 0.35901346,  0.71072214],\n",
       "       [-0.68100236, -0.05252984],\n",
       "       [-0.85433834,  0.8201174 ],\n",
       "       [-0.33433042,  0.66042547],\n",
       "       [ 0.53234944, -0.47124963],\n",
       "       [-0.68100236,  0.40894211],\n",
       "       [-1.02767431,  0.72329631],\n",
       "       [ 0.35901346, -0.21976627],\n",
       "       [-0.85433834,  0.28320044],\n",
       "       [ 2.09237318, -0.06007434],\n",
       "       [ 0.18567749,  0.62647522],\n",
       "       [-0.85433834,  0.38756603],\n",
       "       [-0.50766639,  0.91568107],\n",
       "       [ 0.18567749,  1.35200469],\n",
       "       [-0.68100236, -1.99649618],\n",
       "       [ 1.39902929,  0.91190882],\n",
       "       [ 1.74570123,  0.66042547],\n",
       "       [ 0.53234944, -0.15689544],\n",
       "       [-0.85433834,  0.69437572],\n",
       "       [-0.68100236, -1.22569969],\n",
       "       [-0.33433042, -0.23611269],\n",
       "       [ 1.39902929,  0.91190882],\n",
       "       [ 0.01234152,  0.30834877],\n",
       "       [-0.50766639,  1.0376505 ],\n",
       "       [ 2.78571706,  0.47181295],\n",
       "       [ 0.01234152,  0.40894211],\n",
       "       [ 1.05235735,  1.60348805],\n",
       "       [-0.33433042,  0.93328491],\n",
       "       [-0.85433834, -0.59699131],\n",
       "       [-0.68100236, -1.38539162],\n",
       "       [-0.33433042,  0.59755463],\n",
       "       [-1.20101028, -0.0940246 ],\n",
       "       [ 1.74570123, -0.21599402],\n",
       "       [-1.20101028, -0.47124963],\n",
       "       [ 0.53234944, -0.72273298],\n",
       "       [ 0.01234152,  0.88676049],\n",
       "       [ 0.18567749, -0.47124963],\n",
       "       [ 0.01234152, -1.1364231 ],\n",
       "       [ 0.18567749, -0.97421634],\n",
       "       [ 1.05235735, -0.15689544],\n",
       "       [-0.16099445, -0.72273298],\n",
       "       [ 2.95905303, -0.72273298],\n",
       "       [-1.20101028,  0.69814797],\n",
       "       [ 1.22569332, -1.47718305],\n",
       "       [ 0.18567749, -1.85440808],\n",
       "       [ 2.09237318, -1.7286664 ],\n",
       "       [ 1.39902929,  0.26182435],\n",
       "       [-0.33433042, -0.26126103],\n",
       "       [ 1.57236526, -0.59699131],\n",
       "       [-0.33433042, -1.42311413],\n",
       "       [-0.85433834,  0.91190882],\n",
       "       [-0.85433834,  0.86161215],\n",
       "       [-0.33433042,  0.60509913],\n",
       "       [-0.68100236,  1.21368885],\n",
       "       [-0.85433834,  0.75221689],\n",
       "       [ 0.70568541, -0.40837879],\n",
       "       [-0.16099445, -1.57526156],\n",
       "       [-0.68100236,  1.28913386],\n",
       "       [-0.85433834, -1.85440808],\n",
       "       [-0.16099445,  0.95340358],\n",
       "       [-0.50766639,  0.91190882],\n",
       "       [-0.85433834,  0.15745876],\n",
       "       [-0.16099445,  1.01250217],\n",
       "       [-1.20101028, -0.34550795],\n",
       "       [-0.68100236, -0.26126103]])"
      ]
     },
     "execution_count": 82,
     "metadata": {},
     "output_type": "execute_result"
    }
   ],
   "source": [
    "x1_train_scaled"
   ]
  },
  {
   "cell_type": "code",
   "execution_count": 83,
   "metadata": {},
   "outputs": [
    {
     "data": {
      "text/plain": [
       "array([[ 0.01234152, -0.0940246 ],\n",
       "       [ 0.18567749, -0.72273298],\n",
       "       [ 0.35901346,  1.33943053],\n",
       "       [ 0.35901346, -0.21976627],\n",
       "       [ 0.18567749, -1.07480968],\n",
       "       [-0.33433042,  0.15745876],\n",
       "       [-0.16099445, -1.2634222 ],\n",
       "       [ 0.01234152, -1.1364231 ],\n",
       "       [-0.50766639,  1.45259804],\n",
       "       [-0.50766639,  1.16339218],\n",
       "       [-0.68100236, -1.85440808],\n",
       "       [-0.50766639,  0.24799277],\n",
       "       [ 2.95905303, -1.98014976],\n",
       "       [-0.33433042,  0.81131548],\n",
       "       [-1.28767826,  0.91190882],\n",
       "       [-0.50766639, -0.72273298],\n",
       "       [ 0.01234152, -0.26629069],\n",
       "       [ 0.70568541,  1.02507633],\n",
       "       [-0.85433834,  0.03171708],\n",
       "       [-0.16099445,  0.15745876],\n",
       "       [ 1.39902929, -0.59699131],\n",
       "       [-0.68100236,  1.0376505 ],\n",
       "       [-0.33433042, -0.68501048],\n",
       "       [ 0.01234152,  0.70192022],\n",
       "       [-0.50766639, -0.19461794],\n",
       "       [-0.50766639,  0.34732869],\n",
       "       [ 0.53234944,  0.53342637],\n",
       "       [-1.20101028,  0.28697269],\n",
       "       [-1.20101028, -0.21976627],\n",
       "       [ 0.01234152,  0.66042547],\n",
       "       [ 0.53234944, -0.26251844],\n",
       "       [ 0.53234944,  0.15745876]])"
      ]
     },
     "execution_count": 83,
     "metadata": {},
     "output_type": "execute_result"
    }
   ],
   "source": [
    "x1_test_scaled"
   ]
  },
  {
   "cell_type": "markdown",
   "metadata": {},
   "source": [
    "## K-NN model on training set"
   ]
  },
  {
   "cell_type": "code",
   "execution_count": 84,
   "metadata": {},
   "outputs": [],
   "source": [
    "from sklearn.neighbors import KNeighborsClassifier"
   ]
  },
  {
   "cell_type": "code",
   "execution_count": 85,
   "metadata": {},
   "outputs": [],
   "source": [
    "clas1=KNeighborsClassifier(n_neighbors = 5, metric = 'minkowski', p = 2)"
   ]
  },
  {
   "cell_type": "code",
   "execution_count": 86,
   "metadata": {},
   "outputs": [
    {
     "data": {
      "text/plain": [
       "KNeighborsClassifier(algorithm='auto', leaf_size=30, metric='minkowski',\n",
       "                     metric_params=None, n_jobs=None, n_neighbors=5, p=2,\n",
       "                     weights='uniform')"
      ]
     },
     "execution_count": 86,
     "metadata": {},
     "output_type": "execute_result"
    }
   ],
   "source": [
    "clas1.fit(x1_train_scaled, y1_train)"
   ]
  },
  {
   "cell_type": "markdown",
   "metadata": {},
   "source": [
    "## Predicting training results"
   ]
  },
  {
   "cell_type": "code",
   "execution_count": 87,
   "metadata": {},
   "outputs": [
    {
     "data": {
      "text/plain": [
       "array([1], dtype=int64)"
      ]
     },
     "execution_count": 87,
     "metadata": {},
     "output_type": "execute_result"
    }
   ],
   "source": [
    "clas1.predict(([[6,78]]))"
   ]
  },
  {
   "cell_type": "code",
   "execution_count": 88,
   "metadata": {},
   "outputs": [
    {
     "data": {
      "text/plain": [
       "array([0], dtype=int64)"
      ]
     },
     "execution_count": 88,
     "metadata": {},
     "output_type": "execute_result"
    }
   ],
   "source": [
    "clas1.predict(scaled1.transform(([[6,78]])))"
   ]
  },
  {
   "cell_type": "code",
   "execution_count": 89,
   "metadata": {},
   "outputs": [
    {
     "data": {
      "text/plain": [
       "array([[ 0.70568541, -0.97421634]])"
      ]
     },
     "execution_count": 89,
     "metadata": {},
     "output_type": "execute_result"
    }
   ],
   "source": [
    "scaled1.transform(([[6,78]]))"
   ]
  },
  {
   "cell_type": "markdown",
   "metadata": {},
   "source": [
    "## Predicting test results"
   ]
  },
  {
   "cell_type": "code",
   "execution_count": 90,
   "metadata": {},
   "outputs": [],
   "source": [
    "y1_pred=clas1.predict(x1_test_scaled)"
   ]
  },
  {
   "cell_type": "code",
   "execution_count": 91,
   "metadata": {},
   "outputs": [
    {
     "data": {
      "text/plain": [
       "array([1, 0, 1, 0, 0, 1, 1, 0, 1, 1, 1, 1, 0, 1, 1, 1, 0, 1, 1, 1, 0, 1,\n",
       "       1, 1, 1, 1, 1, 1, 1, 1, 0, 0], dtype=int64)"
      ]
     },
     "execution_count": 91,
     "metadata": {},
     "output_type": "execute_result"
    }
   ],
   "source": [
    "y1_pred"
   ]
  },
  {
   "cell_type": "markdown",
   "metadata": {},
   "source": [
    "## Confusion Matrix"
   ]
  },
  {
   "cell_type": "code",
   "execution_count": 92,
   "metadata": {},
   "outputs": [
    {
     "data": {
      "text/plain": [
       "array([1, 0, 1, 1, 1, 1, 1, 0, 1, 1, 1, 1, 0, 1, 1, 1, 0, 1, 1, 1, 0, 1,\n",
       "       1, 1, 1, 1, 0, 1, 1, 1, 1, 1], dtype=int64)"
      ]
     },
     "execution_count": 92,
     "metadata": {},
     "output_type": "execute_result"
    }
   ],
   "source": [
    "y1_test"
   ]
  },
  {
   "cell_type": "code",
   "execution_count": 93,
   "metadata": {},
   "outputs": [
    {
     "data": {
      "text/plain": [
       "array([1, 0, 1, 0, 0, 1, 1, 0, 1, 1, 1, 1, 0, 1, 1, 1, 0, 1, 1, 1, 0, 1,\n",
       "       1, 1, 1, 1, 1, 1, 1, 1, 0, 0], dtype=int64)"
      ]
     },
     "execution_count": 93,
     "metadata": {},
     "output_type": "execute_result"
    }
   ],
   "source": [
    "y1_pred"
   ]
  },
  {
   "cell_type": "code",
   "execution_count": 94,
   "metadata": {},
   "outputs": [],
   "source": [
    "data1={\"Original values (y1_test)\": y1_test,\n",
    "      \"Predicted values (y1_pred)\": y1_pred}"
   ]
  },
  {
   "cell_type": "code",
   "execution_count": 95,
   "metadata": {},
   "outputs": [],
   "source": [
    "data1_=pd.DataFrame(data1)"
   ]
  },
  {
   "cell_type": "code",
   "execution_count": 96,
   "metadata": {},
   "outputs": [
    {
     "data": {
      "text/html": [
       "<div>\n",
       "<style scoped>\n",
       "    .dataframe tbody tr th:only-of-type {\n",
       "        vertical-align: middle;\n",
       "    }\n",
       "\n",
       "    .dataframe tbody tr th {\n",
       "        vertical-align: top;\n",
       "    }\n",
       "\n",
       "    .dataframe thead th {\n",
       "        text-align: right;\n",
       "    }\n",
       "</style>\n",
       "<table border=\"1\" class=\"dataframe\">\n",
       "  <thead>\n",
       "    <tr style=\"text-align: right;\">\n",
       "      <th></th>\n",
       "      <th>Original values (y1_test)</th>\n",
       "      <th>Predicted values (y1_pred)</th>\n",
       "    </tr>\n",
       "  </thead>\n",
       "  <tbody>\n",
       "    <tr>\n",
       "      <th>0</th>\n",
       "      <td>1</td>\n",
       "      <td>1</td>\n",
       "    </tr>\n",
       "    <tr>\n",
       "      <th>1</th>\n",
       "      <td>0</td>\n",
       "      <td>0</td>\n",
       "    </tr>\n",
       "    <tr>\n",
       "      <th>2</th>\n",
       "      <td>1</td>\n",
       "      <td>1</td>\n",
       "    </tr>\n",
       "    <tr>\n",
       "      <th>3</th>\n",
       "      <td>1</td>\n",
       "      <td>0</td>\n",
       "    </tr>\n",
       "    <tr>\n",
       "      <th>4</th>\n",
       "      <td>1</td>\n",
       "      <td>0</td>\n",
       "    </tr>\n",
       "    <tr>\n",
       "      <th>5</th>\n",
       "      <td>1</td>\n",
       "      <td>1</td>\n",
       "    </tr>\n",
       "    <tr>\n",
       "      <th>6</th>\n",
       "      <td>1</td>\n",
       "      <td>1</td>\n",
       "    </tr>\n",
       "    <tr>\n",
       "      <th>7</th>\n",
       "      <td>0</td>\n",
       "      <td>0</td>\n",
       "    </tr>\n",
       "    <tr>\n",
       "      <th>8</th>\n",
       "      <td>1</td>\n",
       "      <td>1</td>\n",
       "    </tr>\n",
       "    <tr>\n",
       "      <th>9</th>\n",
       "      <td>1</td>\n",
       "      <td>1</td>\n",
       "    </tr>\n",
       "    <tr>\n",
       "      <th>10</th>\n",
       "      <td>1</td>\n",
       "      <td>1</td>\n",
       "    </tr>\n",
       "    <tr>\n",
       "      <th>11</th>\n",
       "      <td>1</td>\n",
       "      <td>1</td>\n",
       "    </tr>\n",
       "    <tr>\n",
       "      <th>12</th>\n",
       "      <td>0</td>\n",
       "      <td>0</td>\n",
       "    </tr>\n",
       "    <tr>\n",
       "      <th>13</th>\n",
       "      <td>1</td>\n",
       "      <td>1</td>\n",
       "    </tr>\n",
       "    <tr>\n",
       "      <th>14</th>\n",
       "      <td>1</td>\n",
       "      <td>1</td>\n",
       "    </tr>\n",
       "    <tr>\n",
       "      <th>15</th>\n",
       "      <td>1</td>\n",
       "      <td>1</td>\n",
       "    </tr>\n",
       "    <tr>\n",
       "      <th>16</th>\n",
       "      <td>0</td>\n",
       "      <td>0</td>\n",
       "    </tr>\n",
       "    <tr>\n",
       "      <th>17</th>\n",
       "      <td>1</td>\n",
       "      <td>1</td>\n",
       "    </tr>\n",
       "    <tr>\n",
       "      <th>18</th>\n",
       "      <td>1</td>\n",
       "      <td>1</td>\n",
       "    </tr>\n",
       "    <tr>\n",
       "      <th>19</th>\n",
       "      <td>1</td>\n",
       "      <td>1</td>\n",
       "    </tr>\n",
       "    <tr>\n",
       "      <th>20</th>\n",
       "      <td>0</td>\n",
       "      <td>0</td>\n",
       "    </tr>\n",
       "    <tr>\n",
       "      <th>21</th>\n",
       "      <td>1</td>\n",
       "      <td>1</td>\n",
       "    </tr>\n",
       "    <tr>\n",
       "      <th>22</th>\n",
       "      <td>1</td>\n",
       "      <td>1</td>\n",
       "    </tr>\n",
       "    <tr>\n",
       "      <th>23</th>\n",
       "      <td>1</td>\n",
       "      <td>1</td>\n",
       "    </tr>\n",
       "    <tr>\n",
       "      <th>24</th>\n",
       "      <td>1</td>\n",
       "      <td>1</td>\n",
       "    </tr>\n",
       "    <tr>\n",
       "      <th>25</th>\n",
       "      <td>1</td>\n",
       "      <td>1</td>\n",
       "    </tr>\n",
       "    <tr>\n",
       "      <th>26</th>\n",
       "      <td>0</td>\n",
       "      <td>1</td>\n",
       "    </tr>\n",
       "    <tr>\n",
       "      <th>27</th>\n",
       "      <td>1</td>\n",
       "      <td>1</td>\n",
       "    </tr>\n",
       "    <tr>\n",
       "      <th>28</th>\n",
       "      <td>1</td>\n",
       "      <td>1</td>\n",
       "    </tr>\n",
       "    <tr>\n",
       "      <th>29</th>\n",
       "      <td>1</td>\n",
       "      <td>1</td>\n",
       "    </tr>\n",
       "    <tr>\n",
       "      <th>30</th>\n",
       "      <td>1</td>\n",
       "      <td>0</td>\n",
       "    </tr>\n",
       "    <tr>\n",
       "      <th>31</th>\n",
       "      <td>1</td>\n",
       "      <td>0</td>\n",
       "    </tr>\n",
       "  </tbody>\n",
       "</table>\n",
       "</div>"
      ],
      "text/plain": [
       "    Original values (y1_test)  Predicted values (y1_pred)\n",
       "0                           1                           1\n",
       "1                           0                           0\n",
       "2                           1                           1\n",
       "3                           1                           0\n",
       "4                           1                           0\n",
       "5                           1                           1\n",
       "6                           1                           1\n",
       "7                           0                           0\n",
       "8                           1                           1\n",
       "9                           1                           1\n",
       "10                          1                           1\n",
       "11                          1                           1\n",
       "12                          0                           0\n",
       "13                          1                           1\n",
       "14                          1                           1\n",
       "15                          1                           1\n",
       "16                          0                           0\n",
       "17                          1                           1\n",
       "18                          1                           1\n",
       "19                          1                           1\n",
       "20                          0                           0\n",
       "21                          1                           1\n",
       "22                          1                           1\n",
       "23                          1                           1\n",
       "24                          1                           1\n",
       "25                          1                           1\n",
       "26                          0                           1\n",
       "27                          1                           1\n",
       "28                          1                           1\n",
       "29                          1                           1\n",
       "30                          1                           0\n",
       "31                          1                           0"
      ]
     },
     "execution_count": 96,
     "metadata": {},
     "output_type": "execute_result"
    }
   ],
   "source": [
    "data1_"
   ]
  },
  {
   "cell_type": "code",
   "execution_count": 97,
   "metadata": {},
   "outputs": [],
   "source": [
    "confusion_matrix1=pd.crosstab(data1_['Original values (y1_test)'],data1_['Predicted values (y1_pred)'],\n",
    "                            rownames=['Original values'], colnames=['Predicted values'])"
   ]
  },
  {
   "cell_type": "code",
   "execution_count": 98,
   "metadata": {},
   "outputs": [
    {
     "data": {
      "text/html": [
       "<div>\n",
       "<style scoped>\n",
       "    .dataframe tbody tr th:only-of-type {\n",
       "        vertical-align: middle;\n",
       "    }\n",
       "\n",
       "    .dataframe tbody tr th {\n",
       "        vertical-align: top;\n",
       "    }\n",
       "\n",
       "    .dataframe thead th {\n",
       "        text-align: right;\n",
       "    }\n",
       "</style>\n",
       "<table border=\"1\" class=\"dataframe\">\n",
       "  <thead>\n",
       "    <tr style=\"text-align: right;\">\n",
       "      <th>Predicted values</th>\n",
       "      <th>0</th>\n",
       "      <th>1</th>\n",
       "    </tr>\n",
       "    <tr>\n",
       "      <th>Original values</th>\n",
       "      <th></th>\n",
       "      <th></th>\n",
       "    </tr>\n",
       "  </thead>\n",
       "  <tbody>\n",
       "    <tr>\n",
       "      <th>0</th>\n",
       "      <td>5</td>\n",
       "      <td>1</td>\n",
       "    </tr>\n",
       "    <tr>\n",
       "      <th>1</th>\n",
       "      <td>4</td>\n",
       "      <td>22</td>\n",
       "    </tr>\n",
       "  </tbody>\n",
       "</table>\n",
       "</div>"
      ],
      "text/plain": [
       "Predicted values  0   1\n",
       "Original values        \n",
       "0                 5   1\n",
       "1                 4  22"
      ]
     },
     "execution_count": 98,
     "metadata": {},
     "output_type": "execute_result"
    }
   ],
   "source": [
    "confusion_matrix1"
   ]
  },
  {
   "cell_type": "code",
   "execution_count": 99,
   "metadata": {},
   "outputs": [
    {
     "data": {
      "text/plain": [
       "<matplotlib.axes._subplots.AxesSubplot at 0xd67dc90>"
      ]
     },
     "execution_count": 99,
     "metadata": {},
     "output_type": "execute_result"
    },
    {
     "data": {
      "image/png": "[encoded data removed]",
      "text/plain": [
       "<Figure size 432x288 with 2 Axes>"
      ]
     },
     "metadata": {
      "needs_background": "light"
     },
     "output_type": "display_data"
    }
   ],
   "source": [
    "sn.heatmap(confusion_matrix1, annot=True)"
   ]
  },
  {
   "cell_type": "code",
   "execution_count": 100,
   "metadata": {},
   "outputs": [
    {
     "data": {
      "text/plain": [
       "9"
      ]
     },
     "execution_count": 100,
     "metadata": {},
     "output_type": "execute_result"
    }
   ],
   "source": [
    "len(y1_pred[y1_pred==0])"
   ]
  },
  {
   "cell_type": "code",
   "execution_count": 101,
   "metadata": {},
   "outputs": [
    {
     "data": {
      "text/plain": [
       "23"
      ]
     },
     "execution_count": 101,
     "metadata": {},
     "output_type": "execute_result"
    }
   ],
   "source": [
    "len(y1_pred[y1_pred==1])"
   ]
  },
  {
   "cell_type": "markdown",
   "metadata": {},
   "source": [
    "## Accuracy Score"
   ]
  },
  {
   "cell_type": "code",
   "execution_count": 102,
   "metadata": {},
   "outputs": [
    {
     "name": "stdout",
     "output_type": "stream",
     "text": [
      "Accuracy Score:  0.84375\n"
     ]
    }
   ],
   "source": [
    "print(\"Accuracy Score: \",accuracy_score(y1_test,y1_pred))"
   ]
  },
  {
   "cell_type": "markdown",
   "metadata": {},
   "source": [
    "## Visualization of K-NN model on training set"
   ]
  },
  {
   "cell_type": "code",
   "execution_count": 103,
   "metadata": {},
   "outputs": [
    {
     "name": "stderr",
     "output_type": "stream",
     "text": [
      "'c' argument looks like a single numeric RGB or RGBA sequence, which should be avoided as value-mapping will have precedence in case its length matches with 'x' & 'y'.  Please use a 2-D array with a single row if you really want to specify the same RGB or RGBA value for all points.\n",
      "'c' argument looks like a single numeric RGB or RGBA sequence, which should be avoided as value-mapping will have precedence in case its length matches with 'x' & 'y'.  Please use a 2-D array with a single row if you really want to specify the same RGB or RGBA value for all points.\n"
     ]
    },
    {
     "data": {
      "image/png": "[encoded data removed]",
      "text/plain": [
       "<Figure size 432x288 with 1 Axes>"
      ]
     },
     "metadata": {
      "needs_background": "light"
     },
     "output_type": "display_data"
    }
   ],
   "source": [
    "x1_set, y1_set = scaled1.inverse_transform(x1_train_scaled), y1_train\n",
    "\n",
    "x1_, x2_ = np.meshgrid(np.arange(start = x1_set[:, 0].min() - 10, stop = x1_set[:, 0].max() + 10, step = 0.2),\n",
    "                     np.arange(start = x1_set[:, 1].min() - 1000, stop = x1_set[:, 1].max() + 1000, step = 0.2))\n",
    "\n",
    "plt.contourf(x1_, x2_, clas1.predict(scaled1.transform(np.array([x1_.ravel(), x2_.ravel()]).T)).reshape(x1_.shape),\n",
    "             alpha = 0.75, cmap = ListedColormap(('orange', 'green')))\n",
    "\n",
    "plt.xlim(0,12)\n",
    "plt.ylim(60,100)\n",
    "\n",
    "for i, j in enumerate(np.unique(y1_set)):\n",
    "    plt.scatter(x1_set[y1_set == j, 0], x1_set[y1_set == j, 1], c = ListedColormap(('orange', 'green'))(i), label = j)\n",
    "    \n",
    "plt.title(\"K-NN model on training set\")\n",
    "plt.xlabel(\"Time spent on lessons\")\n",
    "plt.ylabel(\"GPA\")\n",
    "plt.legend()\n",
    "plt.show()"
   ]
  },
  {
   "cell_type": "code",
   "execution_count": 104,
   "metadata": {},
   "outputs": [
    {
     "data": {
      "text/plain": [
       "-9.75"
      ]
     },
     "execution_count": 104,
     "metadata": {},
     "output_type": "execute_result"
    }
   ],
   "source": [
    "x1_.min()"
   ]
  },
  {
   "cell_type": "code",
   "execution_count": 105,
   "metadata": {},
   "outputs": [
    {
     "data": {
      "text/plain": [
       "1098.6000000004665"
      ]
     },
     "execution_count": 105,
     "metadata": {},
     "output_type": "execute_result"
    }
   ],
   "source": [
    "x2_.max()"
   ]
  },
  {
   "cell_type": "code",
   "execution_count": 106,
   "metadata": {},
   "outputs": [
    {
     "name": "stderr",
     "output_type": "stream",
     "text": [
      "'c' argument looks like a single numeric RGB or RGBA sequence, which should be avoided as value-mapping will have precedence in case its length matches with 'x' & 'y'.  Please use a 2-D array with a single row if you really want to specify the same RGB or RGBA value for all points.\n",
      "'c' argument looks like a single numeric RGB or RGBA sequence, which should be avoided as value-mapping will have precedence in case its length matches with 'x' & 'y'.  Please use a 2-D array with a single row if you really want to specify the same RGB or RGBA value for all points.\n"
     ]
    },
    {
     "data": {
      "image/png": "[encoded data removed]",
      "text/plain": [
       "<Figure size 432x288 with 1 Axes>"
      ]
     },
     "metadata": {
      "needs_background": "light"
     },
     "output_type": "display_data"
    }
   ],
   "source": [
    "for i, j in enumerate(np.unique(y1_set)):\n",
    "    plt.scatter(x1_set[y1_set == j, 0], x1_set[y1_set == j, 1], c = ListedColormap(('orange', 'green'))(i), label = j)"
   ]
  },
  {
   "cell_type": "markdown",
   "metadata": {},
   "source": [
    "## Visualization of K-NN model on test set"
   ]
  },
  {
   "cell_type": "code",
   "execution_count": 107,
   "metadata": {},
   "outputs": [
    {
     "name": "stderr",
     "output_type": "stream",
     "text": [
      "'c' argument looks like a single numeric RGB or RGBA sequence, which should be avoided as value-mapping will have precedence in case its length matches with 'x' & 'y'.  Please use a 2-D array with a single row if you really want to specify the same RGB or RGBA value for all points.\n",
      "'c' argument looks like a single numeric RGB or RGBA sequence, which should be avoided as value-mapping will have precedence in case its length matches with 'x' & 'y'.  Please use a 2-D array with a single row if you really want to specify the same RGB or RGBA value for all points.\n"
     ]
    },
    {
     "data": {
      "image/png": "[encoded data removed]",
      "text/plain": [
       "<Figure size 432x288 with 1 Axes>"
      ]
     },
     "metadata": {
      "needs_background": "light"
     },
     "output_type": "display_data"
    }
   ],
   "source": [
    "x1_set, y1_set = scaled1.inverse_transform(x1_test_scaled), y1_test\n",
    "\n",
    "x1_, x2_ = np.meshgrid(np.arange(start = x1_set[:, 0].min() - 10, stop = x1_set[:, 0].max() + 10, step = 0.4),\n",
    "                     np.arange(start = x1_set[:, 1].min() - 1000, stop = x1_set[:, 1].max() + 1000, step = 0.4))\n",
    "\n",
    "plt.contourf(x1_, x2_, clas1.predict(scaled1.transform(np.array([x1_.ravel(), x2_.ravel()]).T)).reshape(x1_.shape),\n",
    "             alpha = 0.75, cmap = ListedColormap(('orange', 'green')))\n",
    "\n",
    "plt.xlim(0,12)\n",
    "plt.ylim(60,100)\n",
    "\n",
    "for i, j in enumerate(np.unique(y1_set)):\n",
    "    plt.scatter(x1_set[y1_set == j, 0], x1_set[y1_set == j, 1], c = ListedColormap(('orange', 'green'))(i), label = j)\n",
    "    \n",
    "plt.title(\"K-NN model on test set\")\n",
    "plt.xlabel(\"Time spent on lessons\")\n",
    "plt.ylabel(\"GPA\")\n",
    "plt.legend()\n",
    "plt.show()"
   ]
  },
  {
   "cell_type": "markdown",
   "metadata": {},
   "source": [
    "# 3. Support Vector Machine ( SVM )"
   ]
  },
  {
   "cell_type": "code",
   "execution_count": 108,
   "metadata": {},
   "outputs": [
    {
     "data": {
      "text/html": [
       "<div>\n",
       "<style scoped>\n",
       "    .dataframe tbody tr th:only-of-type {\n",
       "        vertical-align: middle;\n",
       "    }\n",
       "\n",
       "    .dataframe tbody tr th {\n",
       "        vertical-align: top;\n",
       "    }\n",
       "\n",
       "    .dataframe thead th {\n",
       "        text-align: right;\n",
       "    }\n",
       "</style>\n",
       "<table border=\"1\" class=\"dataframe\">\n",
       "  <thead>\n",
       "    <tr style=\"text-align: right;\">\n",
       "      <th></th>\n",
       "      <th>time_lessons</th>\n",
       "      <th>GPA</th>\n",
       "      <th>attendance</th>\n",
       "    </tr>\n",
       "  </thead>\n",
       "  <tbody>\n",
       "    <tr>\n",
       "      <th>0</th>\n",
       "      <td>4.0</td>\n",
       "      <td>90.60</td>\n",
       "      <td>1</td>\n",
       "    </tr>\n",
       "    <tr>\n",
       "      <th>1</th>\n",
       "      <td>7.0</td>\n",
       "      <td>84.50</td>\n",
       "      <td>0</td>\n",
       "    </tr>\n",
       "    <tr>\n",
       "      <th>3</th>\n",
       "      <td>2.0</td>\n",
       "      <td>80.00</td>\n",
       "      <td>1</td>\n",
       "    </tr>\n",
       "    <tr>\n",
       "      <th>4</th>\n",
       "      <td>7.0</td>\n",
       "      <td>98.50</td>\n",
       "      <td>1</td>\n",
       "    </tr>\n",
       "    <tr>\n",
       "      <th>5</th>\n",
       "      <td>2.0</td>\n",
       "      <td>91.26</td>\n",
       "      <td>1</td>\n",
       "    </tr>\n",
       "    <tr>\n",
       "      <th>...</th>\n",
       "      <td>...</td>\n",
       "      <td>...</td>\n",
       "      <td>...</td>\n",
       "    </tr>\n",
       "    <tr>\n",
       "      <th>157</th>\n",
       "      <td>1.5</td>\n",
       "      <td>92.27</td>\n",
       "      <td>1</td>\n",
       "    </tr>\n",
       "    <tr>\n",
       "      <th>158</th>\n",
       "      <td>10.0</td>\n",
       "      <td>72.00</td>\n",
       "      <td>0</td>\n",
       "    </tr>\n",
       "    <tr>\n",
       "      <th>159</th>\n",
       "      <td>2.0</td>\n",
       "      <td>74.73</td>\n",
       "      <td>1</td>\n",
       "    </tr>\n",
       "    <tr>\n",
       "      <th>160</th>\n",
       "      <td>3.0</td>\n",
       "      <td>83.87</td>\n",
       "      <td>1</td>\n",
       "    </tr>\n",
       "    <tr>\n",
       "      <th>161</th>\n",
       "      <td>3.5</td>\n",
       "      <td>96.70</td>\n",
       "      <td>1</td>\n",
       "    </tr>\n",
       "  </tbody>\n",
       "</table>\n",
       "<p>157 rows × 3 columns</p>\n",
       "</div>"
      ],
      "text/plain": [
       "     time_lessons    GPA  attendance\n",
       "0             4.0  90.60           1\n",
       "1             7.0  84.50           0\n",
       "3             2.0  80.00           1\n",
       "4             7.0  98.50           1\n",
       "5             2.0  91.26           1\n",
       "..            ...    ...         ...\n",
       "157           1.5  92.27           1\n",
       "158          10.0  72.00           0\n",
       "159           2.0  74.73           1\n",
       "160           3.0  83.87           1\n",
       "161           3.5  96.70           1\n",
       "\n",
       "[157 rows x 3 columns]"
      ]
     },
     "execution_count": 108,
     "metadata": {},
     "output_type": "execute_result"
    }
   ],
   "source": [
    "df"
   ]
  },
  {
   "cell_type": "markdown",
   "metadata": {},
   "source": [
    "### Determining  independent and dependent variables"
   ]
  },
  {
   "cell_type": "code",
   "execution_count": 109,
   "metadata": {},
   "outputs": [],
   "source": [
    "x_2=df.iloc[:,:-1].values\n",
    "y_2=df.iloc[:,-1].values"
   ]
  },
  {
   "cell_type": "code",
   "execution_count": 110,
   "metadata": {},
   "outputs": [
    {
     "data": {
      "text/plain": [
       "array([[ 4.  , 90.6 ],\n",
       "       [ 7.  , 84.5 ],\n",
       "       [ 2.  , 80.  ],\n",
       "       [ 7.  , 98.5 ],\n",
       "       [ 2.  , 91.26],\n",
       "       [ 2.5 , 80.  ],\n",
       "       [ 3.  , 86.  ],\n",
       "       [ 4.5 , 71.  ],\n",
       "       [ 4.5 , 82.  ],\n",
       "       [ 2.  , 85.33],\n",
       "       [ 8.5 , 95.56],\n",
       "       [ 1.5 , 92.3 ],\n",
       "       [ 2.5 , 72.  ],\n",
       "       [ 5.5 , 80.  ],\n",
       "       [ 3.5 , 75.7 ],\n",
       "       [ 1.5 , 88.83],\n",
       "       [ 6.  , 93.9 ],\n",
       "       [ 0.25, 90.11],\n",
       "       [ 0.3 , 47.  ],\n",
       "       [ 1.5 , 86.  ],\n",
       "       [ 2.  , 95.4 ],\n",
       "       [12.  , 89.5 ],\n",
       "       [12.5 , 80.  ],\n",
       "       [ 4.  , 76.63],\n",
       "       [ 2.  , 76.  ],\n",
       "       [ 1.5 , 91.73],\n",
       "       [ 9.  , 91.  ],\n",
       "       [ 2.5 , 80.  ],\n",
       "       [ 4.  , 77.  ],\n",
       "       [ 3.5 , 87.  ],\n",
       "       [ 1.5 , 81.  ],\n",
       "       [ 5.  , 84.  ],\n",
       "       [ 3.  , 94.2 ],\n",
       "       [ 1.5 , 80.  ],\n",
       "       [ 1.5 , 83.  ],\n",
       "       [ 4.5 , 77.2 ],\n",
       "       [ 5.  , 84.  ],\n",
       "       [ 2.  , 83.67],\n",
       "       [ 2.5 , 91.5 ],\n",
       "       [11.  , 77.  ],\n",
       "       [ 3.  , 87.  ],\n",
       "       [ 4.5 , 96.5 ],\n",
       "       [ 0.5 , 88.03],\n",
       "       [ 1.5 , 91.27],\n",
       "       [ 4.  , 91.  ],\n",
       "       [ 3.5 , 93.  ],\n",
       "       [ 6.5 , 90.  ],\n",
       "       [ 9.  , 84.03],\n",
       "       [ 1.5 , 92.  ],\n",
       "       [ 2.5 , 94.  ],\n",
       "       [ 3.  , 74.43],\n",
       "       [ 5.  , 96.4 ],\n",
       "       [ 8.  , 93.  ],\n",
       "       [ 2.5 , 97.3 ],\n",
       "       [ 8.  , 96.  ],\n",
       "       [ 4.5 , 90.5 ],\n",
       "       [ 8.  , 81.  ],\n",
       "       [ 3.5 , 80.  ],\n",
       "       [ 5.5 , 92.6 ],\n",
       "       [ 5.5 , 78.  ],\n",
       "       [ 4.  , 76.71],\n",
       "       [ 0.5 , 91.3 ],\n",
       "       [ 2.  , 91.33],\n",
       "       [ 7.5 , 74.  ],\n",
       "       [ 4.5 , 90.73],\n",
       "       [ 4.5 , 96.  ],\n",
       "       [ 2.5 , 76.  ],\n",
       "       [ 5.  , 91.4 ],\n",
       "       [ 8.5 , 81.  ],\n",
       "       [ 2.5 , 88.51],\n",
       "       [ 4.  , 89.  ],\n",
       "       [ 3.5 , 73.22],\n",
       "       [ 3.5 , 93.8 ],\n",
       "       [10.  , 92.85],\n",
       "       [ 1.5 , 94.8 ],\n",
       "       [ 4.5 , 80.  ],\n",
       "       [ 5.5 , 84.5 ],\n",
       "       [ 7.  , 79.47],\n",
       "       [ 2.5 , 87.72],\n",
       "       [ 3.5 , 93.33],\n",
       "       [ 2.  , 69.87],\n",
       "       [ 2.  , 83.  ],\n",
       "       [ 2.5 , 93.03],\n",
       "       [ 2.  , 75.83],\n",
       "       [11.5 , 88.  ],\n",
       "       [ 2.  , 77.5 ],\n",
       "       [ 8.  , 87.83],\n",
       "       [ 1.  , 91.5 ],\n",
       "       [ 4.  , 92.8 ],\n",
       "       [ 0.25, 93.  ],\n",
       "       [ 3.  , 92.2 ],\n",
       "       [ 3.5 , 78.2 ],\n",
       "       [12.5 , 70.  ],\n",
       "       [ 2.5 , 84.2 ],\n",
       "       [ 5.5 , 89.99],\n",
       "       [ 1.5 , 91.  ],\n",
       "       [ 3.  , 83.67],\n",
       "       [ 2.5 , 89.43],\n",
       "       [ 5.  , 84.  ],\n",
       "       [ 4.  , 91.33],\n",
       "       [ 3.  , 91.  ],\n",
       "       [ 3.  , 90.56],\n",
       "       [ 1.  , 89.  ],\n",
       "       [ 3.5 , 70.  ],\n",
       "       [ 4.5 , 89.  ],\n",
       "       [ 5.5 , 83.66],\n",
       "       [ 0.5 , 85.  ],\n",
       "       [ 9.  , 83.  ],\n",
       "       [ 5.5 , 82.  ],\n",
       "       [ 4.  , 76.71],\n",
       "       [ 0.5 , 83.  ],\n",
       "       [ 2.5 , 91.3 ],\n",
       "       [10.  , 85.27],\n",
       "       [ 5.  , 84.  ],\n",
       "       [ 3.  , 90.44],\n",
       "       [ 0.5 , 82.  ],\n",
       "       [10.5 , 98.67],\n",
       "       [ 4.  , 85.  ],\n",
       "       [ 8.  , 93.  ],\n",
       "       [ 0.5 , 80.  ],\n",
       "       [ 3.  , 81.  ],\n",
       "       [ 3.  , 90.5 ],\n",
       "       [ 0.5 , 84.  ],\n",
       "       [ 4.  , 83.63],\n",
       "       [ 5.  , 85.  ],\n",
       "       [ 3.  , 94.  ],\n",
       "       [ 0.5 , 82.  ],\n",
       "       [ 4.  , 82.  ],\n",
       "       [ 4.5 , 78.  ],\n",
       "       [ 2.  , 96.  ],\n",
       "       [ 6.  , 77.  ],\n",
       "       [ 3.  , 79.  ],\n",
       "       [ 4.  , 88.2 ],\n",
       "       [ 2.5 , 93.  ],\n",
       "       [ 6.  , 82.5 ],\n",
       "       [11.  , 98.6 ],\n",
       "       [ 2.  , 89.  ],\n",
       "       [ 1.5 , 87.  ],\n",
       "       [ 5.5 , 87.  ],\n",
       "       [ 1.5 , 92.6 ],\n",
       "       [ 0.5 , 83.  ],\n",
       "       [ 0.5 , 87.  ],\n",
       "       [ 1.5 , 93.  ],\n",
       "       [ 3.  , 80.3 ],\n",
       "       [ 1.5 , 71.  ],\n",
       "       [ 0.5 , 94.04],\n",
       "       [ 1.5 , 88.  ],\n",
       "       [ 2.5 , 95.  ],\n",
       "       [ 3.  , 93.17],\n",
       "       [ 5.  , 80.  ],\n",
       "       [ 2.  , 94.  ],\n",
       "       [ 2.  , 71.  ],\n",
       "       [ 1.5 , 92.27],\n",
       "       [10.  , 72.  ],\n",
       "       [ 2.  , 74.73],\n",
       "       [ 3.  , 83.87],\n",
       "       [ 3.5 , 96.7 ]])"
      ]
     },
     "execution_count": 110,
     "metadata": {},
     "output_type": "execute_result"
    }
   ],
   "source": [
    "x_2"
   ]
  },
  {
   "cell_type": "code",
   "execution_count": 111,
   "metadata": {},
   "outputs": [
    {
     "data": {
      "text/plain": [
       "array([1, 0, 1, 1, 1, 1, 1, 0, 0, 1, 1, 1, 1, 0, 1, 1, 1, 1, 1, 1, 1, 0,\n",
       "       0, 1, 1, 1, 1, 1, 0, 1, 1, 1, 1, 1, 1, 1, 0, 1, 1, 0, 1, 1, 1, 1,\n",
       "       1, 1, 1, 0, 1, 1, 1, 1, 1, 1, 1, 0, 0, 1, 1, 0, 0, 1, 1, 0, 0, 1,\n",
       "       1, 1, 1, 1, 1, 1, 1, 0, 1, 0, 0, 0, 1, 1, 1, 1, 1, 1, 0, 1, 0, 1,\n",
       "       1, 1, 1, 1, 0, 1, 0, 1, 1, 1, 0, 1, 1, 1, 1, 1, 1, 1, 1, 1, 0, 0,\n",
       "       1, 1, 0, 1, 1, 1, 1, 1, 1, 1, 1, 1, 1, 0, 1, 1, 1, 0, 0, 1, 1, 1,\n",
       "       0, 1, 0, 1, 1, 1, 1, 1, 1, 1, 1, 1, 1, 1, 1, 1, 1, 1, 1, 1, 1, 0,\n",
       "       1, 1, 1], dtype=int64)"
      ]
     },
     "execution_count": 111,
     "metadata": {},
     "output_type": "execute_result"
    }
   ],
   "source": [
    "y_2"
   ]
  },
  {
   "cell_type": "markdown",
   "metadata": {},
   "source": [
    "## Train and test split"
   ]
  },
  {
   "cell_type": "code",
   "execution_count": 112,
   "metadata": {},
   "outputs": [],
   "source": [
    "x2_train, x2_test, y2_train, y2_test = train_test_split(x_2, y_2, test_size = 0.2, random_state = 1)"
   ]
  },
  {
   "cell_type": "code",
   "execution_count": 113,
   "metadata": {},
   "outputs": [
    {
     "data": {
      "text/plain": [
       "array([[ 2.5 , 76.  ],\n",
       "       [ 1.5 , 80.  ],\n",
       "       [ 0.5 , 87.  ],\n",
       "       [ 5.5 , 78.  ],\n",
       "       [ 4.  , 82.  ],\n",
       "       [ 3.  , 79.  ],\n",
       "       [ 5.  , 80.  ],\n",
       "       [ 3.  , 94.  ],\n",
       "       [ 5.5 , 92.6 ],\n",
       "       [ 4.  , 77.  ],\n",
       "       [ 5.  , 85.  ],\n",
       "       [ 2.5 , 91.3 ],\n",
       "       [ 8.  , 96.  ],\n",
       "       [ 0.25, 90.11],\n",
       "       [10.  , 92.85],\n",
       "       [ 4.5 , 89.  ],\n",
       "       [11.  , 98.6 ],\n",
       "       [ 7.  , 79.47],\n",
       "       [ 0.3 , 47.  ],\n",
       "       [ 1.5 , 92.  ],\n",
       "       [ 2.  , 91.26],\n",
       "       [ 3.5 , 93.  ],\n",
       "       [ 1.  , 89.  ],\n",
       "       [11.  , 77.  ],\n",
       "       [ 5.  , 84.  ],\n",
       "       [ 3.  , 81.  ],\n",
       "       [ 0.5 , 94.04],\n",
       "       [ 0.5 , 83.  ],\n",
       "       [ 2.5 , 72.  ],\n",
       "       [ 1.5 , 92.3 ],\n",
       "       [ 2.  , 77.5 ],\n",
       "       [ 0.5 , 82.  ],\n",
       "       [ 2.5 , 89.43],\n",
       "       [10.5 , 98.67],\n",
       "       [ 2.  , 80.  ],\n",
       "       [ 9.  , 83.  ],\n",
       "       [ 3.  , 86.  ],\n",
       "       [ 4.  , 90.6 ],\n",
       "       [ 5.  , 84.  ],\n",
       "       [ 4.5 , 96.  ],\n",
       "       [ 4.5 , 90.5 ],\n",
       "       [ 2.  , 83.  ],\n",
       "       [11.5 , 88.  ],\n",
       "       [ 6.5 , 90.  ],\n",
       "       [ 2.  , 91.33],\n",
       "       [ 1.5 , 94.8 ],\n",
       "       [ 0.5 , 80.  ],\n",
       "       [ 1.5 , 91.  ],\n",
       "       [ 3.5 , 70.  ],\n",
       "       [ 3.5 , 78.2 ],\n",
       "       [ 8.5 , 95.56],\n",
       "       [ 1.5 , 83.  ],\n",
       "       [ 3.  , 94.2 ],\n",
       "       [ 6.  , 77.  ],\n",
       "       [ 2.5 , 91.5 ],\n",
       "       [ 2.  , 75.83],\n",
       "       [ 3.  , 90.44],\n",
       "       [ 3.5 , 96.7 ],\n",
       "       [ 2.5 , 80.  ],\n",
       "       [ 4.  , 76.63],\n",
       "       [ 5.  , 91.4 ],\n",
       "       [ 2.  , 85.33],\n",
       "       [ 1.5 , 92.27],\n",
       "       [ 3.  , 91.  ],\n",
       "       [ 5.5 , 82.  ],\n",
       "       [ 2.  , 89.  ],\n",
       "       [ 1.  , 91.5 ],\n",
       "       [ 5.  , 84.  ],\n",
       "       [ 1.5 , 88.  ],\n",
       "       [10.  , 85.27],\n",
       "       [ 4.5 , 90.73],\n",
       "       [ 1.5 , 88.83],\n",
       "       [ 2.5 , 93.03],\n",
       "       [ 4.5 , 96.5 ],\n",
       "       [ 2.  , 69.87],\n",
       "       [ 8.  , 93.  ],\n",
       "       [ 9.  , 91.  ],\n",
       "       [ 5.5 , 84.5 ],\n",
       "       [ 1.5 , 91.27],\n",
       "       [ 2.  , 76.  ],\n",
       "       [ 3.  , 83.87],\n",
       "       [ 8.  , 93.  ],\n",
       "       [ 4.  , 88.2 ],\n",
       "       [ 2.5 , 94.  ],\n",
       "       [12.  , 89.5 ],\n",
       "       [ 4.  , 89.  ],\n",
       "       [ 7.  , 98.5 ],\n",
       "       [ 3.  , 93.17],\n",
       "       [ 1.5 , 81.  ],\n",
       "       [ 2.  , 74.73],\n",
       "       [ 3.  , 90.5 ],\n",
       "       [ 0.5 , 85.  ],\n",
       "       [ 9.  , 84.03],\n",
       "       [ 0.5 , 82.  ],\n",
       "       [ 5.5 , 80.  ],\n",
       "       [ 4.  , 92.8 ],\n",
       "       [ 4.5 , 82.  ],\n",
       "       [ 4.  , 76.71],\n",
       "       [ 4.5 , 78.  ],\n",
       "       [ 7.  , 84.5 ],\n",
       "       [ 3.5 , 80.  ],\n",
       "       [12.5 , 80.  ],\n",
       "       [ 0.5 , 91.3 ],\n",
       "       [ 7.5 , 74.  ],\n",
       "       [ 4.5 , 71.  ],\n",
       "       [10.  , 72.  ],\n",
       "       [ 8.  , 87.83],\n",
       "       [ 3.  , 83.67],\n",
       "       [ 8.5 , 81.  ],\n",
       "       [ 3.  , 74.43],\n",
       "       [ 1.5 , 93.  ],\n",
       "       [ 1.5 , 92.6 ],\n",
       "       [ 3.  , 90.56],\n",
       "       [ 2.  , 95.4 ],\n",
       "       [ 1.5 , 91.73],\n",
       "       [ 6.  , 82.5 ],\n",
       "       [ 3.5 , 73.22],\n",
       "       [ 2.  , 96.  ],\n",
       "       [ 1.5 , 71.  ],\n",
       "       [ 3.5 , 93.33],\n",
       "       [ 2.5 , 93.  ],\n",
       "       [ 1.5 , 87.  ],\n",
       "       [ 3.5 , 93.8 ],\n",
       "       [ 0.5 , 83.  ],\n",
       "       [ 2.  , 83.67]])"
      ]
     },
     "execution_count": 113,
     "metadata": {},
     "output_type": "execute_result"
    }
   ],
   "source": [
    "x2_train"
   ]
  },
  {
   "cell_type": "code",
   "execution_count": 114,
   "metadata": {},
   "outputs": [
    {
     "data": {
      "text/plain": [
       "array([1, 0, 1, 1, 1, 1, 1, 0, 1, 1, 1, 1, 0, 1, 1, 1, 0, 1, 1, 1, 0, 1,\n",
       "       1, 1, 1, 1, 0, 1, 1, 1, 1, 1], dtype=int64)"
      ]
     },
     "execution_count": 114,
     "metadata": {},
     "output_type": "execute_result"
    }
   ],
   "source": [
    "y2_test"
   ]
  },
  {
   "cell_type": "markdown",
   "metadata": {},
   "source": [
    "## Scaling the data"
   ]
  },
  {
   "cell_type": "code",
   "execution_count": 115,
   "metadata": {},
   "outputs": [],
   "source": [
    "scaled2=StandardScaler()"
   ]
  },
  {
   "cell_type": "code",
   "execution_count": 116,
   "metadata": {},
   "outputs": [],
   "source": [
    "x2_train_scaled=scaled2.fit_transform(x2_train)\n",
    "x2_test_scaled=scaled2.transform(x2_test)"
   ]
  },
  {
   "cell_type": "code",
   "execution_count": 117,
   "metadata": {},
   "outputs": [
    {
     "data": {
      "text/plain": [
       "array([[-0.50766639, -1.22569969],\n",
       "       [-0.85433834, -0.72273298],\n",
       "       [-1.20101028,  0.15745876],\n",
       "       [ 0.53234944, -0.97421634],\n",
       "       [ 0.01234152, -0.47124963],\n",
       "       [-0.33433042, -0.84847466],\n",
       "       [ 0.35901346, -0.72273298],\n",
       "       [-0.33433042,  1.0376505 ],\n",
       "       [ 0.53234944,  0.86161215],\n",
       "       [ 0.01234152, -1.09995802],\n",
       "       [ 0.35901346, -0.0940246 ],\n",
       "       [-0.50766639,  0.69814797],\n",
       "       [ 1.39902929,  1.28913386],\n",
       "       [-1.28767826,  0.54851538],\n",
       "       [ 2.09237318,  0.89304757],\n",
       "       [ 0.18567749,  0.40894211],\n",
       "       [ 2.43904512,  1.61606222],\n",
       "       [ 1.05235735, -0.78937607],\n",
       "       [-1.27034467, -4.87220834],\n",
       "       [-0.85433834,  0.78616715],\n",
       "       [-0.68100236,  0.6931183 ],\n",
       "       [-0.16099445,  0.91190882],\n",
       "       [-1.02767431,  0.40894211],\n",
       "       [ 2.43904512, -1.09995802],\n",
       "       [ 0.35901346, -0.21976627],\n",
       "       [-0.33433042, -0.59699131],\n",
       "       [-1.20101028,  1.04268017],\n",
       "       [-1.20101028, -0.34550795],\n",
       "       [-0.50766639, -1.7286664 ],\n",
       "       [-0.85433834,  0.82388965],\n",
       "       [-0.68100236, -1.03708718],\n",
       "       [-1.20101028, -0.47124963],\n",
       "       [-0.50766639,  0.46301103],\n",
       "       [ 2.26570915,  1.62486414],\n",
       "       [-0.68100236, -0.72273298],\n",
       "       [ 1.74570123, -0.34550795],\n",
       "       [-0.33433042,  0.03171708],\n",
       "       [ 0.01234152,  0.6101288 ],\n",
       "       [ 0.35901346, -0.21976627],\n",
       "       [ 0.18567749,  1.28913386],\n",
       "       [ 0.18567749,  0.59755463],\n",
       "       [-0.68100236, -0.34550795],\n",
       "       [ 2.61238109,  0.28320044],\n",
       "       [ 0.87902138,  0.53468379],\n",
       "       [-0.68100236,  0.70192022],\n",
       "       [-0.85433834,  1.13824384],\n",
       "       [-1.20101028, -0.72273298],\n",
       "       [-0.85433834,  0.66042547],\n",
       "       [-0.16099445, -1.98014976],\n",
       "       [-0.16099445, -0.949068  ],\n",
       "       [ 1.57236526,  1.23380752],\n",
       "       [-0.85433834, -0.34550795],\n",
       "       [-0.33433042,  1.06279884],\n",
       "       [ 0.70568541, -1.09995802],\n",
       "       [-0.50766639,  0.72329631],\n",
       "       [-0.68100236, -1.24707578],\n",
       "       [-0.33433042,  0.59001013],\n",
       "       [-0.16099445,  1.37715303],\n",
       "       [-0.50766639, -0.72273298],\n",
       "       [ 0.01234152, -1.14648244],\n",
       "       [ 0.35901346,  0.71072214],\n",
       "       [-0.68100236, -0.05252984],\n",
       "       [-0.85433834,  0.8201174 ],\n",
       "       [-0.33433042,  0.66042547],\n",
       "       [ 0.53234944, -0.47124963],\n",
       "       [-0.68100236,  0.40894211],\n",
       "       [-1.02767431,  0.72329631],\n",
       "       [ 0.35901346, -0.21976627],\n",
       "       [-0.85433834,  0.28320044],\n",
       "       [ 2.09237318, -0.06007434],\n",
       "       [ 0.18567749,  0.62647522],\n",
       "       [-0.85433834,  0.38756603],\n",
       "       [-0.50766639,  0.91568107],\n",
       "       [ 0.18567749,  1.35200469],\n",
       "       [-0.68100236, -1.99649618],\n",
       "       [ 1.39902929,  0.91190882],\n",
       "       [ 1.74570123,  0.66042547],\n",
       "       [ 0.53234944, -0.15689544],\n",
       "       [-0.85433834,  0.69437572],\n",
       "       [-0.68100236, -1.22569969],\n",
       "       [-0.33433042, -0.23611269],\n",
       "       [ 1.39902929,  0.91190882],\n",
       "       [ 0.01234152,  0.30834877],\n",
       "       [-0.50766639,  1.0376505 ],\n",
       "       [ 2.78571706,  0.47181295],\n",
       "       [ 0.01234152,  0.40894211],\n",
       "       [ 1.05235735,  1.60348805],\n",
       "       [-0.33433042,  0.93328491],\n",
       "       [-0.85433834, -0.59699131],\n",
       "       [-0.68100236, -1.38539162],\n",
       "       [-0.33433042,  0.59755463],\n",
       "       [-1.20101028, -0.0940246 ],\n",
       "       [ 1.74570123, -0.21599402],\n",
       "       [-1.20101028, -0.47124963],\n",
       "       [ 0.53234944, -0.72273298],\n",
       "       [ 0.01234152,  0.88676049],\n",
       "       [ 0.18567749, -0.47124963],\n",
       "       [ 0.01234152, -1.1364231 ],\n",
       "       [ 0.18567749, -0.97421634],\n",
       "       [ 1.05235735, -0.15689544],\n",
       "       [-0.16099445, -0.72273298],\n",
       "       [ 2.95905303, -0.72273298],\n",
       "       [-1.20101028,  0.69814797],\n",
       "       [ 1.22569332, -1.47718305],\n",
       "       [ 0.18567749, -1.85440808],\n",
       "       [ 2.09237318, -1.7286664 ],\n",
       "       [ 1.39902929,  0.26182435],\n",
       "       [-0.33433042, -0.26126103],\n",
       "       [ 1.57236526, -0.59699131],\n",
       "       [-0.33433042, -1.42311413],\n",
       "       [-0.85433834,  0.91190882],\n",
       "       [-0.85433834,  0.86161215],\n",
       "       [-0.33433042,  0.60509913],\n",
       "       [-0.68100236,  1.21368885],\n",
       "       [-0.85433834,  0.75221689],\n",
       "       [ 0.70568541, -0.40837879],\n",
       "       [-0.16099445, -1.57526156],\n",
       "       [-0.68100236,  1.28913386],\n",
       "       [-0.85433834, -1.85440808],\n",
       "       [-0.16099445,  0.95340358],\n",
       "       [-0.50766639,  0.91190882],\n",
       "       [-0.85433834,  0.15745876],\n",
       "       [-0.16099445,  1.01250217],\n",
       "       [-1.20101028, -0.34550795],\n",
       "       [-0.68100236, -0.26126103]])"
      ]
     },
     "execution_count": 117,
     "metadata": {},
     "output_type": "execute_result"
    }
   ],
   "source": [
    "x2_train_scaled"
   ]
  },
  {
   "cell_type": "code",
   "execution_count": 118,
   "metadata": {},
   "outputs": [
    {
     "data": {
      "text/plain": [
       "array([[ 0.01234152, -0.0940246 ],\n",
       "       [ 0.18567749, -0.72273298],\n",
       "       [ 0.35901346,  1.33943053],\n",
       "       [ 0.35901346, -0.21976627],\n",
       "       [ 0.18567749, -1.07480968],\n",
       "       [-0.33433042,  0.15745876],\n",
       "       [-0.16099445, -1.2634222 ],\n",
       "       [ 0.01234152, -1.1364231 ],\n",
       "       [-0.50766639,  1.45259804],\n",
       "       [-0.50766639,  1.16339218],\n",
       "       [-0.68100236, -1.85440808],\n",
       "       [-0.50766639,  0.24799277],\n",
       "       [ 2.95905303, -1.98014976],\n",
       "       [-0.33433042,  0.81131548],\n",
       "       [-1.28767826,  0.91190882],\n",
       "       [-0.50766639, -0.72273298],\n",
       "       [ 0.01234152, -0.26629069],\n",
       "       [ 0.70568541,  1.02507633],\n",
       "       [-0.85433834,  0.03171708],\n",
       "       [-0.16099445,  0.15745876],\n",
       "       [ 1.39902929, -0.59699131],\n",
       "       [-0.68100236,  1.0376505 ],\n",
       "       [-0.33433042, -0.68501048],\n",
       "       [ 0.01234152,  0.70192022],\n",
       "       [-0.50766639, -0.19461794],\n",
       "       [-0.50766639,  0.34732869],\n",
       "       [ 0.53234944,  0.53342637],\n",
       "       [-1.20101028,  0.28697269],\n",
       "       [-1.20101028, -0.21976627],\n",
       "       [ 0.01234152,  0.66042547],\n",
       "       [ 0.53234944, -0.26251844],\n",
       "       [ 0.53234944,  0.15745876]])"
      ]
     },
     "execution_count": 118,
     "metadata": {},
     "output_type": "execute_result"
    }
   ],
   "source": [
    "x2_test_scaled"
   ]
  },
  {
   "cell_type": "markdown",
   "metadata": {},
   "source": [
    "## SVM model on training set"
   ]
  },
  {
   "cell_type": "code",
   "execution_count": 119,
   "metadata": {},
   "outputs": [],
   "source": [
    "from sklearn.svm import SVC"
   ]
  },
  {
   "cell_type": "code",
   "execution_count": 120,
   "metadata": {},
   "outputs": [
    {
     "data": {
      "text/plain": [
       "SVC(C=1.0, cache_size=200, class_weight=None, coef0=0.0,\n",
       "    decision_function_shape='ovr', degree=3, gamma='auto_deprecated',\n",
       "    kernel='linear', max_iter=-1, probability=False, random_state=0,\n",
       "    shrinking=True, tol=0.001, verbose=False)"
      ]
     },
     "execution_count": 120,
     "metadata": {},
     "output_type": "execute_result"
    }
   ],
   "source": [
    "clas2 = SVC(kernel = 'linear', random_state = 0)\n",
    "clas2.fit(x2_train_scaled, y2_train)"
   ]
  },
  {
   "cell_type": "markdown",
   "metadata": {},
   "source": [
    "## Predicting results on training set"
   ]
  },
  {
   "cell_type": "code",
   "execution_count": 121,
   "metadata": {},
   "outputs": [
    {
     "data": {
      "text/plain": [
       "array([1], dtype=int64)"
      ]
     },
     "execution_count": 121,
     "metadata": {},
     "output_type": "execute_result"
    }
   ],
   "source": [
    "clas2.predict(([[9,67]]))"
   ]
  },
  {
   "cell_type": "code",
   "execution_count": 122,
   "metadata": {},
   "outputs": [
    {
     "data": {
      "text/plain": [
       "array([0], dtype=int64)"
      ]
     },
     "execution_count": 122,
     "metadata": {},
     "output_type": "execute_result"
    }
   ],
   "source": [
    "clas2.predict(scaled2.transform([[9,67]]))"
   ]
  },
  {
   "cell_type": "code",
   "execution_count": 123,
   "metadata": {},
   "outputs": [
    {
     "data": {
      "text/plain": [
       "array([[ 1.74570123, -2.35737479]])"
      ]
     },
     "execution_count": 123,
     "metadata": {},
     "output_type": "execute_result"
    }
   ],
   "source": [
    "scaled2.transform([[9,67]])"
   ]
  },
  {
   "cell_type": "code",
   "execution_count": 124,
   "metadata": {},
   "outputs": [
    {
     "data": {
      "text/plain": [
       "array([0], dtype=int64)"
      ]
     },
     "execution_count": 124,
     "metadata": {},
     "output_type": "execute_result"
    }
   ],
   "source": [
    "clas2.predict(([[1.74570123, -2.35737479]]))"
   ]
  },
  {
   "cell_type": "markdown",
   "metadata": {},
   "source": [
    "## Predicting results on test set"
   ]
  },
  {
   "cell_type": "code",
   "execution_count": 125,
   "metadata": {},
   "outputs": [],
   "source": [
    "y2_pred=clas2.predict(x2_test_scaled)"
   ]
  },
  {
   "cell_type": "code",
   "execution_count": 126,
   "metadata": {},
   "outputs": [
    {
     "data": {
      "text/plain": [
       "array([1, 1, 1, 1, 1, 1, 1, 1, 1, 1, 1, 1, 0, 1, 1, 1, 1, 1, 1, 1, 0, 1,\n",
       "       1, 1, 1, 1, 1, 1, 1, 1, 1, 1], dtype=int64)"
      ]
     },
     "execution_count": 126,
     "metadata": {},
     "output_type": "execute_result"
    }
   ],
   "source": [
    "y2_pred"
   ]
  },
  {
   "cell_type": "code",
   "execution_count": 127,
   "metadata": {},
   "outputs": [
    {
     "data": {
      "text/plain": [
       "array([1, 0, 1, 1, 1, 1, 1, 0, 1, 1, 1, 1, 0, 1, 1, 1, 0, 1, 1, 1, 0, 1,\n",
       "       1, 1, 1, 1, 0, 1, 1, 1, 1, 1], dtype=int64)"
      ]
     },
     "execution_count": 127,
     "metadata": {},
     "output_type": "execute_result"
    }
   ],
   "source": [
    "y2_test"
   ]
  },
  {
   "cell_type": "markdown",
   "metadata": {},
   "source": [
    "## Confusion Matrix"
   ]
  },
  {
   "cell_type": "code",
   "execution_count": 128,
   "metadata": {},
   "outputs": [
    {
     "data": {
      "text/plain": [
       "array([1, 0, 1, 1, 1, 1, 1, 0, 1, 1, 1, 1, 0, 1, 1, 1, 0, 1, 1, 1, 0, 1,\n",
       "       1, 1, 1, 1, 0, 1, 1, 1, 1, 1], dtype=int64)"
      ]
     },
     "execution_count": 128,
     "metadata": {},
     "output_type": "execute_result"
    }
   ],
   "source": [
    "y2_test"
   ]
  },
  {
   "cell_type": "code",
   "execution_count": 129,
   "metadata": {},
   "outputs": [
    {
     "data": {
      "text/plain": [
       "array([1, 1, 1, 1, 1, 1, 1, 1, 1, 1, 1, 1, 0, 1, 1, 1, 1, 1, 1, 1, 0, 1,\n",
       "       1, 1, 1, 1, 1, 1, 1, 1, 1, 1], dtype=int64)"
      ]
     },
     "execution_count": 129,
     "metadata": {},
     "output_type": "execute_result"
    }
   ],
   "source": [
    "y2_pred"
   ]
  },
  {
   "cell_type": "code",
   "execution_count": 130,
   "metadata": {},
   "outputs": [],
   "source": [
    "data2={\"Original values (y2_test)\": y2_test,\n",
    "      \"Predicted values (y2_pred)\": y2_pred}"
   ]
  },
  {
   "cell_type": "code",
   "execution_count": 131,
   "metadata": {},
   "outputs": [],
   "source": [
    "data2_=pd.DataFrame(data2)"
   ]
  },
  {
   "cell_type": "code",
   "execution_count": 132,
   "metadata": {},
   "outputs": [
    {
     "data": {
      "text/html": [
       "<div>\n",
       "<style scoped>\n",
       "    .dataframe tbody tr th:only-of-type {\n",
       "        vertical-align: middle;\n",
       "    }\n",
       "\n",
       "    .dataframe tbody tr th {\n",
       "        vertical-align: top;\n",
       "    }\n",
       "\n",
       "    .dataframe thead th {\n",
       "        text-align: right;\n",
       "    }\n",
       "</style>\n",
       "<table border=\"1\" class=\"dataframe\">\n",
       "  <thead>\n",
       "    <tr style=\"text-align: right;\">\n",
       "      <th></th>\n",
       "      <th>Original values (y2_test)</th>\n",
       "      <th>Predicted values (y2_pred)</th>\n",
       "    </tr>\n",
       "  </thead>\n",
       "  <tbody>\n",
       "    <tr>\n",
       "      <th>0</th>\n",
       "      <td>1</td>\n",
       "      <td>1</td>\n",
       "    </tr>\n",
       "    <tr>\n",
       "      <th>1</th>\n",
       "      <td>0</td>\n",
       "      <td>1</td>\n",
       "    </tr>\n",
       "    <tr>\n",
       "      <th>2</th>\n",
       "      <td>1</td>\n",
       "      <td>1</td>\n",
       "    </tr>\n",
       "    <tr>\n",
       "      <th>3</th>\n",
       "      <td>1</td>\n",
       "      <td>1</td>\n",
       "    </tr>\n",
       "    <tr>\n",
       "      <th>4</th>\n",
       "      <td>1</td>\n",
       "      <td>1</td>\n",
       "    </tr>\n",
       "    <tr>\n",
       "      <th>5</th>\n",
       "      <td>1</td>\n",
       "      <td>1</td>\n",
       "    </tr>\n",
       "    <tr>\n",
       "      <th>6</th>\n",
       "      <td>1</td>\n",
       "      <td>1</td>\n",
       "    </tr>\n",
       "    <tr>\n",
       "      <th>7</th>\n",
       "      <td>0</td>\n",
       "      <td>1</td>\n",
       "    </tr>\n",
       "    <tr>\n",
       "      <th>8</th>\n",
       "      <td>1</td>\n",
       "      <td>1</td>\n",
       "    </tr>\n",
       "    <tr>\n",
       "      <th>9</th>\n",
       "      <td>1</td>\n",
       "      <td>1</td>\n",
       "    </tr>\n",
       "    <tr>\n",
       "      <th>10</th>\n",
       "      <td>1</td>\n",
       "      <td>1</td>\n",
       "    </tr>\n",
       "    <tr>\n",
       "      <th>11</th>\n",
       "      <td>1</td>\n",
       "      <td>1</td>\n",
       "    </tr>\n",
       "    <tr>\n",
       "      <th>12</th>\n",
       "      <td>0</td>\n",
       "      <td>0</td>\n",
       "    </tr>\n",
       "    <tr>\n",
       "      <th>13</th>\n",
       "      <td>1</td>\n",
       "      <td>1</td>\n",
       "    </tr>\n",
       "    <tr>\n",
       "      <th>14</th>\n",
       "      <td>1</td>\n",
       "      <td>1</td>\n",
       "    </tr>\n",
       "    <tr>\n",
       "      <th>15</th>\n",
       "      <td>1</td>\n",
       "      <td>1</td>\n",
       "    </tr>\n",
       "    <tr>\n",
       "      <th>16</th>\n",
       "      <td>0</td>\n",
       "      <td>1</td>\n",
       "    </tr>\n",
       "    <tr>\n",
       "      <th>17</th>\n",
       "      <td>1</td>\n",
       "      <td>1</td>\n",
       "    </tr>\n",
       "    <tr>\n",
       "      <th>18</th>\n",
       "      <td>1</td>\n",
       "      <td>1</td>\n",
       "    </tr>\n",
       "    <tr>\n",
       "      <th>19</th>\n",
       "      <td>1</td>\n",
       "      <td>1</td>\n",
       "    </tr>\n",
       "    <tr>\n",
       "      <th>20</th>\n",
       "      <td>0</td>\n",
       "      <td>0</td>\n",
       "    </tr>\n",
       "    <tr>\n",
       "      <th>21</th>\n",
       "      <td>1</td>\n",
       "      <td>1</td>\n",
       "    </tr>\n",
       "    <tr>\n",
       "      <th>22</th>\n",
       "      <td>1</td>\n",
       "      <td>1</td>\n",
       "    </tr>\n",
       "    <tr>\n",
       "      <th>23</th>\n",
       "      <td>1</td>\n",
       "      <td>1</td>\n",
       "    </tr>\n",
       "    <tr>\n",
       "      <th>24</th>\n",
       "      <td>1</td>\n",
       "      <td>1</td>\n",
       "    </tr>\n",
       "    <tr>\n",
       "      <th>25</th>\n",
       "      <td>1</td>\n",
       "      <td>1</td>\n",
       "    </tr>\n",
       "    <tr>\n",
       "      <th>26</th>\n",
       "      <td>0</td>\n",
       "      <td>1</td>\n",
       "    </tr>\n",
       "    <tr>\n",
       "      <th>27</th>\n",
       "      <td>1</td>\n",
       "      <td>1</td>\n",
       "    </tr>\n",
       "    <tr>\n",
       "      <th>28</th>\n",
       "      <td>1</td>\n",
       "      <td>1</td>\n",
       "    </tr>\n",
       "    <tr>\n",
       "      <th>29</th>\n",
       "      <td>1</td>\n",
       "      <td>1</td>\n",
       "    </tr>\n",
       "    <tr>\n",
       "      <th>30</th>\n",
       "      <td>1</td>\n",
       "      <td>1</td>\n",
       "    </tr>\n",
       "    <tr>\n",
       "      <th>31</th>\n",
       "      <td>1</td>\n",
       "      <td>1</td>\n",
       "    </tr>\n",
       "  </tbody>\n",
       "</table>\n",
       "</div>"
      ],
      "text/plain": [
       "    Original values (y2_test)  Predicted values (y2_pred)\n",
       "0                           1                           1\n",
       "1                           0                           1\n",
       "2                           1                           1\n",
       "3                           1                           1\n",
       "4                           1                           1\n",
       "5                           1                           1\n",
       "6                           1                           1\n",
       "7                           0                           1\n",
       "8                           1                           1\n",
       "9                           1                           1\n",
       "10                          1                           1\n",
       "11                          1                           1\n",
       "12                          0                           0\n",
       "13                          1                           1\n",
       "14                          1                           1\n",
       "15                          1                           1\n",
       "16                          0                           1\n",
       "17                          1                           1\n",
       "18                          1                           1\n",
       "19                          1                           1\n",
       "20                          0                           0\n",
       "21                          1                           1\n",
       "22                          1                           1\n",
       "23                          1                           1\n",
       "24                          1                           1\n",
       "25                          1                           1\n",
       "26                          0                           1\n",
       "27                          1                           1\n",
       "28                          1                           1\n",
       "29                          1                           1\n",
       "30                          1                           1\n",
       "31                          1                           1"
      ]
     },
     "execution_count": 132,
     "metadata": {},
     "output_type": "execute_result"
    }
   ],
   "source": [
    "data2_"
   ]
  },
  {
   "cell_type": "code",
   "execution_count": 133,
   "metadata": {},
   "outputs": [],
   "source": [
    "confusion_matrix2=pd.crosstab(data2_['Original values (y2_test)'],data2_['Predicted values (y2_pred)'],\n",
    "                            rownames=['Original values'], colnames=['Predicted values'])"
   ]
  },
  {
   "cell_type": "code",
   "execution_count": 134,
   "metadata": {},
   "outputs": [
    {
     "data": {
      "text/html": [
       "<div>\n",
       "<style scoped>\n",
       "    .dataframe tbody tr th:only-of-type {\n",
       "        vertical-align: middle;\n",
       "    }\n",
       "\n",
       "    .dataframe tbody tr th {\n",
       "        vertical-align: top;\n",
       "    }\n",
       "\n",
       "    .dataframe thead th {\n",
       "        text-align: right;\n",
       "    }\n",
       "</style>\n",
       "<table border=\"1\" class=\"dataframe\">\n",
       "  <thead>\n",
       "    <tr style=\"text-align: right;\">\n",
       "      <th>Predicted values</th>\n",
       "      <th>0</th>\n",
       "      <th>1</th>\n",
       "    </tr>\n",
       "    <tr>\n",
       "      <th>Original values</th>\n",
       "      <th></th>\n",
       "      <th></th>\n",
       "    </tr>\n",
       "  </thead>\n",
       "  <tbody>\n",
       "    <tr>\n",
       "      <th>0</th>\n",
       "      <td>2</td>\n",
       "      <td>4</td>\n",
       "    </tr>\n",
       "    <tr>\n",
       "      <th>1</th>\n",
       "      <td>0</td>\n",
       "      <td>26</td>\n",
       "    </tr>\n",
       "  </tbody>\n",
       "</table>\n",
       "</div>"
      ],
      "text/plain": [
       "Predicted values  0   1\n",
       "Original values        \n",
       "0                 2   4\n",
       "1                 0  26"
      ]
     },
     "execution_count": 134,
     "metadata": {},
     "output_type": "execute_result"
    }
   ],
   "source": [
    "confusion_matrix2"
   ]
  },
  {
   "cell_type": "code",
   "execution_count": 135,
   "metadata": {},
   "outputs": [
    {
     "data": {
      "text/plain": [
       "<matplotlib.axes._subplots.AxesSubplot at 0xef60590>"
      ]
     },
     "execution_count": 135,
     "metadata": {},
     "output_type": "execute_result"
    },
    {
     "data": {
      "image/png": "[encoded data removed]",
      "text/plain": [
       "<Figure size 432x288 with 2 Axes>"
      ]
     },
     "metadata": {
      "needs_background": "light"
     },
     "output_type": "display_data"
    }
   ],
   "source": [
    "sn.heatmap(confusion_matrix2, annot=True)"
   ]
  },
  {
   "cell_type": "code",
   "execution_count": 136,
   "metadata": {},
   "outputs": [
    {
     "data": {
      "text/plain": [
       "2"
      ]
     },
     "execution_count": 136,
     "metadata": {},
     "output_type": "execute_result"
    }
   ],
   "source": [
    "len(y2_pred[y2_pred==0])"
   ]
  },
  {
   "cell_type": "code",
   "execution_count": 137,
   "metadata": {},
   "outputs": [
    {
     "data": {
      "text/plain": [
       "30"
      ]
     },
     "execution_count": 137,
     "metadata": {},
     "output_type": "execute_result"
    }
   ],
   "source": [
    "len(y2_pred[y2_pred==1])"
   ]
  },
  {
   "cell_type": "markdown",
   "metadata": {},
   "source": [
    "## Accuracy Score"
   ]
  },
  {
   "cell_type": "code",
   "execution_count": 138,
   "metadata": {},
   "outputs": [
    {
     "name": "stdout",
     "output_type": "stream",
     "text": [
      "Accuracy Score:  0.875\n"
     ]
    }
   ],
   "source": [
    "print(\"Accuracy Score: \",accuracy_score(y2_test,y2_pred))"
   ]
  },
  {
   "cell_type": "markdown",
   "metadata": {},
   "source": [
    "## Visualization of SVM model on training set"
   ]
  },
  {
   "cell_type": "code",
   "execution_count": 139,
   "metadata": {},
   "outputs": [
    {
     "name": "stderr",
     "output_type": "stream",
     "text": [
      "'c' argument looks like a single numeric RGB or RGBA sequence, which should be avoided as value-mapping will have precedence in case its length matches with 'x' & 'y'.  Please use a 2-D array with a single row if you really want to specify the same RGB or RGBA value for all points.\n",
      "'c' argument looks like a single numeric RGB or RGBA sequence, which should be avoided as value-mapping will have precedence in case its length matches with 'x' & 'y'.  Please use a 2-D array with a single row if you really want to specify the same RGB or RGBA value for all points.\n"
     ]
    },
    {
     "data": {
      "image/png": "[encoded data removed]",
      "text/plain": [
       "<Figure size 432x288 with 1 Axes>"
      ]
     },
     "metadata": {
      "needs_background": "light"
     },
     "output_type": "display_data"
    }
   ],
   "source": [
    "x2_set, y2_set = scaled2.inverse_transform(x2_train_scaled), y2_train\n",
    "\n",
    "x1__, x2__ = np.meshgrid(np.arange(start = x2_set[:, 0].min() - 10, stop = x2_set[:, 0].max() + 10, step = 0.2),\n",
    "                     np.arange(start = x2_set[:, 1].min() - 1000, stop = x2_set[:, 1].max() + 1000, step = 0.2))\n",
    "\n",
    "plt.contourf(x1__, x2__, clas2.predict(scaled2.transform(np.array([x1__.ravel(), x2__.ravel()]).T)).reshape(x1__.shape),\n",
    "             alpha = 0.75, cmap = ListedColormap(('grey', 'green')))\n",
    "\n",
    "plt.xlim(0,12)\n",
    "plt.ylim(60,100)\n",
    "\n",
    "for i, j in enumerate(np.unique(y2_set)):\n",
    "    plt.scatter(x2_set[y2_set == j, 0], x2_set[y2_set == j, 1], c = ListedColormap(('grey', 'green'))(i), label = j)\n",
    "    \n",
    "plt.title(\"SVM on training set\")\n",
    "plt.xlabel(\"Time spent on lessons\")\n",
    "plt.ylabel(\"GPA\")\n",
    "plt.legend()\n",
    "plt.show()"
   ]
  },
  {
   "cell_type": "markdown",
   "metadata": {},
   "source": [
    "## Visualization of SVM on test set"
   ]
  },
  {
   "cell_type": "code",
   "execution_count": 140,
   "metadata": {},
   "outputs": [
    {
     "name": "stderr",
     "output_type": "stream",
     "text": [
      "'c' argument looks like a single numeric RGB or RGBA sequence, which should be avoided as value-mapping will have precedence in case its length matches with 'x' & 'y'.  Please use a 2-D array with a single row if you really want to specify the same RGB or RGBA value for all points.\n",
      "'c' argument looks like a single numeric RGB or RGBA sequence, which should be avoided as value-mapping will have precedence in case its length matches with 'x' & 'y'.  Please use a 2-D array with a single row if you really want to specify the same RGB or RGBA value for all points.\n"
     ]
    },
    {
     "data": {
      "image/png": "[encoded data removed]",
      "text/plain": [
       "<Figure size 432x288 with 1 Axes>"
      ]
     },
     "metadata": {
      "needs_background": "light"
     },
     "output_type": "display_data"
    }
   ],
   "source": [
    "x2_set, y2_set = scaled2.inverse_transform(x2_test_scaled), y2_test\n",
    "\n",
    "x1__, x2__ = np.meshgrid(np.arange(start = x2_set[:, 0].min() - 10, stop = x2_set[:, 0].max() + 10, step = 0.2),\n",
    "                     np.arange(start = x2_set[:, 1].min() - 1000, stop = x2_set[:, 1].max() + 1000, step = 0.2))\n",
    "\n",
    "plt.contourf(x1__, x2__, clas2.predict(scaled2.transform(np.array([x1__.ravel(), x2__.ravel()]).T)).reshape(x1__.shape),\n",
    "             alpha = 0.75, cmap = ListedColormap(('grey', 'green')))\n",
    "\n",
    "plt.xlim(0,12)\n",
    "plt.ylim(60,100)\n",
    "\n",
    "for i, j in enumerate(np.unique(y2_set)):\n",
    "    plt.scatter(x2_set[y2_set == j, 0], x2_set[y2_set == j, 1], c = ListedColormap(('grey', 'green'))(i), label = j)\n",
    "    \n",
    "plt.title(\"SVM on test set\")\n",
    "plt.xlabel(\"Time spent on lessons\")\n",
    "plt.ylabel(\"GPA\")\n",
    "plt.legend()\n",
    "plt.show()"
   ]
  },
  {
   "cell_type": "markdown",
   "metadata": {},
   "source": [
    "# 4. Kernel - SVM"
   ]
  },
  {
   "cell_type": "code",
   "execution_count": 141,
   "metadata": {},
   "outputs": [
    {
     "data": {
      "text/html": [
       "<div>\n",
       "<style scoped>\n",
       "    .dataframe tbody tr th:only-of-type {\n",
       "        vertical-align: middle;\n",
       "    }\n",
       "\n",
       "    .dataframe tbody tr th {\n",
       "        vertical-align: top;\n",
       "    }\n",
       "\n",
       "    .dataframe thead th {\n",
       "        text-align: right;\n",
       "    }\n",
       "</style>\n",
       "<table border=\"1\" class=\"dataframe\">\n",
       "  <thead>\n",
       "    <tr style=\"text-align: right;\">\n",
       "      <th></th>\n",
       "      <th>time_lessons</th>\n",
       "      <th>GPA</th>\n",
       "      <th>attendance</th>\n",
       "    </tr>\n",
       "  </thead>\n",
       "  <tbody>\n",
       "    <tr>\n",
       "      <th>0</th>\n",
       "      <td>4.0</td>\n",
       "      <td>90.60</td>\n",
       "      <td>1</td>\n",
       "    </tr>\n",
       "    <tr>\n",
       "      <th>1</th>\n",
       "      <td>7.0</td>\n",
       "      <td>84.50</td>\n",
       "      <td>0</td>\n",
       "    </tr>\n",
       "    <tr>\n",
       "      <th>3</th>\n",
       "      <td>2.0</td>\n",
       "      <td>80.00</td>\n",
       "      <td>1</td>\n",
       "    </tr>\n",
       "    <tr>\n",
       "      <th>4</th>\n",
       "      <td>7.0</td>\n",
       "      <td>98.50</td>\n",
       "      <td>1</td>\n",
       "    </tr>\n",
       "    <tr>\n",
       "      <th>5</th>\n",
       "      <td>2.0</td>\n",
       "      <td>91.26</td>\n",
       "      <td>1</td>\n",
       "    </tr>\n",
       "    <tr>\n",
       "      <th>...</th>\n",
       "      <td>...</td>\n",
       "      <td>...</td>\n",
       "      <td>...</td>\n",
       "    </tr>\n",
       "    <tr>\n",
       "      <th>157</th>\n",
       "      <td>1.5</td>\n",
       "      <td>92.27</td>\n",
       "      <td>1</td>\n",
       "    </tr>\n",
       "    <tr>\n",
       "      <th>158</th>\n",
       "      <td>10.0</td>\n",
       "      <td>72.00</td>\n",
       "      <td>0</td>\n",
       "    </tr>\n",
       "    <tr>\n",
       "      <th>159</th>\n",
       "      <td>2.0</td>\n",
       "      <td>74.73</td>\n",
       "      <td>1</td>\n",
       "    </tr>\n",
       "    <tr>\n",
       "      <th>160</th>\n",
       "      <td>3.0</td>\n",
       "      <td>83.87</td>\n",
       "      <td>1</td>\n",
       "    </tr>\n",
       "    <tr>\n",
       "      <th>161</th>\n",
       "      <td>3.5</td>\n",
       "      <td>96.70</td>\n",
       "      <td>1</td>\n",
       "    </tr>\n",
       "  </tbody>\n",
       "</table>\n",
       "<p>157 rows × 3 columns</p>\n",
       "</div>"
      ],
      "text/plain": [
       "     time_lessons    GPA  attendance\n",
       "0             4.0  90.60           1\n",
       "1             7.0  84.50           0\n",
       "3             2.0  80.00           1\n",
       "4             7.0  98.50           1\n",
       "5             2.0  91.26           1\n",
       "..            ...    ...         ...\n",
       "157           1.5  92.27           1\n",
       "158          10.0  72.00           0\n",
       "159           2.0  74.73           1\n",
       "160           3.0  83.87           1\n",
       "161           3.5  96.70           1\n",
       "\n",
       "[157 rows x 3 columns]"
      ]
     },
     "execution_count": 141,
     "metadata": {},
     "output_type": "execute_result"
    }
   ],
   "source": [
    "df"
   ]
  },
  {
   "cell_type": "markdown",
   "metadata": {},
   "source": [
    "### Determining  independent and dependent variables"
   ]
  },
  {
   "cell_type": "code",
   "execution_count": 142,
   "metadata": {},
   "outputs": [],
   "source": [
    "x_3=df.iloc[:,:-1].values\n",
    "y_3=df.iloc[:,-1].values"
   ]
  },
  {
   "cell_type": "code",
   "execution_count": 143,
   "metadata": {},
   "outputs": [
    {
     "data": {
      "text/plain": [
       "array([[ 4.  , 90.6 ],\n",
       "       [ 7.  , 84.5 ],\n",
       "       [ 2.  , 80.  ],\n",
       "       [ 7.  , 98.5 ],\n",
       "       [ 2.  , 91.26],\n",
       "       [ 2.5 , 80.  ],\n",
       "       [ 3.  , 86.  ],\n",
       "       [ 4.5 , 71.  ],\n",
       "       [ 4.5 , 82.  ],\n",
       "       [ 2.  , 85.33],\n",
       "       [ 8.5 , 95.56],\n",
       "       [ 1.5 , 92.3 ],\n",
       "       [ 2.5 , 72.  ],\n",
       "       [ 5.5 , 80.  ],\n",
       "       [ 3.5 , 75.7 ],\n",
       "       [ 1.5 , 88.83],\n",
       "       [ 6.  , 93.9 ],\n",
       "       [ 0.25, 90.11],\n",
       "       [ 0.3 , 47.  ],\n",
       "       [ 1.5 , 86.  ],\n",
       "       [ 2.  , 95.4 ],\n",
       "       [12.  , 89.5 ],\n",
       "       [12.5 , 80.  ],\n",
       "       [ 4.  , 76.63],\n",
       "       [ 2.  , 76.  ],\n",
       "       [ 1.5 , 91.73],\n",
       "       [ 9.  , 91.  ],\n",
       "       [ 2.5 , 80.  ],\n",
       "       [ 4.  , 77.  ],\n",
       "       [ 3.5 , 87.  ],\n",
       "       [ 1.5 , 81.  ],\n",
       "       [ 5.  , 84.  ],\n",
       "       [ 3.  , 94.2 ],\n",
       "       [ 1.5 , 80.  ],\n",
       "       [ 1.5 , 83.  ],\n",
       "       [ 4.5 , 77.2 ],\n",
       "       [ 5.  , 84.  ],\n",
       "       [ 2.  , 83.67],\n",
       "       [ 2.5 , 91.5 ],\n",
       "       [11.  , 77.  ],\n",
       "       [ 3.  , 87.  ],\n",
       "       [ 4.5 , 96.5 ],\n",
       "       [ 0.5 , 88.03],\n",
       "       [ 1.5 , 91.27],\n",
       "       [ 4.  , 91.  ],\n",
       "       [ 3.5 , 93.  ],\n",
       "       [ 6.5 , 90.  ],\n",
       "       [ 9.  , 84.03],\n",
       "       [ 1.5 , 92.  ],\n",
       "       [ 2.5 , 94.  ],\n",
       "       [ 3.  , 74.43],\n",
       "       [ 5.  , 96.4 ],\n",
       "       [ 8.  , 93.  ],\n",
       "       [ 2.5 , 97.3 ],\n",
       "       [ 8.  , 96.  ],\n",
       "       [ 4.5 , 90.5 ],\n",
       "       [ 8.  , 81.  ],\n",
       "       [ 3.5 , 80.  ],\n",
       "       [ 5.5 , 92.6 ],\n",
       "       [ 5.5 , 78.  ],\n",
       "       [ 4.  , 76.71],\n",
       "       [ 0.5 , 91.3 ],\n",
       "       [ 2.  , 91.33],\n",
       "       [ 7.5 , 74.  ],\n",
       "       [ 4.5 , 90.73],\n",
       "       [ 4.5 , 96.  ],\n",
       "       [ 2.5 , 76.  ],\n",
       "       [ 5.  , 91.4 ],\n",
       "       [ 8.5 , 81.  ],\n",
       "       [ 2.5 , 88.51],\n",
       "       [ 4.  , 89.  ],\n",
       "       [ 3.5 , 73.22],\n",
       "       [ 3.5 , 93.8 ],\n",
       "       [10.  , 92.85],\n",
       "       [ 1.5 , 94.8 ],\n",
       "       [ 4.5 , 80.  ],\n",
       "       [ 5.5 , 84.5 ],\n",
       "       [ 7.  , 79.47],\n",
       "       [ 2.5 , 87.72],\n",
       "       [ 3.5 , 93.33],\n",
       "       [ 2.  , 69.87],\n",
       "       [ 2.  , 83.  ],\n",
       "       [ 2.5 , 93.03],\n",
       "       [ 2.  , 75.83],\n",
       "       [11.5 , 88.  ],\n",
       "       [ 2.  , 77.5 ],\n",
       "       [ 8.  , 87.83],\n",
       "       [ 1.  , 91.5 ],\n",
       "       [ 4.  , 92.8 ],\n",
       "       [ 0.25, 93.  ],\n",
       "       [ 3.  , 92.2 ],\n",
       "       [ 3.5 , 78.2 ],\n",
       "       [12.5 , 70.  ],\n",
       "       [ 2.5 , 84.2 ],\n",
       "       [ 5.5 , 89.99],\n",
       "       [ 1.5 , 91.  ],\n",
       "       [ 3.  , 83.67],\n",
       "       [ 2.5 , 89.43],\n",
       "       [ 5.  , 84.  ],\n",
       "       [ 4.  , 91.33],\n",
       "       [ 3.  , 91.  ],\n",
       "       [ 3.  , 90.56],\n",
       "       [ 1.  , 89.  ],\n",
       "       [ 3.5 , 70.  ],\n",
       "       [ 4.5 , 89.  ],\n",
       "       [ 5.5 , 83.66],\n",
       "       [ 0.5 , 85.  ],\n",
       "       [ 9.  , 83.  ],\n",
       "       [ 5.5 , 82.  ],\n",
       "       [ 4.  , 76.71],\n",
       "       [ 0.5 , 83.  ],\n",
       "       [ 2.5 , 91.3 ],\n",
       "       [10.  , 85.27],\n",
       "       [ 5.  , 84.  ],\n",
       "       [ 3.  , 90.44],\n",
       "       [ 0.5 , 82.  ],\n",
       "       [10.5 , 98.67],\n",
       "       [ 4.  , 85.  ],\n",
       "       [ 8.  , 93.  ],\n",
       "       [ 0.5 , 80.  ],\n",
       "       [ 3.  , 81.  ],\n",
       "       [ 3.  , 90.5 ],\n",
       "       [ 0.5 , 84.  ],\n",
       "       [ 4.  , 83.63],\n",
       "       [ 5.  , 85.  ],\n",
       "       [ 3.  , 94.  ],\n",
       "       [ 0.5 , 82.  ],\n",
       "       [ 4.  , 82.  ],\n",
       "       [ 4.5 , 78.  ],\n",
       "       [ 2.  , 96.  ],\n",
       "       [ 6.  , 77.  ],\n",
       "       [ 3.  , 79.  ],\n",
       "       [ 4.  , 88.2 ],\n",
       "       [ 2.5 , 93.  ],\n",
       "       [ 6.  , 82.5 ],\n",
       "       [11.  , 98.6 ],\n",
       "       [ 2.  , 89.  ],\n",
       "       [ 1.5 , 87.  ],\n",
       "       [ 5.5 , 87.  ],\n",
       "       [ 1.5 , 92.6 ],\n",
       "       [ 0.5 , 83.  ],\n",
       "       [ 0.5 , 87.  ],\n",
       "       [ 1.5 , 93.  ],\n",
       "       [ 3.  , 80.3 ],\n",
       "       [ 1.5 , 71.  ],\n",
       "       [ 0.5 , 94.04],\n",
       "       [ 1.5 , 88.  ],\n",
       "       [ 2.5 , 95.  ],\n",
       "       [ 3.  , 93.17],\n",
       "       [ 5.  , 80.  ],\n",
       "       [ 2.  , 94.  ],\n",
       "       [ 2.  , 71.  ],\n",
       "       [ 1.5 , 92.27],\n",
       "       [10.  , 72.  ],\n",
       "       [ 2.  , 74.73],\n",
       "       [ 3.  , 83.87],\n",
       "       [ 3.5 , 96.7 ]])"
      ]
     },
     "execution_count": 143,
     "metadata": {},
     "output_type": "execute_result"
    }
   ],
   "source": [
    "x_3"
   ]
  },
  {
   "cell_type": "code",
   "execution_count": 144,
   "metadata": {},
   "outputs": [
    {
     "data": {
      "text/plain": [
       "array([1, 0, 1, 1, 1, 1, 1, 0, 0, 1, 1, 1, 1, 0, 1, 1, 1, 1, 1, 1, 1, 0,\n",
       "       0, 1, 1, 1, 1, 1, 0, 1, 1, 1, 1, 1, 1, 1, 0, 1, 1, 0, 1, 1, 1, 1,\n",
       "       1, 1, 1, 0, 1, 1, 1, 1, 1, 1, 1, 0, 0, 1, 1, 0, 0, 1, 1, 0, 0, 1,\n",
       "       1, 1, 1, 1, 1, 1, 1, 0, 1, 0, 0, 0, 1, 1, 1, 1, 1, 1, 0, 1, 0, 1,\n",
       "       1, 1, 1, 1, 0, 1, 0, 1, 1, 1, 0, 1, 1, 1, 1, 1, 1, 1, 1, 1, 0, 0,\n",
       "       1, 1, 0, 1, 1, 1, 1, 1, 1, 1, 1, 1, 1, 0, 1, 1, 1, 0, 0, 1, 1, 1,\n",
       "       0, 1, 0, 1, 1, 1, 1, 1, 1, 1, 1, 1, 1, 1, 1, 1, 1, 1, 1, 1, 1, 0,\n",
       "       1, 1, 1], dtype=int64)"
      ]
     },
     "execution_count": 144,
     "metadata": {},
     "output_type": "execute_result"
    }
   ],
   "source": [
    "y_3"
   ]
  },
  {
   "cell_type": "markdown",
   "metadata": {},
   "source": [
    "## Train and test split"
   ]
  },
  {
   "cell_type": "code",
   "execution_count": 145,
   "metadata": {},
   "outputs": [],
   "source": [
    "x3_train, x3_test, y3_train, y3_test = train_test_split(x_3, y_3, test_size = 0.2, random_state = 1)"
   ]
  },
  {
   "cell_type": "code",
   "execution_count": 146,
   "metadata": {},
   "outputs": [
    {
     "data": {
      "text/plain": [
       "array([[ 2.5 , 76.  ],\n",
       "       [ 1.5 , 80.  ],\n",
       "       [ 0.5 , 87.  ],\n",
       "       [ 5.5 , 78.  ],\n",
       "       [ 4.  , 82.  ],\n",
       "       [ 3.  , 79.  ],\n",
       "       [ 5.  , 80.  ],\n",
       "       [ 3.  , 94.  ],\n",
       "       [ 5.5 , 92.6 ],\n",
       "       [ 4.  , 77.  ],\n",
       "       [ 5.  , 85.  ],\n",
       "       [ 2.5 , 91.3 ],\n",
       "       [ 8.  , 96.  ],\n",
       "       [ 0.25, 90.11],\n",
       "       [10.  , 92.85],\n",
       "       [ 4.5 , 89.  ],\n",
       "       [11.  , 98.6 ],\n",
       "       [ 7.  , 79.47],\n",
       "       [ 0.3 , 47.  ],\n",
       "       [ 1.5 , 92.  ],\n",
       "       [ 2.  , 91.26],\n",
       "       [ 3.5 , 93.  ],\n",
       "       [ 1.  , 89.  ],\n",
       "       [11.  , 77.  ],\n",
       "       [ 5.  , 84.  ],\n",
       "       [ 3.  , 81.  ],\n",
       "       [ 0.5 , 94.04],\n",
       "       [ 0.5 , 83.  ],\n",
       "       [ 2.5 , 72.  ],\n",
       "       [ 1.5 , 92.3 ],\n",
       "       [ 2.  , 77.5 ],\n",
       "       [ 0.5 , 82.  ],\n",
       "       [ 2.5 , 89.43],\n",
       "       [10.5 , 98.67],\n",
       "       [ 2.  , 80.  ],\n",
       "       [ 9.  , 83.  ],\n",
       "       [ 3.  , 86.  ],\n",
       "       [ 4.  , 90.6 ],\n",
       "       [ 5.  , 84.  ],\n",
       "       [ 4.5 , 96.  ],\n",
       "       [ 4.5 , 90.5 ],\n",
       "       [ 2.  , 83.  ],\n",
       "       [11.5 , 88.  ],\n",
       "       [ 6.5 , 90.  ],\n",
       "       [ 2.  , 91.33],\n",
       "       [ 1.5 , 94.8 ],\n",
       "       [ 0.5 , 80.  ],\n",
       "       [ 1.5 , 91.  ],\n",
       "       [ 3.5 , 70.  ],\n",
       "       [ 3.5 , 78.2 ],\n",
       "       [ 8.5 , 95.56],\n",
       "       [ 1.5 , 83.  ],\n",
       "       [ 3.  , 94.2 ],\n",
       "       [ 6.  , 77.  ],\n",
       "       [ 2.5 , 91.5 ],\n",
       "       [ 2.  , 75.83],\n",
       "       [ 3.  , 90.44],\n",
       "       [ 3.5 , 96.7 ],\n",
       "       [ 2.5 , 80.  ],\n",
       "       [ 4.  , 76.63],\n",
       "       [ 5.  , 91.4 ],\n",
       "       [ 2.  , 85.33],\n",
       "       [ 1.5 , 92.27],\n",
       "       [ 3.  , 91.  ],\n",
       "       [ 5.5 , 82.  ],\n",
       "       [ 2.  , 89.  ],\n",
       "       [ 1.  , 91.5 ],\n",
       "       [ 5.  , 84.  ],\n",
       "       [ 1.5 , 88.  ],\n",
       "       [10.  , 85.27],\n",
       "       [ 4.5 , 90.73],\n",
       "       [ 1.5 , 88.83],\n",
       "       [ 2.5 , 93.03],\n",
       "       [ 4.5 , 96.5 ],\n",
       "       [ 2.  , 69.87],\n",
       "       [ 8.  , 93.  ],\n",
       "       [ 9.  , 91.  ],\n",
       "       [ 5.5 , 84.5 ],\n",
       "       [ 1.5 , 91.27],\n",
       "       [ 2.  , 76.  ],\n",
       "       [ 3.  , 83.87],\n",
       "       [ 8.  , 93.  ],\n",
       "       [ 4.  , 88.2 ],\n",
       "       [ 2.5 , 94.  ],\n",
       "       [12.  , 89.5 ],\n",
       "       [ 4.  , 89.  ],\n",
       "       [ 7.  , 98.5 ],\n",
       "       [ 3.  , 93.17],\n",
       "       [ 1.5 , 81.  ],\n",
       "       [ 2.  , 74.73],\n",
       "       [ 3.  , 90.5 ],\n",
       "       [ 0.5 , 85.  ],\n",
       "       [ 9.  , 84.03],\n",
       "       [ 0.5 , 82.  ],\n",
       "       [ 5.5 , 80.  ],\n",
       "       [ 4.  , 92.8 ],\n",
       "       [ 4.5 , 82.  ],\n",
       "       [ 4.  , 76.71],\n",
       "       [ 4.5 , 78.  ],\n",
       "       [ 7.  , 84.5 ],\n",
       "       [ 3.5 , 80.  ],\n",
       "       [12.5 , 80.  ],\n",
       "       [ 0.5 , 91.3 ],\n",
       "       [ 7.5 , 74.  ],\n",
       "       [ 4.5 , 71.  ],\n",
       "       [10.  , 72.  ],\n",
       "       [ 8.  , 87.83],\n",
       "       [ 3.  , 83.67],\n",
       "       [ 8.5 , 81.  ],\n",
       "       [ 3.  , 74.43],\n",
       "       [ 1.5 , 93.  ],\n",
       "       [ 1.5 , 92.6 ],\n",
       "       [ 3.  , 90.56],\n",
       "       [ 2.  , 95.4 ],\n",
       "       [ 1.5 , 91.73],\n",
       "       [ 6.  , 82.5 ],\n",
       "       [ 3.5 , 73.22],\n",
       "       [ 2.  , 96.  ],\n",
       "       [ 1.5 , 71.  ],\n",
       "       [ 3.5 , 93.33],\n",
       "       [ 2.5 , 93.  ],\n",
       "       [ 1.5 , 87.  ],\n",
       "       [ 3.5 , 93.8 ],\n",
       "       [ 0.5 , 83.  ],\n",
       "       [ 2.  , 83.67]])"
      ]
     },
     "execution_count": 146,
     "metadata": {},
     "output_type": "execute_result"
    }
   ],
   "source": [
    "x3_train"
   ]
  },
  {
   "cell_type": "code",
   "execution_count": 147,
   "metadata": {},
   "outputs": [
    {
     "data": {
      "text/plain": [
       "array([1, 0, 1, 1, 1, 1, 1, 0, 1, 1, 1, 1, 0, 1, 1, 1, 0, 1, 1, 1, 0, 1,\n",
       "       1, 1, 1, 1, 0, 1, 1, 1, 1, 1], dtype=int64)"
      ]
     },
     "execution_count": 147,
     "metadata": {},
     "output_type": "execute_result"
    }
   ],
   "source": [
    "y3_test"
   ]
  },
  {
   "cell_type": "markdown",
   "metadata": {},
   "source": [
    "## Scaling the data"
   ]
  },
  {
   "cell_type": "code",
   "execution_count": 148,
   "metadata": {},
   "outputs": [],
   "source": [
    "scaled3=StandardScaler()"
   ]
  },
  {
   "cell_type": "code",
   "execution_count": 149,
   "metadata": {},
   "outputs": [],
   "source": [
    "x3_train_scaled=scaled3.fit_transform(x3_train)\n",
    "x3_test_scaled=scaled3.transform(x3_test)"
   ]
  },
  {
   "cell_type": "code",
   "execution_count": 150,
   "metadata": {},
   "outputs": [
    {
     "data": {
      "text/plain": [
       "array([[ 0.01234152, -0.0940246 ],\n",
       "       [ 0.18567749, -0.72273298],\n",
       "       [ 0.35901346,  1.33943053],\n",
       "       [ 0.35901346, -0.21976627],\n",
       "       [ 0.18567749, -1.07480968],\n",
       "       [-0.33433042,  0.15745876],\n",
       "       [-0.16099445, -1.2634222 ],\n",
       "       [ 0.01234152, -1.1364231 ],\n",
       "       [-0.50766639,  1.45259804],\n",
       "       [-0.50766639,  1.16339218],\n",
       "       [-0.68100236, -1.85440808],\n",
       "       [-0.50766639,  0.24799277],\n",
       "       [ 2.95905303, -1.98014976],\n",
       "       [-0.33433042,  0.81131548],\n",
       "       [-1.28767826,  0.91190882],\n",
       "       [-0.50766639, -0.72273298],\n",
       "       [ 0.01234152, -0.26629069],\n",
       "       [ 0.70568541,  1.02507633],\n",
       "       [-0.85433834,  0.03171708],\n",
       "       [-0.16099445,  0.15745876],\n",
       "       [ 1.39902929, -0.59699131],\n",
       "       [-0.68100236,  1.0376505 ],\n",
       "       [-0.33433042, -0.68501048],\n",
       "       [ 0.01234152,  0.70192022],\n",
       "       [-0.50766639, -0.19461794],\n",
       "       [-0.50766639,  0.34732869],\n",
       "       [ 0.53234944,  0.53342637],\n",
       "       [-1.20101028,  0.28697269],\n",
       "       [-1.20101028, -0.21976627],\n",
       "       [ 0.01234152,  0.66042547],\n",
       "       [ 0.53234944, -0.26251844],\n",
       "       [ 0.53234944,  0.15745876]])"
      ]
     },
     "execution_count": 150,
     "metadata": {},
     "output_type": "execute_result"
    }
   ],
   "source": [
    "x3_test_scaled"
   ]
  },
  {
   "cell_type": "markdown",
   "metadata": {},
   "source": [
    "## Kernel - SVM model on training set"
   ]
  },
  {
   "cell_type": "code",
   "execution_count": 151,
   "metadata": {},
   "outputs": [],
   "source": [
    "from sklearn.svm import SVC"
   ]
  },
  {
   "cell_type": "code",
   "execution_count": 152,
   "metadata": {},
   "outputs": [
    {
     "data": {
      "text/plain": [
       "SVC(C=1.0, cache_size=200, class_weight=None, coef0=0.0,\n",
       "    decision_function_shape='ovr', degree=3, gamma='auto_deprecated',\n",
       "    kernel='rbf', max_iter=-1, probability=False, random_state=0,\n",
       "    shrinking=True, tol=0.001, verbose=False)"
      ]
     },
     "execution_count": 152,
     "metadata": {},
     "output_type": "execute_result"
    }
   ],
   "source": [
    "clas3 = SVC(kernel = 'rbf', random_state = 0)\n",
    "clas3.fit(x3_train_scaled, y3_train)"
   ]
  },
  {
   "cell_type": "markdown",
   "metadata": {},
   "source": [
    "## Predicting training results"
   ]
  },
  {
   "cell_type": "code",
   "execution_count": 153,
   "metadata": {},
   "outputs": [
    {
     "data": {
      "text/plain": [
       "array([1], dtype=int64)"
      ]
     },
     "execution_count": 153,
     "metadata": {},
     "output_type": "execute_result"
    }
   ],
   "source": [
    "clas3.predict(([[10,69]]))"
   ]
  },
  {
   "cell_type": "code",
   "execution_count": 154,
   "metadata": {},
   "outputs": [
    {
     "data": {
      "text/plain": [
       "array([[ 2.09237318, -2.10589144]])"
      ]
     },
     "execution_count": 154,
     "metadata": {},
     "output_type": "execute_result"
    }
   ],
   "source": [
    "scaled3.transform(([[10,69]]))"
   ]
  },
  {
   "cell_type": "code",
   "execution_count": 155,
   "metadata": {},
   "outputs": [
    {
     "data": {
      "text/plain": [
       "array([0], dtype=int64)"
      ]
     },
     "execution_count": 155,
     "metadata": {},
     "output_type": "execute_result"
    }
   ],
   "source": [
    "clas3.predict(scaled3.transform(([[10,69]])))"
   ]
  },
  {
   "cell_type": "markdown",
   "metadata": {},
   "source": [
    "## Predicting test results"
   ]
  },
  {
   "cell_type": "code",
   "execution_count": 156,
   "metadata": {},
   "outputs": [],
   "source": [
    "y3_pred=clas3.predict(x3_test_scaled)"
   ]
  },
  {
   "cell_type": "code",
   "execution_count": 157,
   "metadata": {},
   "outputs": [
    {
     "data": {
      "text/plain": [
       "array([1, 0, 1, 0, 0, 1, 1, 1, 1, 1, 1, 1, 0, 1, 1, 1, 1, 1, 1, 1, 0, 1,\n",
       "       1, 1, 1, 1, 1, 1, 1, 1, 0, 0], dtype=int64)"
      ]
     },
     "execution_count": 157,
     "metadata": {},
     "output_type": "execute_result"
    }
   ],
   "source": [
    "y3_pred"
   ]
  },
  {
   "cell_type": "markdown",
   "metadata": {},
   "source": [
    "## Confusion Matrix"
   ]
  },
  {
   "cell_type": "code",
   "execution_count": 158,
   "metadata": {},
   "outputs": [
    {
     "data": {
      "text/plain": [
       "array([1, 0, 1, 1, 1, 1, 1, 0, 1, 1, 1, 1, 0, 1, 1, 1, 0, 1, 1, 1, 0, 1,\n",
       "       1, 1, 1, 1, 0, 1, 1, 1, 1, 1], dtype=int64)"
      ]
     },
     "execution_count": 158,
     "metadata": {},
     "output_type": "execute_result"
    }
   ],
   "source": [
    "y3_test"
   ]
  },
  {
   "cell_type": "code",
   "execution_count": 159,
   "metadata": {},
   "outputs": [
    {
     "data": {
      "text/plain": [
       "array([1, 0, 1, 0, 0, 1, 1, 1, 1, 1, 1, 1, 0, 1, 1, 1, 1, 1, 1, 1, 0, 1,\n",
       "       1, 1, 1, 1, 1, 1, 1, 1, 0, 0], dtype=int64)"
      ]
     },
     "execution_count": 159,
     "metadata": {},
     "output_type": "execute_result"
    }
   ],
   "source": [
    "y3_pred"
   ]
  },
  {
   "cell_type": "code",
   "execution_count": 160,
   "metadata": {},
   "outputs": [],
   "source": [
    "data3={\"Original values (y3_test)\": y3_test,\n",
    "      \"Predicted values (y3_pred)\": y3_pred}"
   ]
  },
  {
   "cell_type": "code",
   "execution_count": 161,
   "metadata": {},
   "outputs": [],
   "source": [
    "data3_=pd.DataFrame(data3)"
   ]
  },
  {
   "cell_type": "code",
   "execution_count": 162,
   "metadata": {},
   "outputs": [
    {
     "data": {
      "text/html": [
       "<div>\n",
       "<style scoped>\n",
       "    .dataframe tbody tr th:only-of-type {\n",
       "        vertical-align: middle;\n",
       "    }\n",
       "\n",
       "    .dataframe tbody tr th {\n",
       "        vertical-align: top;\n",
       "    }\n",
       "\n",
       "    .dataframe thead th {\n",
       "        text-align: right;\n",
       "    }\n",
       "</style>\n",
       "<table border=\"1\" class=\"dataframe\">\n",
       "  <thead>\n",
       "    <tr style=\"text-align: right;\">\n",
       "      <th></th>\n",
       "      <th>Original values (y3_test)</th>\n",
       "      <th>Predicted values (y3_pred)</th>\n",
       "    </tr>\n",
       "  </thead>\n",
       "  <tbody>\n",
       "    <tr>\n",
       "      <th>0</th>\n",
       "      <td>1</td>\n",
       "      <td>1</td>\n",
       "    </tr>\n",
       "    <tr>\n",
       "      <th>1</th>\n",
       "      <td>0</td>\n",
       "      <td>0</td>\n",
       "    </tr>\n",
       "    <tr>\n",
       "      <th>2</th>\n",
       "      <td>1</td>\n",
       "      <td>1</td>\n",
       "    </tr>\n",
       "    <tr>\n",
       "      <th>3</th>\n",
       "      <td>1</td>\n",
       "      <td>0</td>\n",
       "    </tr>\n",
       "    <tr>\n",
       "      <th>4</th>\n",
       "      <td>1</td>\n",
       "      <td>0</td>\n",
       "    </tr>\n",
       "    <tr>\n",
       "      <th>5</th>\n",
       "      <td>1</td>\n",
       "      <td>1</td>\n",
       "    </tr>\n",
       "    <tr>\n",
       "      <th>6</th>\n",
       "      <td>1</td>\n",
       "      <td>1</td>\n",
       "    </tr>\n",
       "    <tr>\n",
       "      <th>7</th>\n",
       "      <td>0</td>\n",
       "      <td>1</td>\n",
       "    </tr>\n",
       "    <tr>\n",
       "      <th>8</th>\n",
       "      <td>1</td>\n",
       "      <td>1</td>\n",
       "    </tr>\n",
       "    <tr>\n",
       "      <th>9</th>\n",
       "      <td>1</td>\n",
       "      <td>1</td>\n",
       "    </tr>\n",
       "    <tr>\n",
       "      <th>10</th>\n",
       "      <td>1</td>\n",
       "      <td>1</td>\n",
       "    </tr>\n",
       "    <tr>\n",
       "      <th>11</th>\n",
       "      <td>1</td>\n",
       "      <td>1</td>\n",
       "    </tr>\n",
       "    <tr>\n",
       "      <th>12</th>\n",
       "      <td>0</td>\n",
       "      <td>0</td>\n",
       "    </tr>\n",
       "    <tr>\n",
       "      <th>13</th>\n",
       "      <td>1</td>\n",
       "      <td>1</td>\n",
       "    </tr>\n",
       "    <tr>\n",
       "      <th>14</th>\n",
       "      <td>1</td>\n",
       "      <td>1</td>\n",
       "    </tr>\n",
       "    <tr>\n",
       "      <th>15</th>\n",
       "      <td>1</td>\n",
       "      <td>1</td>\n",
       "    </tr>\n",
       "    <tr>\n",
       "      <th>16</th>\n",
       "      <td>0</td>\n",
       "      <td>1</td>\n",
       "    </tr>\n",
       "    <tr>\n",
       "      <th>17</th>\n",
       "      <td>1</td>\n",
       "      <td>1</td>\n",
       "    </tr>\n",
       "    <tr>\n",
       "      <th>18</th>\n",
       "      <td>1</td>\n",
       "      <td>1</td>\n",
       "    </tr>\n",
       "    <tr>\n",
       "      <th>19</th>\n",
       "      <td>1</td>\n",
       "      <td>1</td>\n",
       "    </tr>\n",
       "    <tr>\n",
       "      <th>20</th>\n",
       "      <td>0</td>\n",
       "      <td>0</td>\n",
       "    </tr>\n",
       "    <tr>\n",
       "      <th>21</th>\n",
       "      <td>1</td>\n",
       "      <td>1</td>\n",
       "    </tr>\n",
       "    <tr>\n",
       "      <th>22</th>\n",
       "      <td>1</td>\n",
       "      <td>1</td>\n",
       "    </tr>\n",
       "    <tr>\n",
       "      <th>23</th>\n",
       "      <td>1</td>\n",
       "      <td>1</td>\n",
       "    </tr>\n",
       "    <tr>\n",
       "      <th>24</th>\n",
       "      <td>1</td>\n",
       "      <td>1</td>\n",
       "    </tr>\n",
       "    <tr>\n",
       "      <th>25</th>\n",
       "      <td>1</td>\n",
       "      <td>1</td>\n",
       "    </tr>\n",
       "    <tr>\n",
       "      <th>26</th>\n",
       "      <td>0</td>\n",
       "      <td>1</td>\n",
       "    </tr>\n",
       "    <tr>\n",
       "      <th>27</th>\n",
       "      <td>1</td>\n",
       "      <td>1</td>\n",
       "    </tr>\n",
       "    <tr>\n",
       "      <th>28</th>\n",
       "      <td>1</td>\n",
       "      <td>1</td>\n",
       "    </tr>\n",
       "    <tr>\n",
       "      <th>29</th>\n",
       "      <td>1</td>\n",
       "      <td>1</td>\n",
       "    </tr>\n",
       "    <tr>\n",
       "      <th>30</th>\n",
       "      <td>1</td>\n",
       "      <td>0</td>\n",
       "    </tr>\n",
       "    <tr>\n",
       "      <th>31</th>\n",
       "      <td>1</td>\n",
       "      <td>0</td>\n",
       "    </tr>\n",
       "  </tbody>\n",
       "</table>\n",
       "</div>"
      ],
      "text/plain": [
       "    Original values (y3_test)  Predicted values (y3_pred)\n",
       "0                           1                           1\n",
       "1                           0                           0\n",
       "2                           1                           1\n",
       "3                           1                           0\n",
       "4                           1                           0\n",
       "5                           1                           1\n",
       "6                           1                           1\n",
       "7                           0                           1\n",
       "8                           1                           1\n",
       "9                           1                           1\n",
       "10                          1                           1\n",
       "11                          1                           1\n",
       "12                          0                           0\n",
       "13                          1                           1\n",
       "14                          1                           1\n",
       "15                          1                           1\n",
       "16                          0                           1\n",
       "17                          1                           1\n",
       "18                          1                           1\n",
       "19                          1                           1\n",
       "20                          0                           0\n",
       "21                          1                           1\n",
       "22                          1                           1\n",
       "23                          1                           1\n",
       "24                          1                           1\n",
       "25                          1                           1\n",
       "26                          0                           1\n",
       "27                          1                           1\n",
       "28                          1                           1\n",
       "29                          1                           1\n",
       "30                          1                           0\n",
       "31                          1                           0"
      ]
     },
     "execution_count": 162,
     "metadata": {},
     "output_type": "execute_result"
    }
   ],
   "source": [
    "data3_"
   ]
  },
  {
   "cell_type": "code",
   "execution_count": 163,
   "metadata": {},
   "outputs": [],
   "source": [
    "confusion_matrix3=pd.crosstab(data3_['Original values (y3_test)'],data3_['Predicted values (y3_pred)'],\n",
    "                            rownames=['Original values'], colnames=['Predicted values'])"
   ]
  },
  {
   "cell_type": "code",
   "execution_count": 164,
   "metadata": {},
   "outputs": [
    {
     "data": {
      "text/html": [
       "<div>\n",
       "<style scoped>\n",
       "    .dataframe tbody tr th:only-of-type {\n",
       "        vertical-align: middle;\n",
       "    }\n",
       "\n",
       "    .dataframe tbody tr th {\n",
       "        vertical-align: top;\n",
       "    }\n",
       "\n",
       "    .dataframe thead th {\n",
       "        text-align: right;\n",
       "    }\n",
       "</style>\n",
       "<table border=\"1\" class=\"dataframe\">\n",
       "  <thead>\n",
       "    <tr style=\"text-align: right;\">\n",
       "      <th>Predicted values</th>\n",
       "      <th>0</th>\n",
       "      <th>1</th>\n",
       "    </tr>\n",
       "    <tr>\n",
       "      <th>Original values</th>\n",
       "      <th></th>\n",
       "      <th></th>\n",
       "    </tr>\n",
       "  </thead>\n",
       "  <tbody>\n",
       "    <tr>\n",
       "      <th>0</th>\n",
       "      <td>3</td>\n",
       "      <td>3</td>\n",
       "    </tr>\n",
       "    <tr>\n",
       "      <th>1</th>\n",
       "      <td>4</td>\n",
       "      <td>22</td>\n",
       "    </tr>\n",
       "  </tbody>\n",
       "</table>\n",
       "</div>"
      ],
      "text/plain": [
       "Predicted values  0   1\n",
       "Original values        \n",
       "0                 3   3\n",
       "1                 4  22"
      ]
     },
     "execution_count": 164,
     "metadata": {},
     "output_type": "execute_result"
    }
   ],
   "source": [
    "confusion_matrix3"
   ]
  },
  {
   "cell_type": "code",
   "execution_count": 165,
   "metadata": {},
   "outputs": [
    {
     "data": {
      "text/plain": [
       "<matplotlib.axes._subplots.AxesSubplot at 0xf2fa410>"
      ]
     },
     "execution_count": 165,
     "metadata": {},
     "output_type": "execute_result"
    },
    {
     "data": {
      "image/png": "[encoded data removed]",
      "text/plain": [
       "<Figure size 432x288 with 2 Axes>"
      ]
     },
     "metadata": {
      "needs_background": "light"
     },
     "output_type": "display_data"
    }
   ],
   "source": [
    "sn.heatmap(confusion_matrix3, annot=True)"
   ]
  },
  {
   "cell_type": "code",
   "execution_count": 166,
   "metadata": {},
   "outputs": [
    {
     "data": {
      "text/plain": [
       "2"
      ]
     },
     "execution_count": 166,
     "metadata": {},
     "output_type": "execute_result"
    }
   ],
   "source": [
    "len(y3_pred[y_pred==0])"
   ]
  },
  {
   "cell_type": "code",
   "execution_count": 167,
   "metadata": {},
   "outputs": [
    {
     "data": {
      "text/plain": [
       "30"
      ]
     },
     "execution_count": 167,
     "metadata": {},
     "output_type": "execute_result"
    }
   ],
   "source": [
    "len(y3_pred[y_pred==1])"
   ]
  },
  {
   "cell_type": "markdown",
   "metadata": {},
   "source": [
    "## Accuracy Score"
   ]
  },
  {
   "cell_type": "code",
   "execution_count": 168,
   "metadata": {},
   "outputs": [
    {
     "name": "stdout",
     "output_type": "stream",
     "text": [
      "Accuracy Score:  0.78125\n"
     ]
    }
   ],
   "source": [
    "print(\"Accuracy Score: \",accuracy_score(y3_test,y3_pred))"
   ]
  },
  {
   "cell_type": "markdown",
   "metadata": {},
   "source": [
    "## Visualization of Kernel - SVM on training set"
   ]
  },
  {
   "cell_type": "code",
   "execution_count": 169,
   "metadata": {},
   "outputs": [
    {
     "name": "stderr",
     "output_type": "stream",
     "text": [
      "'c' argument looks like a single numeric RGB or RGBA sequence, which should be avoided as value-mapping will have precedence in case its length matches with 'x' & 'y'.  Please use a 2-D array with a single row if you really want to specify the same RGB or RGBA value for all points.\n",
      "'c' argument looks like a single numeric RGB or RGBA sequence, which should be avoided as value-mapping will have precedence in case its length matches with 'x' & 'y'.  Please use a 2-D array with a single row if you really want to specify the same RGB or RGBA value for all points.\n"
     ]
    },
    {
     "data": {
      "image/png": "[encoded data removed]",
      "text/plain": [
       "<Figure size 432x288 with 1 Axes>"
      ]
     },
     "metadata": {
      "needs_background": "light"
     },
     "output_type": "display_data"
    }
   ],
   "source": [
    "x3_set, y3_set = scaled3.inverse_transform(x3_train_scaled), y3_train\n",
    "\n",
    "x1___, x2___ = np.meshgrid(np.arange(start = x3_set[:, 0].min() - 10, stop = x3_set[:, 0].max() + 10, step = 0.2),\n",
    "                     np.arange(start = x3_set[:, 1].min() - 1000, stop = x3_set[:, 1].max() + 1000, step = 0.2))\n",
    "\n",
    "plt.contourf(x1___, x2___, clas3.predict(scaled3.transform(np.array([x1___.ravel(), x2___.ravel()]).T)).reshape(x1___.shape),\n",
    "             alpha = 0.75, cmap = ListedColormap(('purple', 'orange')))\n",
    "\n",
    "plt.xlim(0,12)\n",
    "plt.ylim(60,100)\n",
    "\n",
    "for i, j in enumerate(np.unique(y3_set)):\n",
    "    plt.scatter(x3_set[y3_set == j, 0], x3_set[y3_set == j, 1], c = ListedColormap(('purple', 'orange'))(i), label = j)\n",
    "    \n",
    "plt.title(\"Kernel - SVM on training set\")\n",
    "plt.xlabel(\"Time spent on lessons\")\n",
    "plt.ylabel(\"GPA\")\n",
    "plt.legend()\n",
    "plt.show()"
   ]
  },
  {
   "cell_type": "markdown",
   "metadata": {},
   "source": [
    "## Visualization of Kernel - SVM on test set"
   ]
  },
  {
   "cell_type": "code",
   "execution_count": 170,
   "metadata": {},
   "outputs": [
    {
     "name": "stderr",
     "output_type": "stream",
     "text": [
      "'c' argument looks like a single numeric RGB or RGBA sequence, which should be avoided as value-mapping will have precedence in case its length matches with 'x' & 'y'.  Please use a 2-D array with a single row if you really want to specify the same RGB or RGBA value for all points.\n",
      "'c' argument looks like a single numeric RGB or RGBA sequence, which should be avoided as value-mapping will have precedence in case its length matches with 'x' & 'y'.  Please use a 2-D array with a single row if you really want to specify the same RGB or RGBA value for all points.\n"
     ]
    },
    {
     "data": {
      "image/png": "[encoded data removed]",
      "text/plain": [
       "<Figure size 432x288 with 1 Axes>"
      ]
     },
     "metadata": {
      "needs_background": "light"
     },
     "output_type": "display_data"
    }
   ],
   "source": [
    "x3_set, y3_set = scaled3.inverse_transform(x3_test_scaled), y3_test\n",
    "\n",
    "x1___, x2___ = np.meshgrid(np.arange(start = x3_set[:, 0].min() - 10, stop = x3_set[:, 0].max() + 10, step = 0.2),\n",
    "                     np.arange(start = x3_set[:, 1].min() - 1000, stop = x3_set[:, 1].max() + 1000, step = 0.2))\n",
    "\n",
    "plt.contourf(x1___, x2___, clas3.predict(scaled3.transform(np.array([x1___.ravel(), x2___.ravel()]).T)).reshape(x1___.shape),\n",
    "             alpha = 0.75, cmap = ListedColormap(('purple', 'orange')))\n",
    "\n",
    "plt.xlim(0,12)\n",
    "plt.ylim(60,100)\n",
    "\n",
    "for i, j in enumerate(np.unique(y3_set)):\n",
    "    plt.scatter(x3_set[y3_set == j, 0], x3_set[y3_set == j, 1], c = ListedColormap(('purple', 'orange'))(i), label = j)\n",
    "    \n",
    "plt.title(\"Kernel - SVM on test set\")\n",
    "plt.xlabel(\"Time spent on lessons\")\n",
    "plt.ylabel(\"GPA\")\n",
    "plt.legend()\n",
    "plt.show()"
   ]
  },
  {
   "cell_type": "markdown",
   "metadata": {},
   "source": [
    "# 5. Naive Bayes"
   ]
  },
  {
   "cell_type": "code",
   "execution_count": 171,
   "metadata": {},
   "outputs": [
    {
     "data": {
      "text/html": [
       "<div>\n",
       "<style scoped>\n",
       "    .dataframe tbody tr th:only-of-type {\n",
       "        vertical-align: middle;\n",
       "    }\n",
       "\n",
       "    .dataframe tbody tr th {\n",
       "        vertical-align: top;\n",
       "    }\n",
       "\n",
       "    .dataframe thead th {\n",
       "        text-align: right;\n",
       "    }\n",
       "</style>\n",
       "<table border=\"1\" class=\"dataframe\">\n",
       "  <thead>\n",
       "    <tr style=\"text-align: right;\">\n",
       "      <th></th>\n",
       "      <th>time_lessons</th>\n",
       "      <th>GPA</th>\n",
       "      <th>attendance</th>\n",
       "    </tr>\n",
       "  </thead>\n",
       "  <tbody>\n",
       "    <tr>\n",
       "      <th>0</th>\n",
       "      <td>4.0</td>\n",
       "      <td>90.60</td>\n",
       "      <td>1</td>\n",
       "    </tr>\n",
       "    <tr>\n",
       "      <th>1</th>\n",
       "      <td>7.0</td>\n",
       "      <td>84.50</td>\n",
       "      <td>0</td>\n",
       "    </tr>\n",
       "    <tr>\n",
       "      <th>3</th>\n",
       "      <td>2.0</td>\n",
       "      <td>80.00</td>\n",
       "      <td>1</td>\n",
       "    </tr>\n",
       "    <tr>\n",
       "      <th>4</th>\n",
       "      <td>7.0</td>\n",
       "      <td>98.50</td>\n",
       "      <td>1</td>\n",
       "    </tr>\n",
       "    <tr>\n",
       "      <th>5</th>\n",
       "      <td>2.0</td>\n",
       "      <td>91.26</td>\n",
       "      <td>1</td>\n",
       "    </tr>\n",
       "    <tr>\n",
       "      <th>...</th>\n",
       "      <td>...</td>\n",
       "      <td>...</td>\n",
       "      <td>...</td>\n",
       "    </tr>\n",
       "    <tr>\n",
       "      <th>157</th>\n",
       "      <td>1.5</td>\n",
       "      <td>92.27</td>\n",
       "      <td>1</td>\n",
       "    </tr>\n",
       "    <tr>\n",
       "      <th>158</th>\n",
       "      <td>10.0</td>\n",
       "      <td>72.00</td>\n",
       "      <td>0</td>\n",
       "    </tr>\n",
       "    <tr>\n",
       "      <th>159</th>\n",
       "      <td>2.0</td>\n",
       "      <td>74.73</td>\n",
       "      <td>1</td>\n",
       "    </tr>\n",
       "    <tr>\n",
       "      <th>160</th>\n",
       "      <td>3.0</td>\n",
       "      <td>83.87</td>\n",
       "      <td>1</td>\n",
       "    </tr>\n",
       "    <tr>\n",
       "      <th>161</th>\n",
       "      <td>3.5</td>\n",
       "      <td>96.70</td>\n",
       "      <td>1</td>\n",
       "    </tr>\n",
       "  </tbody>\n",
       "</table>\n",
       "<p>157 rows × 3 columns</p>\n",
       "</div>"
      ],
      "text/plain": [
       "     time_lessons    GPA  attendance\n",
       "0             4.0  90.60           1\n",
       "1             7.0  84.50           0\n",
       "3             2.0  80.00           1\n",
       "4             7.0  98.50           1\n",
       "5             2.0  91.26           1\n",
       "..            ...    ...         ...\n",
       "157           1.5  92.27           1\n",
       "158          10.0  72.00           0\n",
       "159           2.0  74.73           1\n",
       "160           3.0  83.87           1\n",
       "161           3.5  96.70           1\n",
       "\n",
       "[157 rows x 3 columns]"
      ]
     },
     "execution_count": 171,
     "metadata": {},
     "output_type": "execute_result"
    }
   ],
   "source": [
    "df"
   ]
  },
  {
   "cell_type": "markdown",
   "metadata": {},
   "source": [
    "### Determining  independent and dependent variables"
   ]
  },
  {
   "cell_type": "code",
   "execution_count": 172,
   "metadata": {},
   "outputs": [],
   "source": [
    "x_4=df.iloc[:,:-1].values\n",
    "y_4=df.iloc[:,-1].values"
   ]
  },
  {
   "cell_type": "code",
   "execution_count": 173,
   "metadata": {},
   "outputs": [
    {
     "data": {
      "text/plain": [
       "array([[ 4.  , 90.6 ],\n",
       "       [ 7.  , 84.5 ],\n",
       "       [ 2.  , 80.  ],\n",
       "       [ 7.  , 98.5 ],\n",
       "       [ 2.  , 91.26],\n",
       "       [ 2.5 , 80.  ],\n",
       "       [ 3.  , 86.  ],\n",
       "       [ 4.5 , 71.  ],\n",
       "       [ 4.5 , 82.  ],\n",
       "       [ 2.  , 85.33],\n",
       "       [ 8.5 , 95.56],\n",
       "       [ 1.5 , 92.3 ],\n",
       "       [ 2.5 , 72.  ],\n",
       "       [ 5.5 , 80.  ],\n",
       "       [ 3.5 , 75.7 ],\n",
       "       [ 1.5 , 88.83],\n",
       "       [ 6.  , 93.9 ],\n",
       "       [ 0.25, 90.11],\n",
       "       [ 0.3 , 47.  ],\n",
       "       [ 1.5 , 86.  ],\n",
       "       [ 2.  , 95.4 ],\n",
       "       [12.  , 89.5 ],\n",
       "       [12.5 , 80.  ],\n",
       "       [ 4.  , 76.63],\n",
       "       [ 2.  , 76.  ],\n",
       "       [ 1.5 , 91.73],\n",
       "       [ 9.  , 91.  ],\n",
       "       [ 2.5 , 80.  ],\n",
       "       [ 4.  , 77.  ],\n",
       "       [ 3.5 , 87.  ],\n",
       "       [ 1.5 , 81.  ],\n",
       "       [ 5.  , 84.  ],\n",
       "       [ 3.  , 94.2 ],\n",
       "       [ 1.5 , 80.  ],\n",
       "       [ 1.5 , 83.  ],\n",
       "       [ 4.5 , 77.2 ],\n",
       "       [ 5.  , 84.  ],\n",
       "       [ 2.  , 83.67],\n",
       "       [ 2.5 , 91.5 ],\n",
       "       [11.  , 77.  ],\n",
       "       [ 3.  , 87.  ],\n",
       "       [ 4.5 , 96.5 ],\n",
       "       [ 0.5 , 88.03],\n",
       "       [ 1.5 , 91.27],\n",
       "       [ 4.  , 91.  ],\n",
       "       [ 3.5 , 93.  ],\n",
       "       [ 6.5 , 90.  ],\n",
       "       [ 9.  , 84.03],\n",
       "       [ 1.5 , 92.  ],\n",
       "       [ 2.5 , 94.  ],\n",
       "       [ 3.  , 74.43],\n",
       "       [ 5.  , 96.4 ],\n",
       "       [ 8.  , 93.  ],\n",
       "       [ 2.5 , 97.3 ],\n",
       "       [ 8.  , 96.  ],\n",
       "       [ 4.5 , 90.5 ],\n",
       "       [ 8.  , 81.  ],\n",
       "       [ 3.5 , 80.  ],\n",
       "       [ 5.5 , 92.6 ],\n",
       "       [ 5.5 , 78.  ],\n",
       "       [ 4.  , 76.71],\n",
       "       [ 0.5 , 91.3 ],\n",
       "       [ 2.  , 91.33],\n",
       "       [ 7.5 , 74.  ],\n",
       "       [ 4.5 , 90.73],\n",
       "       [ 4.5 , 96.  ],\n",
       "       [ 2.5 , 76.  ],\n",
       "       [ 5.  , 91.4 ],\n",
       "       [ 8.5 , 81.  ],\n",
       "       [ 2.5 , 88.51],\n",
       "       [ 4.  , 89.  ],\n",
       "       [ 3.5 , 73.22],\n",
       "       [ 3.5 , 93.8 ],\n",
       "       [10.  , 92.85],\n",
       "       [ 1.5 , 94.8 ],\n",
       "       [ 4.5 , 80.  ],\n",
       "       [ 5.5 , 84.5 ],\n",
       "       [ 7.  , 79.47],\n",
       "       [ 2.5 , 87.72],\n",
       "       [ 3.5 , 93.33],\n",
       "       [ 2.  , 69.87],\n",
       "       [ 2.  , 83.  ],\n",
       "       [ 2.5 , 93.03],\n",
       "       [ 2.  , 75.83],\n",
       "       [11.5 , 88.  ],\n",
       "       [ 2.  , 77.5 ],\n",
       "       [ 8.  , 87.83],\n",
       "       [ 1.  , 91.5 ],\n",
       "       [ 4.  , 92.8 ],\n",
       "       [ 0.25, 93.  ],\n",
       "       [ 3.  , 92.2 ],\n",
       "       [ 3.5 , 78.2 ],\n",
       "       [12.5 , 70.  ],\n",
       "       [ 2.5 , 84.2 ],\n",
       "       [ 5.5 , 89.99],\n",
       "       [ 1.5 , 91.  ],\n",
       "       [ 3.  , 83.67],\n",
       "       [ 2.5 , 89.43],\n",
       "       [ 5.  , 84.  ],\n",
       "       [ 4.  , 91.33],\n",
       "       [ 3.  , 91.  ],\n",
       "       [ 3.  , 90.56],\n",
       "       [ 1.  , 89.  ],\n",
       "       [ 3.5 , 70.  ],\n",
       "       [ 4.5 , 89.  ],\n",
       "       [ 5.5 , 83.66],\n",
       "       [ 0.5 , 85.  ],\n",
       "       [ 9.  , 83.  ],\n",
       "       [ 5.5 , 82.  ],\n",
       "       [ 4.  , 76.71],\n",
       "       [ 0.5 , 83.  ],\n",
       "       [ 2.5 , 91.3 ],\n",
       "       [10.  , 85.27],\n",
       "       [ 5.  , 84.  ],\n",
       "       [ 3.  , 90.44],\n",
       "       [ 0.5 , 82.  ],\n",
       "       [10.5 , 98.67],\n",
       "       [ 4.  , 85.  ],\n",
       "       [ 8.  , 93.  ],\n",
       "       [ 0.5 , 80.  ],\n",
       "       [ 3.  , 81.  ],\n",
       "       [ 3.  , 90.5 ],\n",
       "       [ 0.5 , 84.  ],\n",
       "       [ 4.  , 83.63],\n",
       "       [ 5.  , 85.  ],\n",
       "       [ 3.  , 94.  ],\n",
       "       [ 0.5 , 82.  ],\n",
       "       [ 4.  , 82.  ],\n",
       "       [ 4.5 , 78.  ],\n",
       "       [ 2.  , 96.  ],\n",
       "       [ 6.  , 77.  ],\n",
       "       [ 3.  , 79.  ],\n",
       "       [ 4.  , 88.2 ],\n",
       "       [ 2.5 , 93.  ],\n",
       "       [ 6.  , 82.5 ],\n",
       "       [11.  , 98.6 ],\n",
       "       [ 2.  , 89.  ],\n",
       "       [ 1.5 , 87.  ],\n",
       "       [ 5.5 , 87.  ],\n",
       "       [ 1.5 , 92.6 ],\n",
       "       [ 0.5 , 83.  ],\n",
       "       [ 0.5 , 87.  ],\n",
       "       [ 1.5 , 93.  ],\n",
       "       [ 3.  , 80.3 ],\n",
       "       [ 1.5 , 71.  ],\n",
       "       [ 0.5 , 94.04],\n",
       "       [ 1.5 , 88.  ],\n",
       "       [ 2.5 , 95.  ],\n",
       "       [ 3.  , 93.17],\n",
       "       [ 5.  , 80.  ],\n",
       "       [ 2.  , 94.  ],\n",
       "       [ 2.  , 71.  ],\n",
       "       [ 1.5 , 92.27],\n",
       "       [10.  , 72.  ],\n",
       "       [ 2.  , 74.73],\n",
       "       [ 3.  , 83.87],\n",
       "       [ 3.5 , 96.7 ]])"
      ]
     },
     "execution_count": 173,
     "metadata": {},
     "output_type": "execute_result"
    }
   ],
   "source": [
    "x_4"
   ]
  },
  {
   "cell_type": "code",
   "execution_count": 174,
   "metadata": {},
   "outputs": [
    {
     "data": {
      "text/plain": [
       "array([1, 0, 1, 1, 1, 1, 1, 0, 0, 1, 1, 1, 1, 0, 1, 1, 1, 1, 1, 1, 1, 0,\n",
       "       0, 1, 1, 1, 1, 1, 0, 1, 1, 1, 1, 1, 1, 1, 0, 1, 1, 0, 1, 1, 1, 1,\n",
       "       1, 1, 1, 0, 1, 1, 1, 1, 1, 1, 1, 0, 0, 1, 1, 0, 0, 1, 1, 0, 0, 1,\n",
       "       1, 1, 1, 1, 1, 1, 1, 0, 1, 0, 0, 0, 1, 1, 1, 1, 1, 1, 0, 1, 0, 1,\n",
       "       1, 1, 1, 1, 0, 1, 0, 1, 1, 1, 0, 1, 1, 1, 1, 1, 1, 1, 1, 1, 0, 0,\n",
       "       1, 1, 0, 1, 1, 1, 1, 1, 1, 1, 1, 1, 1, 0, 1, 1, 1, 0, 0, 1, 1, 1,\n",
       "       0, 1, 0, 1, 1, 1, 1, 1, 1, 1, 1, 1, 1, 1, 1, 1, 1, 1, 1, 1, 1, 0,\n",
       "       1, 1, 1], dtype=int64)"
      ]
     },
     "execution_count": 174,
     "metadata": {},
     "output_type": "execute_result"
    }
   ],
   "source": [
    "y_4"
   ]
  },
  {
   "cell_type": "markdown",
   "metadata": {},
   "source": [
    "## Train and test split"
   ]
  },
  {
   "cell_type": "code",
   "execution_count": 175,
   "metadata": {},
   "outputs": [],
   "source": [
    "x4_train, x4_test, y4_train, y4_test = train_test_split(x_4, y_4, test_size = 0.2, random_state = 1)"
   ]
  },
  {
   "cell_type": "code",
   "execution_count": 176,
   "metadata": {},
   "outputs": [
    {
     "data": {
      "text/plain": [
       "array([[ 4.  , 85.  ],\n",
       "       [ 4.5 , 80.  ],\n",
       "       [ 5.  , 96.4 ],\n",
       "       [ 5.  , 84.  ],\n",
       "       [ 4.5 , 77.2 ],\n",
       "       [ 3.  , 87.  ],\n",
       "       [ 3.5 , 75.7 ],\n",
       "       [ 4.  , 76.71],\n",
       "       [ 2.5 , 97.3 ],\n",
       "       [ 2.5 , 95.  ],\n",
       "       [ 2.  , 71.  ],\n",
       "       [ 2.5 , 87.72],\n",
       "       [12.5 , 70.  ],\n",
       "       [ 3.  , 92.2 ],\n",
       "       [ 0.25, 93.  ],\n",
       "       [ 2.5 , 80.  ],\n",
       "       [ 4.  , 83.63],\n",
       "       [ 6.  , 93.9 ],\n",
       "       [ 1.5 , 86.  ],\n",
       "       [ 3.5 , 87.  ],\n",
       "       [ 8.  , 81.  ],\n",
       "       [ 2.  , 94.  ],\n",
       "       [ 3.  , 80.3 ],\n",
       "       [ 4.  , 91.33],\n",
       "       [ 2.5 , 84.2 ],\n",
       "       [ 2.5 , 88.51],\n",
       "       [ 5.5 , 89.99],\n",
       "       [ 0.5 , 88.03],\n",
       "       [ 0.5 , 84.  ],\n",
       "       [ 4.  , 91.  ],\n",
       "       [ 5.5 , 83.66],\n",
       "       [ 5.5 , 87.  ]])"
      ]
     },
     "execution_count": 176,
     "metadata": {},
     "output_type": "execute_result"
    }
   ],
   "source": [
    "x4_test"
   ]
  },
  {
   "cell_type": "markdown",
   "metadata": {},
   "source": [
    "## Scaling the data"
   ]
  },
  {
   "cell_type": "code",
   "execution_count": 177,
   "metadata": {},
   "outputs": [],
   "source": [
    "scaled4=StandardScaler()"
   ]
  },
  {
   "cell_type": "code",
   "execution_count": 178,
   "metadata": {},
   "outputs": [],
   "source": [
    "x4_train_scaled=scaled4.fit_transform(x4_train)\n",
    "x4_test_scaled=scaled4.transform(x4_test)"
   ]
  },
  {
   "cell_type": "code",
   "execution_count": 179,
   "metadata": {},
   "outputs": [
    {
     "data": {
      "text/plain": [
       "array([[-0.50766639, -1.22569969],\n",
       "       [-0.85433834, -0.72273298],\n",
       "       [-1.20101028,  0.15745876],\n",
       "       [ 0.53234944, -0.97421634],\n",
       "       [ 0.01234152, -0.47124963],\n",
       "       [-0.33433042, -0.84847466],\n",
       "       [ 0.35901346, -0.72273298],\n",
       "       [-0.33433042,  1.0376505 ],\n",
       "       [ 0.53234944,  0.86161215],\n",
       "       [ 0.01234152, -1.09995802],\n",
       "       [ 0.35901346, -0.0940246 ],\n",
       "       [-0.50766639,  0.69814797],\n",
       "       [ 1.39902929,  1.28913386],\n",
       "       [-1.28767826,  0.54851538],\n",
       "       [ 2.09237318,  0.89304757],\n",
       "       [ 0.18567749,  0.40894211],\n",
       "       [ 2.43904512,  1.61606222],\n",
       "       [ 1.05235735, -0.78937607],\n",
       "       [-1.27034467, -4.87220834],\n",
       "       [-0.85433834,  0.78616715],\n",
       "       [-0.68100236,  0.6931183 ],\n",
       "       [-0.16099445,  0.91190882],\n",
       "       [-1.02767431,  0.40894211],\n",
       "       [ 2.43904512, -1.09995802],\n",
       "       [ 0.35901346, -0.21976627],\n",
       "       [-0.33433042, -0.59699131],\n",
       "       [-1.20101028,  1.04268017],\n",
       "       [-1.20101028, -0.34550795],\n",
       "       [-0.50766639, -1.7286664 ],\n",
       "       [-0.85433834,  0.82388965],\n",
       "       [-0.68100236, -1.03708718],\n",
       "       [-1.20101028, -0.47124963],\n",
       "       [-0.50766639,  0.46301103],\n",
       "       [ 2.26570915,  1.62486414],\n",
       "       [-0.68100236, -0.72273298],\n",
       "       [ 1.74570123, -0.34550795],\n",
       "       [-0.33433042,  0.03171708],\n",
       "       [ 0.01234152,  0.6101288 ],\n",
       "       [ 0.35901346, -0.21976627],\n",
       "       [ 0.18567749,  1.28913386],\n",
       "       [ 0.18567749,  0.59755463],\n",
       "       [-0.68100236, -0.34550795],\n",
       "       [ 2.61238109,  0.28320044],\n",
       "       [ 0.87902138,  0.53468379],\n",
       "       [-0.68100236,  0.70192022],\n",
       "       [-0.85433834,  1.13824384],\n",
       "       [-1.20101028, -0.72273298],\n",
       "       [-0.85433834,  0.66042547],\n",
       "       [-0.16099445, -1.98014976],\n",
       "       [-0.16099445, -0.949068  ],\n",
       "       [ 1.57236526,  1.23380752],\n",
       "       [-0.85433834, -0.34550795],\n",
       "       [-0.33433042,  1.06279884],\n",
       "       [ 0.70568541, -1.09995802],\n",
       "       [-0.50766639,  0.72329631],\n",
       "       [-0.68100236, -1.24707578],\n",
       "       [-0.33433042,  0.59001013],\n",
       "       [-0.16099445,  1.37715303],\n",
       "       [-0.50766639, -0.72273298],\n",
       "       [ 0.01234152, -1.14648244],\n",
       "       [ 0.35901346,  0.71072214],\n",
       "       [-0.68100236, -0.05252984],\n",
       "       [-0.85433834,  0.8201174 ],\n",
       "       [-0.33433042,  0.66042547],\n",
       "       [ 0.53234944, -0.47124963],\n",
       "       [-0.68100236,  0.40894211],\n",
       "       [-1.02767431,  0.72329631],\n",
       "       [ 0.35901346, -0.21976627],\n",
       "       [-0.85433834,  0.28320044],\n",
       "       [ 2.09237318, -0.06007434],\n",
       "       [ 0.18567749,  0.62647522],\n",
       "       [-0.85433834,  0.38756603],\n",
       "       [-0.50766639,  0.91568107],\n",
       "       [ 0.18567749,  1.35200469],\n",
       "       [-0.68100236, -1.99649618],\n",
       "       [ 1.39902929,  0.91190882],\n",
       "       [ 1.74570123,  0.66042547],\n",
       "       [ 0.53234944, -0.15689544],\n",
       "       [-0.85433834,  0.69437572],\n",
       "       [-0.68100236, -1.22569969],\n",
       "       [-0.33433042, -0.23611269],\n",
       "       [ 1.39902929,  0.91190882],\n",
       "       [ 0.01234152,  0.30834877],\n",
       "       [-0.50766639,  1.0376505 ],\n",
       "       [ 2.78571706,  0.47181295],\n",
       "       [ 0.01234152,  0.40894211],\n",
       "       [ 1.05235735,  1.60348805],\n",
       "       [-0.33433042,  0.93328491],\n",
       "       [-0.85433834, -0.59699131],\n",
       "       [-0.68100236, -1.38539162],\n",
       "       [-0.33433042,  0.59755463],\n",
       "       [-1.20101028, -0.0940246 ],\n",
       "       [ 1.74570123, -0.21599402],\n",
       "       [-1.20101028, -0.47124963],\n",
       "       [ 0.53234944, -0.72273298],\n",
       "       [ 0.01234152,  0.88676049],\n",
       "       [ 0.18567749, -0.47124963],\n",
       "       [ 0.01234152, -1.1364231 ],\n",
       "       [ 0.18567749, -0.97421634],\n",
       "       [ 1.05235735, -0.15689544],\n",
       "       [-0.16099445, -0.72273298],\n",
       "       [ 2.95905303, -0.72273298],\n",
       "       [-1.20101028,  0.69814797],\n",
       "       [ 1.22569332, -1.47718305],\n",
       "       [ 0.18567749, -1.85440808],\n",
       "       [ 2.09237318, -1.7286664 ],\n",
       "       [ 1.39902929,  0.26182435],\n",
       "       [-0.33433042, -0.26126103],\n",
       "       [ 1.57236526, -0.59699131],\n",
       "       [-0.33433042, -1.42311413],\n",
       "       [-0.85433834,  0.91190882],\n",
       "       [-0.85433834,  0.86161215],\n",
       "       [-0.33433042,  0.60509913],\n",
       "       [-0.68100236,  1.21368885],\n",
       "       [-0.85433834,  0.75221689],\n",
       "       [ 0.70568541, -0.40837879],\n",
       "       [-0.16099445, -1.57526156],\n",
       "       [-0.68100236,  1.28913386],\n",
       "       [-0.85433834, -1.85440808],\n",
       "       [-0.16099445,  0.95340358],\n",
       "       [-0.50766639,  0.91190882],\n",
       "       [-0.85433834,  0.15745876],\n",
       "       [-0.16099445,  1.01250217],\n",
       "       [-1.20101028, -0.34550795],\n",
       "       [-0.68100236, -0.26126103]])"
      ]
     },
     "execution_count": 179,
     "metadata": {},
     "output_type": "execute_result"
    }
   ],
   "source": [
    "x4_train_scaled"
   ]
  },
  {
   "cell_type": "markdown",
   "metadata": {},
   "source": [
    "## Naive Bayes model on training set"
   ]
  },
  {
   "cell_type": "code",
   "execution_count": 180,
   "metadata": {},
   "outputs": [],
   "source": [
    "from sklearn.naive_bayes import GaussianNB"
   ]
  },
  {
   "cell_type": "code",
   "execution_count": 181,
   "metadata": {},
   "outputs": [
    {
     "data": {
      "text/plain": [
       "GaussianNB(priors=None, var_smoothing=1e-09)"
      ]
     },
     "execution_count": 181,
     "metadata": {},
     "output_type": "execute_result"
    }
   ],
   "source": [
    "clas4 = GaussianNB()\n",
    "clas4.fit(x4_train_scaled, y4_train)"
   ]
  },
  {
   "cell_type": "markdown",
   "metadata": {},
   "source": [
    "## Predicting training results"
   ]
  },
  {
   "cell_type": "code",
   "execution_count": 182,
   "metadata": {},
   "outputs": [
    {
     "data": {
      "text/plain": [
       "array([1], dtype=int64)"
      ]
     },
     "execution_count": 182,
     "metadata": {},
     "output_type": "execute_result"
    }
   ],
   "source": [
    "clas4.predict(([[2.5,99]]))"
   ]
  },
  {
   "cell_type": "code",
   "execution_count": 183,
   "metadata": {},
   "outputs": [
    {
     "data": {
      "text/plain": [
       "array([[-0.50766639,  1.66635889]])"
      ]
     },
     "execution_count": 183,
     "metadata": {},
     "output_type": "execute_result"
    }
   ],
   "source": [
    "scaled4.transform(([[2.5,99]]))"
   ]
  },
  {
   "cell_type": "code",
   "execution_count": 184,
   "metadata": {},
   "outputs": [
    {
     "data": {
      "text/plain": [
       "array([1], dtype=int64)"
      ]
     },
     "execution_count": 184,
     "metadata": {},
     "output_type": "execute_result"
    }
   ],
   "source": [
    "clas4.predict(scaled4.transform(([[2.5,99]])))"
   ]
  },
  {
   "cell_type": "code",
   "execution_count": 185,
   "metadata": {},
   "outputs": [
    {
     "data": {
      "text/plain": [
       "array([1], dtype=int64)"
      ]
     },
     "execution_count": 185,
     "metadata": {},
     "output_type": "execute_result"
    }
   ],
   "source": [
    "clas4.predict(([[-0.50766639,  1.66635889]]))"
   ]
  },
  {
   "cell_type": "markdown",
   "metadata": {},
   "source": [
    "## Predicting test results"
   ]
  },
  {
   "cell_type": "code",
   "execution_count": 186,
   "metadata": {},
   "outputs": [],
   "source": [
    "y4_pred=clas4.predict(x4_test_scaled)"
   ]
  },
  {
   "cell_type": "code",
   "execution_count": 187,
   "metadata": {},
   "outputs": [
    {
     "data": {
      "text/plain": [
       "array([1, 1, 1, 1, 1, 1, 1, 1, 1, 1, 1, 1, 0, 1, 1, 1, 1, 1, 1, 1, 0, 1,\n",
       "       1, 1, 1, 1, 1, 1, 1, 1, 1, 1], dtype=int64)"
      ]
     },
     "execution_count": 187,
     "metadata": {},
     "output_type": "execute_result"
    }
   ],
   "source": [
    "y4_pred"
   ]
  },
  {
   "cell_type": "markdown",
   "metadata": {},
   "source": [
    "## Confusion Matrix"
   ]
  },
  {
   "cell_type": "code",
   "execution_count": 188,
   "metadata": {},
   "outputs": [
    {
     "data": {
      "text/plain": [
       "array([1, 1, 1, 1, 1, 1, 1, 1, 1, 1, 1, 1, 0, 1, 1, 1, 1, 1, 1, 1, 0, 1,\n",
       "       1, 1, 1, 1, 1, 1, 1, 1, 1, 1], dtype=int64)"
      ]
     },
     "execution_count": 188,
     "metadata": {},
     "output_type": "execute_result"
    }
   ],
   "source": [
    "y4_pred"
   ]
  },
  {
   "cell_type": "code",
   "execution_count": 189,
   "metadata": {},
   "outputs": [
    {
     "data": {
      "text/plain": [
       "array([1, 0, 1, 1, 1, 1, 1, 0, 1, 1, 1, 1, 0, 1, 1, 1, 0, 1, 1, 1, 0, 1,\n",
       "       1, 1, 1, 1, 0, 1, 1, 1, 1, 1], dtype=int64)"
      ]
     },
     "execution_count": 189,
     "metadata": {},
     "output_type": "execute_result"
    }
   ],
   "source": [
    "y4_test"
   ]
  },
  {
   "cell_type": "code",
   "execution_count": 190,
   "metadata": {},
   "outputs": [],
   "source": [
    "data4={\"Original values (y4_test)\": y4_test,\n",
    "      \"Predicted values (y4_pred)\": y4_pred}"
   ]
  },
  {
   "cell_type": "code",
   "execution_count": 191,
   "metadata": {},
   "outputs": [],
   "source": [
    "data4_=pd.DataFrame(data4)"
   ]
  },
  {
   "cell_type": "code",
   "execution_count": 192,
   "metadata": {},
   "outputs": [
    {
     "data": {
      "text/html": [
       "<div>\n",
       "<style scoped>\n",
       "    .dataframe tbody tr th:only-of-type {\n",
       "        vertical-align: middle;\n",
       "    }\n",
       "\n",
       "    .dataframe tbody tr th {\n",
       "        vertical-align: top;\n",
       "    }\n",
       "\n",
       "    .dataframe thead th {\n",
       "        text-align: right;\n",
       "    }\n",
       "</style>\n",
       "<table border=\"1\" class=\"dataframe\">\n",
       "  <thead>\n",
       "    <tr style=\"text-align: right;\">\n",
       "      <th></th>\n",
       "      <th>Original values (y4_test)</th>\n",
       "      <th>Predicted values (y4_pred)</th>\n",
       "    </tr>\n",
       "  </thead>\n",
       "  <tbody>\n",
       "    <tr>\n",
       "      <th>0</th>\n",
       "      <td>1</td>\n",
       "      <td>1</td>\n",
       "    </tr>\n",
       "    <tr>\n",
       "      <th>1</th>\n",
       "      <td>0</td>\n",
       "      <td>1</td>\n",
       "    </tr>\n",
       "    <tr>\n",
       "      <th>2</th>\n",
       "      <td>1</td>\n",
       "      <td>1</td>\n",
       "    </tr>\n",
       "    <tr>\n",
       "      <th>3</th>\n",
       "      <td>1</td>\n",
       "      <td>1</td>\n",
       "    </tr>\n",
       "    <tr>\n",
       "      <th>4</th>\n",
       "      <td>1</td>\n",
       "      <td>1</td>\n",
       "    </tr>\n",
       "    <tr>\n",
       "      <th>5</th>\n",
       "      <td>1</td>\n",
       "      <td>1</td>\n",
       "    </tr>\n",
       "    <tr>\n",
       "      <th>6</th>\n",
       "      <td>1</td>\n",
       "      <td>1</td>\n",
       "    </tr>\n",
       "    <tr>\n",
       "      <th>7</th>\n",
       "      <td>0</td>\n",
       "      <td>1</td>\n",
       "    </tr>\n",
       "    <tr>\n",
       "      <th>8</th>\n",
       "      <td>1</td>\n",
       "      <td>1</td>\n",
       "    </tr>\n",
       "    <tr>\n",
       "      <th>9</th>\n",
       "      <td>1</td>\n",
       "      <td>1</td>\n",
       "    </tr>\n",
       "    <tr>\n",
       "      <th>10</th>\n",
       "      <td>1</td>\n",
       "      <td>1</td>\n",
       "    </tr>\n",
       "    <tr>\n",
       "      <th>11</th>\n",
       "      <td>1</td>\n",
       "      <td>1</td>\n",
       "    </tr>\n",
       "    <tr>\n",
       "      <th>12</th>\n",
       "      <td>0</td>\n",
       "      <td>0</td>\n",
       "    </tr>\n",
       "    <tr>\n",
       "      <th>13</th>\n",
       "      <td>1</td>\n",
       "      <td>1</td>\n",
       "    </tr>\n",
       "    <tr>\n",
       "      <th>14</th>\n",
       "      <td>1</td>\n",
       "      <td>1</td>\n",
       "    </tr>\n",
       "    <tr>\n",
       "      <th>15</th>\n",
       "      <td>1</td>\n",
       "      <td>1</td>\n",
       "    </tr>\n",
       "    <tr>\n",
       "      <th>16</th>\n",
       "      <td>0</td>\n",
       "      <td>1</td>\n",
       "    </tr>\n",
       "    <tr>\n",
       "      <th>17</th>\n",
       "      <td>1</td>\n",
       "      <td>1</td>\n",
       "    </tr>\n",
       "    <tr>\n",
       "      <th>18</th>\n",
       "      <td>1</td>\n",
       "      <td>1</td>\n",
       "    </tr>\n",
       "    <tr>\n",
       "      <th>19</th>\n",
       "      <td>1</td>\n",
       "      <td>1</td>\n",
       "    </tr>\n",
       "    <tr>\n",
       "      <th>20</th>\n",
       "      <td>0</td>\n",
       "      <td>0</td>\n",
       "    </tr>\n",
       "    <tr>\n",
       "      <th>21</th>\n",
       "      <td>1</td>\n",
       "      <td>1</td>\n",
       "    </tr>\n",
       "    <tr>\n",
       "      <th>22</th>\n",
       "      <td>1</td>\n",
       "      <td>1</td>\n",
       "    </tr>\n",
       "    <tr>\n",
       "      <th>23</th>\n",
       "      <td>1</td>\n",
       "      <td>1</td>\n",
       "    </tr>\n",
       "    <tr>\n",
       "      <th>24</th>\n",
       "      <td>1</td>\n",
       "      <td>1</td>\n",
       "    </tr>\n",
       "    <tr>\n",
       "      <th>25</th>\n",
       "      <td>1</td>\n",
       "      <td>1</td>\n",
       "    </tr>\n",
       "    <tr>\n",
       "      <th>26</th>\n",
       "      <td>0</td>\n",
       "      <td>1</td>\n",
       "    </tr>\n",
       "    <tr>\n",
       "      <th>27</th>\n",
       "      <td>1</td>\n",
       "      <td>1</td>\n",
       "    </tr>\n",
       "    <tr>\n",
       "      <th>28</th>\n",
       "      <td>1</td>\n",
       "      <td>1</td>\n",
       "    </tr>\n",
       "    <tr>\n",
       "      <th>29</th>\n",
       "      <td>1</td>\n",
       "      <td>1</td>\n",
       "    </tr>\n",
       "    <tr>\n",
       "      <th>30</th>\n",
       "      <td>1</td>\n",
       "      <td>1</td>\n",
       "    </tr>\n",
       "    <tr>\n",
       "      <th>31</th>\n",
       "      <td>1</td>\n",
       "      <td>1</td>\n",
       "    </tr>\n",
       "  </tbody>\n",
       "</table>\n",
       "</div>"
      ],
      "text/plain": [
       "    Original values (y4_test)  Predicted values (y4_pred)\n",
       "0                           1                           1\n",
       "1                           0                           1\n",
       "2                           1                           1\n",
       "3                           1                           1\n",
       "4                           1                           1\n",
       "5                           1                           1\n",
       "6                           1                           1\n",
       "7                           0                           1\n",
       "8                           1                           1\n",
       "9                           1                           1\n",
       "10                          1                           1\n",
       "11                          1                           1\n",
       "12                          0                           0\n",
       "13                          1                           1\n",
       "14                          1                           1\n",
       "15                          1                           1\n",
       "16                          0                           1\n",
       "17                          1                           1\n",
       "18                          1                           1\n",
       "19                          1                           1\n",
       "20                          0                           0\n",
       "21                          1                           1\n",
       "22                          1                           1\n",
       "23                          1                           1\n",
       "24                          1                           1\n",
       "25                          1                           1\n",
       "26                          0                           1\n",
       "27                          1                           1\n",
       "28                          1                           1\n",
       "29                          1                           1\n",
       "30                          1                           1\n",
       "31                          1                           1"
      ]
     },
     "execution_count": 192,
     "metadata": {},
     "output_type": "execute_result"
    }
   ],
   "source": [
    "data4_"
   ]
  },
  {
   "cell_type": "code",
   "execution_count": 193,
   "metadata": {},
   "outputs": [],
   "source": [
    "confusion_matrix4=pd.crosstab(data4_['Original values (y4_test)'],data4_['Predicted values (y4_pred)'],\n",
    "                            rownames=['Original values'], colnames=['Predicted values'])"
   ]
  },
  {
   "cell_type": "code",
   "execution_count": 194,
   "metadata": {},
   "outputs": [
    {
     "data": {
      "text/html": [
       "<div>\n",
       "<style scoped>\n",
       "    .dataframe tbody tr th:only-of-type {\n",
       "        vertical-align: middle;\n",
       "    }\n",
       "\n",
       "    .dataframe tbody tr th {\n",
       "        vertical-align: top;\n",
       "    }\n",
       "\n",
       "    .dataframe thead th {\n",
       "        text-align: right;\n",
       "    }\n",
       "</style>\n",
       "<table border=\"1\" class=\"dataframe\">\n",
       "  <thead>\n",
       "    <tr style=\"text-align: right;\">\n",
       "      <th>Predicted values</th>\n",
       "      <th>0</th>\n",
       "      <th>1</th>\n",
       "    </tr>\n",
       "    <tr>\n",
       "      <th>Original values</th>\n",
       "      <th></th>\n",
       "      <th></th>\n",
       "    </tr>\n",
       "  </thead>\n",
       "  <tbody>\n",
       "    <tr>\n",
       "      <th>0</th>\n",
       "      <td>2</td>\n",
       "      <td>4</td>\n",
       "    </tr>\n",
       "    <tr>\n",
       "      <th>1</th>\n",
       "      <td>0</td>\n",
       "      <td>26</td>\n",
       "    </tr>\n",
       "  </tbody>\n",
       "</table>\n",
       "</div>"
      ],
      "text/plain": [
       "Predicted values  0   1\n",
       "Original values        \n",
       "0                 2   4\n",
       "1                 0  26"
      ]
     },
     "execution_count": 194,
     "metadata": {},
     "output_type": "execute_result"
    }
   ],
   "source": [
    "confusion_matrix4"
   ]
  },
  {
   "cell_type": "code",
   "execution_count": 195,
   "metadata": {},
   "outputs": [
    {
     "data": {
      "text/plain": [
       "<matplotlib.axes._subplots.AxesSubplot at 0xe83c1f0>"
      ]
     },
     "execution_count": 195,
     "metadata": {},
     "output_type": "execute_result"
    },
    {
     "data": {
      "image/png": "[encoded data removed]",
      "text/plain": [
       "<Figure size 432x288 with 2 Axes>"
      ]
     },
     "metadata": {
      "needs_background": "light"
     },
     "output_type": "display_data"
    }
   ],
   "source": [
    "sn.heatmap(confusion_matrix4, annot=True)"
   ]
  },
  {
   "cell_type": "code",
   "execution_count": 196,
   "metadata": {},
   "outputs": [
    {
     "data": {
      "text/plain": [
       "2"
      ]
     },
     "execution_count": 196,
     "metadata": {},
     "output_type": "execute_result"
    }
   ],
   "source": [
    "len(y4_pred[y4_pred==0])"
   ]
  },
  {
   "cell_type": "code",
   "execution_count": 197,
   "metadata": {},
   "outputs": [
    {
     "data": {
      "text/plain": [
       "30"
      ]
     },
     "execution_count": 197,
     "metadata": {},
     "output_type": "execute_result"
    }
   ],
   "source": [
    "len(y4_pred[y4_pred==1])"
   ]
  },
  {
   "cell_type": "markdown",
   "metadata": {},
   "source": [
    "## Accuracy Score"
   ]
  },
  {
   "cell_type": "code",
   "execution_count": 198,
   "metadata": {},
   "outputs": [
    {
     "name": "stdout",
     "output_type": "stream",
     "text": [
      "Accuracy Score:  0.875\n"
     ]
    }
   ],
   "source": [
    "print(\"Accuracy Score: \",accuracy_score(y4_test,y4_pred))"
   ]
  },
  {
   "cell_type": "markdown",
   "metadata": {},
   "source": [
    "## Visualization of Naive Bayes model on training set"
   ]
  },
  {
   "cell_type": "code",
   "execution_count": 199,
   "metadata": {},
   "outputs": [
    {
     "name": "stderr",
     "output_type": "stream",
     "text": [
      "'c' argument looks like a single numeric RGB or RGBA sequence, which should be avoided as value-mapping will have precedence in case its length matches with 'x' & 'y'.  Please use a 2-D array with a single row if you really want to specify the same RGB or RGBA value for all points.\n",
      "'c' argument looks like a single numeric RGB or RGBA sequence, which should be avoided as value-mapping will have precedence in case its length matches with 'x' & 'y'.  Please use a 2-D array with a single row if you really want to specify the same RGB or RGBA value for all points.\n"
     ]
    },
    {
     "data": {
      "image/png": "[encoded data removed]",
      "text/plain": [
       "<Figure size 432x288 with 1 Axes>"
      ]
     },
     "metadata": {
      "needs_background": "light"
     },
     "output_type": "display_data"
    }
   ],
   "source": [
    "x4_set, y4_set = scaled4.inverse_transform(x4_train_scaled), y4_train\n",
    "\n",
    "_x1, _x2= np.meshgrid(np.arange(start = x4_set[:, 0].min() - 10, stop = x4_set[:, 0].max() + 10, step = 0.2),\n",
    "                     np.arange(start = x4_set[:, 1].min() - 1000, stop = x4_set[:, 1].max() + 1000, step = 0.2))\n",
    "\n",
    "plt.contourf(_x1, _x2, clas4.predict(scaled4.transform(np.array([_x1.ravel(), _x2.ravel()]).T)).reshape(_x1.shape),\n",
    "             alpha = 0.75, cmap = ListedColormap(('brown', 'orange')))\n",
    "\n",
    "plt.xlim(0,12)\n",
    "plt.ylim(60,100)\n",
    "\n",
    "for i, j in enumerate(np.unique(y4_set)):\n",
    "    plt.scatter(x4_set[y4_set == j, 0], x4_set[y4_set == j, 1], c = ListedColormap(('brown', 'orange'))(i), label = j)\n",
    "    \n",
    "plt.title(\"Naive Bayes model on training set\")\n",
    "plt.xlabel(\"Time spent on lessons\")\n",
    "plt.ylabel(\"GPA\")\n",
    "plt.legend()\n",
    "plt.show()"
   ]
  },
  {
   "cell_type": "markdown",
   "metadata": {},
   "source": [
    "## Visualization of Naive Bayes model on test set"
   ]
  },
  {
   "cell_type": "code",
   "execution_count": 200,
   "metadata": {},
   "outputs": [
    {
     "name": "stderr",
     "output_type": "stream",
     "text": [
      "'c' argument looks like a single numeric RGB or RGBA sequence, which should be avoided as value-mapping will have precedence in case its length matches with 'x' & 'y'.  Please use a 2-D array with a single row if you really want to specify the same RGB or RGBA value for all points.\n",
      "'c' argument looks like a single numeric RGB or RGBA sequence, which should be avoided as value-mapping will have precedence in case its length matches with 'x' & 'y'.  Please use a 2-D array with a single row if you really want to specify the same RGB or RGBA value for all points.\n"
     ]
    },
    {
     "data": {
      "image/png": "[encoded data removed]",
      "text/plain": [
       "<Figure size 432x288 with 1 Axes>"
      ]
     },
     "metadata": {
      "needs_background": "light"
     },
     "output_type": "display_data"
    }
   ],
   "source": [
    "x4_set, y4_set = scaled4.inverse_transform(x4_test_scaled), y4_test\n",
    "\n",
    "_x1, _x2= np.meshgrid(np.arange(start = x4_set[:, 0].min() - 10, stop = x4_set[:, 0].max() + 10, step = 0.2),\n",
    "                     np.arange(start = x4_set[:, 1].min() - 1000, stop = x4_set[:, 1].max() + 1000, step = 0.2))\n",
    "\n",
    "plt.contourf(_x1, _x2, clas4.predict(scaled4.transform(np.array([_x1.ravel(), _x2.ravel()]).T)).reshape(_x1.shape),\n",
    "             alpha = 0.75, cmap = ListedColormap(('brown', 'orange')))\n",
    "\n",
    "plt.xlim(0,12)\n",
    "plt.ylim(60,100)\n",
    "\n",
    "for i, j in enumerate(np.unique(y4_set)):\n",
    "    plt.scatter(x4_set[y4_set == j, 0], x4_set[y4_set == j, 1], c = ListedColormap(('brown', 'orange'))(i), label = j)\n",
    "    \n",
    "plt.title(\"Naive Bayes model on test set\")\n",
    "plt.xlabel(\"Time spent on lessons\")\n",
    "plt.ylabel(\"GPA\")\n",
    "plt.legend()\n",
    "plt.show()"
   ]
  },
  {
   "cell_type": "markdown",
   "metadata": {},
   "source": [
    "# 6. Random Forest Classification"
   ]
  },
  {
   "cell_type": "code",
   "execution_count": 201,
   "metadata": {},
   "outputs": [
    {
     "data": {
      "text/html": [
       "<div>\n",
       "<style scoped>\n",
       "    .dataframe tbody tr th:only-of-type {\n",
       "        vertical-align: middle;\n",
       "    }\n",
       "\n",
       "    .dataframe tbody tr th {\n",
       "        vertical-align: top;\n",
       "    }\n",
       "\n",
       "    .dataframe thead th {\n",
       "        text-align: right;\n",
       "    }\n",
       "</style>\n",
       "<table border=\"1\" class=\"dataframe\">\n",
       "  <thead>\n",
       "    <tr style=\"text-align: right;\">\n",
       "      <th></th>\n",
       "      <th>time_lessons</th>\n",
       "      <th>GPA</th>\n",
       "      <th>attendance</th>\n",
       "    </tr>\n",
       "  </thead>\n",
       "  <tbody>\n",
       "    <tr>\n",
       "      <th>0</th>\n",
       "      <td>4.0</td>\n",
       "      <td>90.60</td>\n",
       "      <td>1</td>\n",
       "    </tr>\n",
       "    <tr>\n",
       "      <th>1</th>\n",
       "      <td>7.0</td>\n",
       "      <td>84.50</td>\n",
       "      <td>0</td>\n",
       "    </tr>\n",
       "    <tr>\n",
       "      <th>3</th>\n",
       "      <td>2.0</td>\n",
       "      <td>80.00</td>\n",
       "      <td>1</td>\n",
       "    </tr>\n",
       "    <tr>\n",
       "      <th>4</th>\n",
       "      <td>7.0</td>\n",
       "      <td>98.50</td>\n",
       "      <td>1</td>\n",
       "    </tr>\n",
       "    <tr>\n",
       "      <th>5</th>\n",
       "      <td>2.0</td>\n",
       "      <td>91.26</td>\n",
       "      <td>1</td>\n",
       "    </tr>\n",
       "    <tr>\n",
       "      <th>...</th>\n",
       "      <td>...</td>\n",
       "      <td>...</td>\n",
       "      <td>...</td>\n",
       "    </tr>\n",
       "    <tr>\n",
       "      <th>157</th>\n",
       "      <td>1.5</td>\n",
       "      <td>92.27</td>\n",
       "      <td>1</td>\n",
       "    </tr>\n",
       "    <tr>\n",
       "      <th>158</th>\n",
       "      <td>10.0</td>\n",
       "      <td>72.00</td>\n",
       "      <td>0</td>\n",
       "    </tr>\n",
       "    <tr>\n",
       "      <th>159</th>\n",
       "      <td>2.0</td>\n",
       "      <td>74.73</td>\n",
       "      <td>1</td>\n",
       "    </tr>\n",
       "    <tr>\n",
       "      <th>160</th>\n",
       "      <td>3.0</td>\n",
       "      <td>83.87</td>\n",
       "      <td>1</td>\n",
       "    </tr>\n",
       "    <tr>\n",
       "      <th>161</th>\n",
       "      <td>3.5</td>\n",
       "      <td>96.70</td>\n",
       "      <td>1</td>\n",
       "    </tr>\n",
       "  </tbody>\n",
       "</table>\n",
       "<p>157 rows × 3 columns</p>\n",
       "</div>"
      ],
      "text/plain": [
       "     time_lessons    GPA  attendance\n",
       "0             4.0  90.60           1\n",
       "1             7.0  84.50           0\n",
       "3             2.0  80.00           1\n",
       "4             7.0  98.50           1\n",
       "5             2.0  91.26           1\n",
       "..            ...    ...         ...\n",
       "157           1.5  92.27           1\n",
       "158          10.0  72.00           0\n",
       "159           2.0  74.73           1\n",
       "160           3.0  83.87           1\n",
       "161           3.5  96.70           1\n",
       "\n",
       "[157 rows x 3 columns]"
      ]
     },
     "execution_count": 201,
     "metadata": {},
     "output_type": "execute_result"
    }
   ],
   "source": [
    "df"
   ]
  },
  {
   "cell_type": "markdown",
   "metadata": {},
   "source": [
    "### Determining independent and dependent variables"
   ]
  },
  {
   "cell_type": "code",
   "execution_count": 202,
   "metadata": {},
   "outputs": [],
   "source": [
    "x_5=df.iloc[:,:-1].values\n",
    "y_5=df.iloc[:,-1].values"
   ]
  },
  {
   "cell_type": "code",
   "execution_count": 203,
   "metadata": {},
   "outputs": [
    {
     "data": {
      "text/plain": [
       "array([[ 4.  , 90.6 ],\n",
       "       [ 7.  , 84.5 ],\n",
       "       [ 2.  , 80.  ],\n",
       "       [ 7.  , 98.5 ],\n",
       "       [ 2.  , 91.26],\n",
       "       [ 2.5 , 80.  ],\n",
       "       [ 3.  , 86.  ],\n",
       "       [ 4.5 , 71.  ],\n",
       "       [ 4.5 , 82.  ],\n",
       "       [ 2.  , 85.33],\n",
       "       [ 8.5 , 95.56],\n",
       "       [ 1.5 , 92.3 ],\n",
       "       [ 2.5 , 72.  ],\n",
       "       [ 5.5 , 80.  ],\n",
       "       [ 3.5 , 75.7 ],\n",
       "       [ 1.5 , 88.83],\n",
       "       [ 6.  , 93.9 ],\n",
       "       [ 0.25, 90.11],\n",
       "       [ 0.3 , 47.  ],\n",
       "       [ 1.5 , 86.  ],\n",
       "       [ 2.  , 95.4 ],\n",
       "       [12.  , 89.5 ],\n",
       "       [12.5 , 80.  ],\n",
       "       [ 4.  , 76.63],\n",
       "       [ 2.  , 76.  ],\n",
       "       [ 1.5 , 91.73],\n",
       "       [ 9.  , 91.  ],\n",
       "       [ 2.5 , 80.  ],\n",
       "       [ 4.  , 77.  ],\n",
       "       [ 3.5 , 87.  ],\n",
       "       [ 1.5 , 81.  ],\n",
       "       [ 5.  , 84.  ],\n",
       "       [ 3.  , 94.2 ],\n",
       "       [ 1.5 , 80.  ],\n",
       "       [ 1.5 , 83.  ],\n",
       "       [ 4.5 , 77.2 ],\n",
       "       [ 5.  , 84.  ],\n",
       "       [ 2.  , 83.67],\n",
       "       [ 2.5 , 91.5 ],\n",
       "       [11.  , 77.  ],\n",
       "       [ 3.  , 87.  ],\n",
       "       [ 4.5 , 96.5 ],\n",
       "       [ 0.5 , 88.03],\n",
       "       [ 1.5 , 91.27],\n",
       "       [ 4.  , 91.  ],\n",
       "       [ 3.5 , 93.  ],\n",
       "       [ 6.5 , 90.  ],\n",
       "       [ 9.  , 84.03],\n",
       "       [ 1.5 , 92.  ],\n",
       "       [ 2.5 , 94.  ],\n",
       "       [ 3.  , 74.43],\n",
       "       [ 5.  , 96.4 ],\n",
       "       [ 8.  , 93.  ],\n",
       "       [ 2.5 , 97.3 ],\n",
       "       [ 8.  , 96.  ],\n",
       "       [ 4.5 , 90.5 ],\n",
       "       [ 8.  , 81.  ],\n",
       "       [ 3.5 , 80.  ],\n",
       "       [ 5.5 , 92.6 ],\n",
       "       [ 5.5 , 78.  ],\n",
       "       [ 4.  , 76.71],\n",
       "       [ 0.5 , 91.3 ],\n",
       "       [ 2.  , 91.33],\n",
       "       [ 7.5 , 74.  ],\n",
       "       [ 4.5 , 90.73],\n",
       "       [ 4.5 , 96.  ],\n",
       "       [ 2.5 , 76.  ],\n",
       "       [ 5.  , 91.4 ],\n",
       "       [ 8.5 , 81.  ],\n",
       "       [ 2.5 , 88.51],\n",
       "       [ 4.  , 89.  ],\n",
       "       [ 3.5 , 73.22],\n",
       "       [ 3.5 , 93.8 ],\n",
       "       [10.  , 92.85],\n",
       "       [ 1.5 , 94.8 ],\n",
       "       [ 4.5 , 80.  ],\n",
       "       [ 5.5 , 84.5 ],\n",
       "       [ 7.  , 79.47],\n",
       "       [ 2.5 , 87.72],\n",
       "       [ 3.5 , 93.33],\n",
       "       [ 2.  , 69.87],\n",
       "       [ 2.  , 83.  ],\n",
       "       [ 2.5 , 93.03],\n",
       "       [ 2.  , 75.83],\n",
       "       [11.5 , 88.  ],\n",
       "       [ 2.  , 77.5 ],\n",
       "       [ 8.  , 87.83],\n",
       "       [ 1.  , 91.5 ],\n",
       "       [ 4.  , 92.8 ],\n",
       "       [ 0.25, 93.  ],\n",
       "       [ 3.  , 92.2 ],\n",
       "       [ 3.5 , 78.2 ],\n",
       "       [12.5 , 70.  ],\n",
       "       [ 2.5 , 84.2 ],\n",
       "       [ 5.5 , 89.99],\n",
       "       [ 1.5 , 91.  ],\n",
       "       [ 3.  , 83.67],\n",
       "       [ 2.5 , 89.43],\n",
       "       [ 5.  , 84.  ],\n",
       "       [ 4.  , 91.33],\n",
       "       [ 3.  , 91.  ],\n",
       "       [ 3.  , 90.56],\n",
       "       [ 1.  , 89.  ],\n",
       "       [ 3.5 , 70.  ],\n",
       "       [ 4.5 , 89.  ],\n",
       "       [ 5.5 , 83.66],\n",
       "       [ 0.5 , 85.  ],\n",
       "       [ 9.  , 83.  ],\n",
       "       [ 5.5 , 82.  ],\n",
       "       [ 4.  , 76.71],\n",
       "       [ 0.5 , 83.  ],\n",
       "       [ 2.5 , 91.3 ],\n",
       "       [10.  , 85.27],\n",
       "       [ 5.  , 84.  ],\n",
       "       [ 3.  , 90.44],\n",
       "       [ 0.5 , 82.  ],\n",
       "       [10.5 , 98.67],\n",
       "       [ 4.  , 85.  ],\n",
       "       [ 8.  , 93.  ],\n",
       "       [ 0.5 , 80.  ],\n",
       "       [ 3.  , 81.  ],\n",
       "       [ 3.  , 90.5 ],\n",
       "       [ 0.5 , 84.  ],\n",
       "       [ 4.  , 83.63],\n",
       "       [ 5.  , 85.  ],\n",
       "       [ 3.  , 94.  ],\n",
       "       [ 0.5 , 82.  ],\n",
       "       [ 4.  , 82.  ],\n",
       "       [ 4.5 , 78.  ],\n",
       "       [ 2.  , 96.  ],\n",
       "       [ 6.  , 77.  ],\n",
       "       [ 3.  , 79.  ],\n",
       "       [ 4.  , 88.2 ],\n",
       "       [ 2.5 , 93.  ],\n",
       "       [ 6.  , 82.5 ],\n",
       "       [11.  , 98.6 ],\n",
       "       [ 2.  , 89.  ],\n",
       "       [ 1.5 , 87.  ],\n",
       "       [ 5.5 , 87.  ],\n",
       "       [ 1.5 , 92.6 ],\n",
       "       [ 0.5 , 83.  ],\n",
       "       [ 0.5 , 87.  ],\n",
       "       [ 1.5 , 93.  ],\n",
       "       [ 3.  , 80.3 ],\n",
       "       [ 1.5 , 71.  ],\n",
       "       [ 0.5 , 94.04],\n",
       "       [ 1.5 , 88.  ],\n",
       "       [ 2.5 , 95.  ],\n",
       "       [ 3.  , 93.17],\n",
       "       [ 5.  , 80.  ],\n",
       "       [ 2.  , 94.  ],\n",
       "       [ 2.  , 71.  ],\n",
       "       [ 1.5 , 92.27],\n",
       "       [10.  , 72.  ],\n",
       "       [ 2.  , 74.73],\n",
       "       [ 3.  , 83.87],\n",
       "       [ 3.5 , 96.7 ]])"
      ]
     },
     "execution_count": 203,
     "metadata": {},
     "output_type": "execute_result"
    }
   ],
   "source": [
    "x_5"
   ]
  },
  {
   "cell_type": "code",
   "execution_count": 204,
   "metadata": {},
   "outputs": [
    {
     "data": {
      "text/plain": [
       "array([1, 0, 1, 1, 1, 1, 1, 0, 0, 1, 1, 1, 1, 0, 1, 1, 1, 1, 1, 1, 1, 0,\n",
       "       0, 1, 1, 1, 1, 1, 0, 1, 1, 1, 1, 1, 1, 1, 0, 1, 1, 0, 1, 1, 1, 1,\n",
       "       1, 1, 1, 0, 1, 1, 1, 1, 1, 1, 1, 0, 0, 1, 1, 0, 0, 1, 1, 0, 0, 1,\n",
       "       1, 1, 1, 1, 1, 1, 1, 0, 1, 0, 0, 0, 1, 1, 1, 1, 1, 1, 0, 1, 0, 1,\n",
       "       1, 1, 1, 1, 0, 1, 0, 1, 1, 1, 0, 1, 1, 1, 1, 1, 1, 1, 1, 1, 0, 0,\n",
       "       1, 1, 0, 1, 1, 1, 1, 1, 1, 1, 1, 1, 1, 0, 1, 1, 1, 0, 0, 1, 1, 1,\n",
       "       0, 1, 0, 1, 1, 1, 1, 1, 1, 1, 1, 1, 1, 1, 1, 1, 1, 1, 1, 1, 1, 0,\n",
       "       1, 1, 1], dtype=int64)"
      ]
     },
     "execution_count": 204,
     "metadata": {},
     "output_type": "execute_result"
    }
   ],
   "source": [
    "y_5"
   ]
  },
  {
   "cell_type": "markdown",
   "metadata": {},
   "source": [
    "## Train and test split"
   ]
  },
  {
   "cell_type": "code",
   "execution_count": 205,
   "metadata": {},
   "outputs": [],
   "source": [
    "x5_train, x5_test, y5_train, y5_test = train_test_split(x_5, y_5, test_size = 0.2, random_state = 1)"
   ]
  },
  {
   "cell_type": "code",
   "execution_count": 206,
   "metadata": {},
   "outputs": [
    {
     "data": {
      "text/plain": [
       "array([[ 4.  , 85.  ],\n",
       "       [ 4.5 , 80.  ],\n",
       "       [ 5.  , 96.4 ],\n",
       "       [ 5.  , 84.  ],\n",
       "       [ 4.5 , 77.2 ],\n",
       "       [ 3.  , 87.  ],\n",
       "       [ 3.5 , 75.7 ],\n",
       "       [ 4.  , 76.71],\n",
       "       [ 2.5 , 97.3 ],\n",
       "       [ 2.5 , 95.  ],\n",
       "       [ 2.  , 71.  ],\n",
       "       [ 2.5 , 87.72],\n",
       "       [12.5 , 70.  ],\n",
       "       [ 3.  , 92.2 ],\n",
       "       [ 0.25, 93.  ],\n",
       "       [ 2.5 , 80.  ],\n",
       "       [ 4.  , 83.63],\n",
       "       [ 6.  , 93.9 ],\n",
       "       [ 1.5 , 86.  ],\n",
       "       [ 3.5 , 87.  ],\n",
       "       [ 8.  , 81.  ],\n",
       "       [ 2.  , 94.  ],\n",
       "       [ 3.  , 80.3 ],\n",
       "       [ 4.  , 91.33],\n",
       "       [ 2.5 , 84.2 ],\n",
       "       [ 2.5 , 88.51],\n",
       "       [ 5.5 , 89.99],\n",
       "       [ 0.5 , 88.03],\n",
       "       [ 0.5 , 84.  ],\n",
       "       [ 4.  , 91.  ],\n",
       "       [ 5.5 , 83.66],\n",
       "       [ 5.5 , 87.  ]])"
      ]
     },
     "execution_count": 206,
     "metadata": {},
     "output_type": "execute_result"
    }
   ],
   "source": [
    "x5_test"
   ]
  },
  {
   "cell_type": "code",
   "execution_count": 207,
   "metadata": {},
   "outputs": [
    {
     "data": {
      "text/plain": [
       "array([1, 0, 1, 1, 1, 1, 1, 0, 1, 1, 1, 1, 0, 1, 1, 1, 0, 1, 1, 1, 0, 1,\n",
       "       1, 1, 1, 1, 0, 1, 1, 1, 1, 1], dtype=int64)"
      ]
     },
     "execution_count": 207,
     "metadata": {},
     "output_type": "execute_result"
    }
   ],
   "source": [
    "y5_test"
   ]
  },
  {
   "cell_type": "markdown",
   "metadata": {},
   "source": [
    "## Scaling the data"
   ]
  },
  {
   "cell_type": "code",
   "execution_count": 208,
   "metadata": {},
   "outputs": [],
   "source": [
    "scaled5=StandardScaler()"
   ]
  },
  {
   "cell_type": "code",
   "execution_count": 209,
   "metadata": {},
   "outputs": [],
   "source": [
    "x5_train_scaled=scaled5.fit_transform(x5_train)\n",
    "x5_test_scaled=scaled5.transform(x5_test)"
   ]
  },
  {
   "cell_type": "code",
   "execution_count": 210,
   "metadata": {},
   "outputs": [
    {
     "data": {
      "text/plain": [
       "array([[ 0.01234152, -0.0940246 ],\n",
       "       [ 0.18567749, -0.72273298],\n",
       "       [ 0.35901346,  1.33943053],\n",
       "       [ 0.35901346, -0.21976627],\n",
       "       [ 0.18567749, -1.07480968],\n",
       "       [-0.33433042,  0.15745876],\n",
       "       [-0.16099445, -1.2634222 ],\n",
       "       [ 0.01234152, -1.1364231 ],\n",
       "       [-0.50766639,  1.45259804],\n",
       "       [-0.50766639,  1.16339218],\n",
       "       [-0.68100236, -1.85440808],\n",
       "       [-0.50766639,  0.24799277],\n",
       "       [ 2.95905303, -1.98014976],\n",
       "       [-0.33433042,  0.81131548],\n",
       "       [-1.28767826,  0.91190882],\n",
       "       [-0.50766639, -0.72273298],\n",
       "       [ 0.01234152, -0.26629069],\n",
       "       [ 0.70568541,  1.02507633],\n",
       "       [-0.85433834,  0.03171708],\n",
       "       [-0.16099445,  0.15745876],\n",
       "       [ 1.39902929, -0.59699131],\n",
       "       [-0.68100236,  1.0376505 ],\n",
       "       [-0.33433042, -0.68501048],\n",
       "       [ 0.01234152,  0.70192022],\n",
       "       [-0.50766639, -0.19461794],\n",
       "       [-0.50766639,  0.34732869],\n",
       "       [ 0.53234944,  0.53342637],\n",
       "       [-1.20101028,  0.28697269],\n",
       "       [-1.20101028, -0.21976627],\n",
       "       [ 0.01234152,  0.66042547],\n",
       "       [ 0.53234944, -0.26251844],\n",
       "       [ 0.53234944,  0.15745876]])"
      ]
     },
     "execution_count": 210,
     "metadata": {},
     "output_type": "execute_result"
    }
   ],
   "source": [
    "x5_test_scaled"
   ]
  },
  {
   "cell_type": "markdown",
   "metadata": {},
   "source": [
    "## Random Forest model on training set"
   ]
  },
  {
   "cell_type": "code",
   "execution_count": 211,
   "metadata": {},
   "outputs": [],
   "source": [
    "from sklearn.ensemble import RandomForestClassifier"
   ]
  },
  {
   "cell_type": "code",
   "execution_count": 212,
   "metadata": {},
   "outputs": [
    {
     "data": {
      "text/plain": [
       "RandomForestClassifier(bootstrap=True, class_weight=None, criterion='entropy',\n",
       "                       max_depth=None, max_features='auto', max_leaf_nodes=None,\n",
       "                       min_impurity_decrease=0.0, min_impurity_split=None,\n",
       "                       min_samples_leaf=1, min_samples_split=2,\n",
       "                       min_weight_fraction_leaf=0.0, n_estimators=10,\n",
       "                       n_jobs=None, oob_score=False, random_state=0, verbose=0,\n",
       "                       warm_start=False)"
      ]
     },
     "execution_count": 212,
     "metadata": {},
     "output_type": "execute_result"
    }
   ],
   "source": [
    "clas5 = RandomForestClassifier(n_estimators = 10, criterion = 'entropy', random_state = 0)\n",
    "clas5.fit(x5_train_scaled, y5_train)"
   ]
  },
  {
   "cell_type": "markdown",
   "metadata": {},
   "source": [
    "## Predicting training results"
   ]
  },
  {
   "cell_type": "code",
   "execution_count": 213,
   "metadata": {},
   "outputs": [
    {
     "data": {
      "text/plain": [
       "array([1], dtype=int64)"
      ]
     },
     "execution_count": 213,
     "metadata": {},
     "output_type": "execute_result"
    }
   ],
   "source": [
    "clas5.predict(([[7,100]]))"
   ]
  },
  {
   "cell_type": "code",
   "execution_count": 214,
   "metadata": {},
   "outputs": [
    {
     "data": {
      "text/plain": [
       "array([[1.05235735, 1.79210057]])"
      ]
     },
     "execution_count": 214,
     "metadata": {},
     "output_type": "execute_result"
    }
   ],
   "source": [
    "scaled5.transform(([[7,100]]))"
   ]
  },
  {
   "cell_type": "code",
   "execution_count": 215,
   "metadata": {},
   "outputs": [
    {
     "data": {
      "text/plain": [
       "array([1], dtype=int64)"
      ]
     },
     "execution_count": 215,
     "metadata": {},
     "output_type": "execute_result"
    }
   ],
   "source": [
    "clas5.predict(scaled5.transform(([[7,100]])))"
   ]
  },
  {
   "cell_type": "markdown",
   "metadata": {},
   "source": [
    "## Predicting test results"
   ]
  },
  {
   "cell_type": "code",
   "execution_count": 216,
   "metadata": {},
   "outputs": [],
   "source": [
    "y5_pred=clas5.predict(x5_test_scaled)"
   ]
  },
  {
   "cell_type": "code",
   "execution_count": 217,
   "metadata": {},
   "outputs": [
    {
     "data": {
      "text/plain": [
       "array([0, 0, 1, 0, 0, 1, 1, 0, 1, 1, 1, 1, 0, 1, 1, 1, 0, 1, 1, 1, 0, 1,\n",
       "       1, 1, 1, 1, 1, 1, 1, 1, 0, 0], dtype=int64)"
      ]
     },
     "execution_count": 217,
     "metadata": {},
     "output_type": "execute_result"
    }
   ],
   "source": [
    "y5_pred"
   ]
  },
  {
   "cell_type": "markdown",
   "metadata": {},
   "source": [
    "## Confusion Matrix"
   ]
  },
  {
   "cell_type": "code",
   "execution_count": 218,
   "metadata": {},
   "outputs": [
    {
     "data": {
      "text/plain": [
       "array([0, 0, 1, 0, 0, 1, 1, 0, 1, 1, 1, 1, 0, 1, 1, 1, 0, 1, 1, 1, 0, 1,\n",
       "       1, 1, 1, 1, 1, 1, 1, 1, 0, 0], dtype=int64)"
      ]
     },
     "execution_count": 218,
     "metadata": {},
     "output_type": "execute_result"
    }
   ],
   "source": [
    "y5_pred"
   ]
  },
  {
   "cell_type": "code",
   "execution_count": 219,
   "metadata": {},
   "outputs": [
    {
     "data": {
      "text/plain": [
       "array([1, 0, 1, 1, 1, 1, 1, 0, 1, 1, 1, 1, 0, 1, 1, 1, 0, 1, 1, 1, 0, 1,\n",
       "       1, 1, 1, 1, 0, 1, 1, 1, 1, 1], dtype=int64)"
      ]
     },
     "execution_count": 219,
     "metadata": {},
     "output_type": "execute_result"
    }
   ],
   "source": [
    "y5_test"
   ]
  },
  {
   "cell_type": "code",
   "execution_count": 220,
   "metadata": {},
   "outputs": [],
   "source": [
    "data5={\"Original values (y5_test)\": y5_test,\n",
    "      \"Predicted values (y5_pred)\": y5_pred}"
   ]
  },
  {
   "cell_type": "code",
   "execution_count": 221,
   "metadata": {},
   "outputs": [],
   "source": [
    "data5_=pd.DataFrame(data5)"
   ]
  },
  {
   "cell_type": "code",
   "execution_count": 222,
   "metadata": {},
   "outputs": [
    {
     "data": {
      "text/html": [
       "<div>\n",
       "<style scoped>\n",
       "    .dataframe tbody tr th:only-of-type {\n",
       "        vertical-align: middle;\n",
       "    }\n",
       "\n",
       "    .dataframe tbody tr th {\n",
       "        vertical-align: top;\n",
       "    }\n",
       "\n",
       "    .dataframe thead th {\n",
       "        text-align: right;\n",
       "    }\n",
       "</style>\n",
       "<table border=\"1\" class=\"dataframe\">\n",
       "  <thead>\n",
       "    <tr style=\"text-align: right;\">\n",
       "      <th></th>\n",
       "      <th>Original values (y5_test)</th>\n",
       "      <th>Predicted values (y5_pred)</th>\n",
       "    </tr>\n",
       "  </thead>\n",
       "  <tbody>\n",
       "    <tr>\n",
       "      <th>0</th>\n",
       "      <td>1</td>\n",
       "      <td>0</td>\n",
       "    </tr>\n",
       "    <tr>\n",
       "      <th>1</th>\n",
       "      <td>0</td>\n",
       "      <td>0</td>\n",
       "    </tr>\n",
       "    <tr>\n",
       "      <th>2</th>\n",
       "      <td>1</td>\n",
       "      <td>1</td>\n",
       "    </tr>\n",
       "    <tr>\n",
       "      <th>3</th>\n",
       "      <td>1</td>\n",
       "      <td>0</td>\n",
       "    </tr>\n",
       "    <tr>\n",
       "      <th>4</th>\n",
       "      <td>1</td>\n",
       "      <td>0</td>\n",
       "    </tr>\n",
       "    <tr>\n",
       "      <th>5</th>\n",
       "      <td>1</td>\n",
       "      <td>1</td>\n",
       "    </tr>\n",
       "    <tr>\n",
       "      <th>6</th>\n",
       "      <td>1</td>\n",
       "      <td>1</td>\n",
       "    </tr>\n",
       "    <tr>\n",
       "      <th>7</th>\n",
       "      <td>0</td>\n",
       "      <td>0</td>\n",
       "    </tr>\n",
       "    <tr>\n",
       "      <th>8</th>\n",
       "      <td>1</td>\n",
       "      <td>1</td>\n",
       "    </tr>\n",
       "    <tr>\n",
       "      <th>9</th>\n",
       "      <td>1</td>\n",
       "      <td>1</td>\n",
       "    </tr>\n",
       "    <tr>\n",
       "      <th>10</th>\n",
       "      <td>1</td>\n",
       "      <td>1</td>\n",
       "    </tr>\n",
       "    <tr>\n",
       "      <th>11</th>\n",
       "      <td>1</td>\n",
       "      <td>1</td>\n",
       "    </tr>\n",
       "    <tr>\n",
       "      <th>12</th>\n",
       "      <td>0</td>\n",
       "      <td>0</td>\n",
       "    </tr>\n",
       "    <tr>\n",
       "      <th>13</th>\n",
       "      <td>1</td>\n",
       "      <td>1</td>\n",
       "    </tr>\n",
       "    <tr>\n",
       "      <th>14</th>\n",
       "      <td>1</td>\n",
       "      <td>1</td>\n",
       "    </tr>\n",
       "    <tr>\n",
       "      <th>15</th>\n",
       "      <td>1</td>\n",
       "      <td>1</td>\n",
       "    </tr>\n",
       "    <tr>\n",
       "      <th>16</th>\n",
       "      <td>0</td>\n",
       "      <td>0</td>\n",
       "    </tr>\n",
       "    <tr>\n",
       "      <th>17</th>\n",
       "      <td>1</td>\n",
       "      <td>1</td>\n",
       "    </tr>\n",
       "    <tr>\n",
       "      <th>18</th>\n",
       "      <td>1</td>\n",
       "      <td>1</td>\n",
       "    </tr>\n",
       "    <tr>\n",
       "      <th>19</th>\n",
       "      <td>1</td>\n",
       "      <td>1</td>\n",
       "    </tr>\n",
       "    <tr>\n",
       "      <th>20</th>\n",
       "      <td>0</td>\n",
       "      <td>0</td>\n",
       "    </tr>\n",
       "    <tr>\n",
       "      <th>21</th>\n",
       "      <td>1</td>\n",
       "      <td>1</td>\n",
       "    </tr>\n",
       "    <tr>\n",
       "      <th>22</th>\n",
       "      <td>1</td>\n",
       "      <td>1</td>\n",
       "    </tr>\n",
       "    <tr>\n",
       "      <th>23</th>\n",
       "      <td>1</td>\n",
       "      <td>1</td>\n",
       "    </tr>\n",
       "    <tr>\n",
       "      <th>24</th>\n",
       "      <td>1</td>\n",
       "      <td>1</td>\n",
       "    </tr>\n",
       "    <tr>\n",
       "      <th>25</th>\n",
       "      <td>1</td>\n",
       "      <td>1</td>\n",
       "    </tr>\n",
       "    <tr>\n",
       "      <th>26</th>\n",
       "      <td>0</td>\n",
       "      <td>1</td>\n",
       "    </tr>\n",
       "    <tr>\n",
       "      <th>27</th>\n",
       "      <td>1</td>\n",
       "      <td>1</td>\n",
       "    </tr>\n",
       "    <tr>\n",
       "      <th>28</th>\n",
       "      <td>1</td>\n",
       "      <td>1</td>\n",
       "    </tr>\n",
       "    <tr>\n",
       "      <th>29</th>\n",
       "      <td>1</td>\n",
       "      <td>1</td>\n",
       "    </tr>\n",
       "    <tr>\n",
       "      <th>30</th>\n",
       "      <td>1</td>\n",
       "      <td>0</td>\n",
       "    </tr>\n",
       "    <tr>\n",
       "      <th>31</th>\n",
       "      <td>1</td>\n",
       "      <td>0</td>\n",
       "    </tr>\n",
       "  </tbody>\n",
       "</table>\n",
       "</div>"
      ],
      "text/plain": [
       "    Original values (y5_test)  Predicted values (y5_pred)\n",
       "0                           1                           0\n",
       "1                           0                           0\n",
       "2                           1                           1\n",
       "3                           1                           0\n",
       "4                           1                           0\n",
       "5                           1                           1\n",
       "6                           1                           1\n",
       "7                           0                           0\n",
       "8                           1                           1\n",
       "9                           1                           1\n",
       "10                          1                           1\n",
       "11                          1                           1\n",
       "12                          0                           0\n",
       "13                          1                           1\n",
       "14                          1                           1\n",
       "15                          1                           1\n",
       "16                          0                           0\n",
       "17                          1                           1\n",
       "18                          1                           1\n",
       "19                          1                           1\n",
       "20                          0                           0\n",
       "21                          1                           1\n",
       "22                          1                           1\n",
       "23                          1                           1\n",
       "24                          1                           1\n",
       "25                          1                           1\n",
       "26                          0                           1\n",
       "27                          1                           1\n",
       "28                          1                           1\n",
       "29                          1                           1\n",
       "30                          1                           0\n",
       "31                          1                           0"
      ]
     },
     "execution_count": 222,
     "metadata": {},
     "output_type": "execute_result"
    }
   ],
   "source": [
    "data5_"
   ]
  },
  {
   "cell_type": "code",
   "execution_count": 223,
   "metadata": {},
   "outputs": [],
   "source": [
    "confusion_matrix5=pd.crosstab(data5_['Original values (y5_test)'],data5_['Predicted values (y5_pred)'],\n",
    "                            rownames=['Original values'], colnames=['Predicted values'])"
   ]
  },
  {
   "cell_type": "code",
   "execution_count": 224,
   "metadata": {},
   "outputs": [
    {
     "data": {
      "text/html": [
       "<div>\n",
       "<style scoped>\n",
       "    .dataframe tbody tr th:only-of-type {\n",
       "        vertical-align: middle;\n",
       "    }\n",
       "\n",
       "    .dataframe tbody tr th {\n",
       "        vertical-align: top;\n",
       "    }\n",
       "\n",
       "    .dataframe thead th {\n",
       "        text-align: right;\n",
       "    }\n",
       "</style>\n",
       "<table border=\"1\" class=\"dataframe\">\n",
       "  <thead>\n",
       "    <tr style=\"text-align: right;\">\n",
       "      <th>Predicted values</th>\n",
       "      <th>0</th>\n",
       "      <th>1</th>\n",
       "    </tr>\n",
       "    <tr>\n",
       "      <th>Original values</th>\n",
       "      <th></th>\n",
       "      <th></th>\n",
       "    </tr>\n",
       "  </thead>\n",
       "  <tbody>\n",
       "    <tr>\n",
       "      <th>0</th>\n",
       "      <td>5</td>\n",
       "      <td>1</td>\n",
       "    </tr>\n",
       "    <tr>\n",
       "      <th>1</th>\n",
       "      <td>5</td>\n",
       "      <td>21</td>\n",
       "    </tr>\n",
       "  </tbody>\n",
       "</table>\n",
       "</div>"
      ],
      "text/plain": [
       "Predicted values  0   1\n",
       "Original values        \n",
       "0                 5   1\n",
       "1                 5  21"
      ]
     },
     "execution_count": 224,
     "metadata": {},
     "output_type": "execute_result"
    }
   ],
   "source": [
    "confusion_matrix5"
   ]
  },
  {
   "cell_type": "code",
   "execution_count": 225,
   "metadata": {},
   "outputs": [
    {
     "data": {
      "text/plain": [
       "<matplotlib.axes._subplots.AxesSubplot at 0xbcb1d30>"
      ]
     },
     "execution_count": 225,
     "metadata": {},
     "output_type": "execute_result"
    },
    {
     "data": {
      "image/png": "[encoded data removed]",
      "text/plain": [
       "<Figure size 432x288 with 2 Axes>"
      ]
     },
     "metadata": {
      "needs_background": "light"
     },
     "output_type": "display_data"
    }
   ],
   "source": [
    "sn.heatmap(confusion_matrix5, annot=True)"
   ]
  },
  {
   "cell_type": "code",
   "execution_count": 226,
   "metadata": {},
   "outputs": [
    {
     "data": {
      "text/plain": [
       "10"
      ]
     },
     "execution_count": 226,
     "metadata": {},
     "output_type": "execute_result"
    }
   ],
   "source": [
    "len(y5_pred[y5_pred==0])"
   ]
  },
  {
   "cell_type": "code",
   "execution_count": 227,
   "metadata": {},
   "outputs": [
    {
     "data": {
      "text/plain": [
       "22"
      ]
     },
     "execution_count": 227,
     "metadata": {},
     "output_type": "execute_result"
    }
   ],
   "source": [
    "len(y5_pred[y5_pred==1])"
   ]
  },
  {
   "cell_type": "markdown",
   "metadata": {},
   "source": [
    "## Accuracy Score"
   ]
  },
  {
   "cell_type": "code",
   "execution_count": 228,
   "metadata": {},
   "outputs": [
    {
     "name": "stdout",
     "output_type": "stream",
     "text": [
      "Accuracy Score:  0.8125\n"
     ]
    }
   ],
   "source": [
    "print(\"Accuracy Score: \",accuracy_score(y5_test,y5_pred))"
   ]
  },
  {
   "cell_type": "markdown",
   "metadata": {},
   "source": [
    "## Visualization of Random Forest model on training set"
   ]
  },
  {
   "cell_type": "code",
   "execution_count": 229,
   "metadata": {},
   "outputs": [
    {
     "name": "stderr",
     "output_type": "stream",
     "text": [
      "'c' argument looks like a single numeric RGB or RGBA sequence, which should be avoided as value-mapping will have precedence in case its length matches with 'x' & 'y'.  Please use a 2-D array with a single row if you really want to specify the same RGB or RGBA value for all points.\n",
      "'c' argument looks like a single numeric RGB or RGBA sequence, which should be avoided as value-mapping will have precedence in case its length matches with 'x' & 'y'.  Please use a 2-D array with a single row if you really want to specify the same RGB or RGBA value for all points.\n"
     ]
    },
    {
     "data": {
      "image/png": "[encoded data removed]",
      "text/plain": [
       "<Figure size 432x288 with 1 Axes>"
      ]
     },
     "metadata": {
      "needs_background": "light"
     },
     "output_type": "display_data"
    }
   ],
   "source": [
    "x5_set, y5_set = scaled5.inverse_transform(x5_train_scaled), y5_train\n",
    "\n",
    "__x1, __x2 = np.meshgrid(np.arange(start = x5_set[:, 0].min() - 10, stop = x5_set[:, 0].max() + 10, step = 0.2),\n",
    "                     np.arange(start = x5_set[:, 1].min() - 1000, stop = x5_set[:, 1].max() + 1000, step = 0.2))\n",
    "\n",
    "plt.contourf(__x1, __x2, clas5.predict(scaled5.transform(np.array([__x1.ravel(), __x2.ravel()]).T)).reshape(__x1.shape),\n",
    "             alpha = 0.75, cmap = ListedColormap(('pink', 'grey')))\n",
    "\n",
    "plt.xlim(0,12)\n",
    "plt.ylim(60,100)\n",
    "\n",
    "for i, j in enumerate(np.unique(y5_set)):\n",
    "    plt.scatter(x5_set[y5_set == j, 0], x5_set[y5_set == j, 1], c = ListedColormap(('pink', 'grey'))(i), label = j)\n",
    "    \n",
    "plt.title(\"Random Forest model on training set\")\n",
    "plt.xlabel(\"Time spent on lessons\")\n",
    "plt.ylabel(\"GPA\")\n",
    "plt.legend()\n",
    "plt.show()"
   ]
  },
  {
   "cell_type": "markdown",
   "metadata": {},
   "source": [
    "## Visualization of Random Forest model on test set"
   ]
  },
  {
   "cell_type": "code",
   "execution_count": 230,
   "metadata": {},
   "outputs": [
    {
     "name": "stderr",
     "output_type": "stream",
     "text": [
      "'c' argument looks like a single numeric RGB or RGBA sequence, which should be avoided as value-mapping will have precedence in case its length matches with 'x' & 'y'.  Please use a 2-D array with a single row if you really want to specify the same RGB or RGBA value for all points.\n",
      "'c' argument looks like a single numeric RGB or RGBA sequence, which should be avoided as value-mapping will have precedence in case its length matches with 'x' & 'y'.  Please use a 2-D array with a single row if you really want to specify the same RGB or RGBA value for all points.\n"
     ]
    },
    {
     "data": {
      "image/png": "[encoded data removed]",
      "text/plain": [
       "<Figure size 432x288 with 1 Axes>"
      ]
     },
     "metadata": {
      "needs_background": "light"
     },
     "output_type": "display_data"
    }
   ],
   "source": [
    "x5_set, y5_set = scaled5.inverse_transform(x5_test_scaled), y5_test\n",
    "\n",
    "__x1, __x2 = np.meshgrid(np.arange(start = x5_set[:, 0].min() - 10, stop = x5_set[:, 0].max() + 10, step = 0.2),\n",
    "                     np.arange(start = x5_set[:, 1].min() - 1000, stop = x5_set[:, 1].max() + 1000, step = 0.2))\n",
    "\n",
    "plt.contourf(__x1, __x2, clas5.predict(scaled5.transform(np.array([__x1.ravel(), __x2.ravel()]).T)).reshape(__x1.shape),\n",
    "             alpha = 0.75, cmap = ListedColormap(('pink', 'grey')))\n",
    "\n",
    "plt.xlim(0,12)\n",
    "plt.ylim(60,100)\n",
    "\n",
    "for i, j in enumerate(np.unique(y5_set)):\n",
    "    plt.scatter(x5_set[y5_set == j, 0], x5_set[y5_set == j, 1], c = ListedColormap(('pink', 'grey'))(i), label = j)\n",
    "    \n",
    "plt.title(\"Random Forest model on test set\")\n",
    "plt.xlabel(\"Time spent on lessons\")\n",
    "plt.ylabel(\"GPA\")\n",
    "plt.legend()\n",
    "plt.show()"
   ]
  },
  {
   "cell_type": "markdown",
   "metadata": {},
   "source": [
    "# 7. Decision Tree Classification"
   ]
  },
  {
   "cell_type": "code",
   "execution_count": 231,
   "metadata": {},
   "outputs": [
    {
     "data": {
      "text/html": [
       "<div>\n",
       "<style scoped>\n",
       "    .dataframe tbody tr th:only-of-type {\n",
       "        vertical-align: middle;\n",
       "    }\n",
       "\n",
       "    .dataframe tbody tr th {\n",
       "        vertical-align: top;\n",
       "    }\n",
       "\n",
       "    .dataframe thead th {\n",
       "        text-align: right;\n",
       "    }\n",
       "</style>\n",
       "<table border=\"1\" class=\"dataframe\">\n",
       "  <thead>\n",
       "    <tr style=\"text-align: right;\">\n",
       "      <th></th>\n",
       "      <th>time_lessons</th>\n",
       "      <th>GPA</th>\n",
       "      <th>attendance</th>\n",
       "    </tr>\n",
       "  </thead>\n",
       "  <tbody>\n",
       "    <tr>\n",
       "      <th>0</th>\n",
       "      <td>4.0</td>\n",
       "      <td>90.60</td>\n",
       "      <td>1</td>\n",
       "    </tr>\n",
       "    <tr>\n",
       "      <th>1</th>\n",
       "      <td>7.0</td>\n",
       "      <td>84.50</td>\n",
       "      <td>0</td>\n",
       "    </tr>\n",
       "    <tr>\n",
       "      <th>3</th>\n",
       "      <td>2.0</td>\n",
       "      <td>80.00</td>\n",
       "      <td>1</td>\n",
       "    </tr>\n",
       "    <tr>\n",
       "      <th>4</th>\n",
       "      <td>7.0</td>\n",
       "      <td>98.50</td>\n",
       "      <td>1</td>\n",
       "    </tr>\n",
       "    <tr>\n",
       "      <th>5</th>\n",
       "      <td>2.0</td>\n",
       "      <td>91.26</td>\n",
       "      <td>1</td>\n",
       "    </tr>\n",
       "    <tr>\n",
       "      <th>...</th>\n",
       "      <td>...</td>\n",
       "      <td>...</td>\n",
       "      <td>...</td>\n",
       "    </tr>\n",
       "    <tr>\n",
       "      <th>157</th>\n",
       "      <td>1.5</td>\n",
       "      <td>92.27</td>\n",
       "      <td>1</td>\n",
       "    </tr>\n",
       "    <tr>\n",
       "      <th>158</th>\n",
       "      <td>10.0</td>\n",
       "      <td>72.00</td>\n",
       "      <td>0</td>\n",
       "    </tr>\n",
       "    <tr>\n",
       "      <th>159</th>\n",
       "      <td>2.0</td>\n",
       "      <td>74.73</td>\n",
       "      <td>1</td>\n",
       "    </tr>\n",
       "    <tr>\n",
       "      <th>160</th>\n",
       "      <td>3.0</td>\n",
       "      <td>83.87</td>\n",
       "      <td>1</td>\n",
       "    </tr>\n",
       "    <tr>\n",
       "      <th>161</th>\n",
       "      <td>3.5</td>\n",
       "      <td>96.70</td>\n",
       "      <td>1</td>\n",
       "    </tr>\n",
       "  </tbody>\n",
       "</table>\n",
       "<p>157 rows × 3 columns</p>\n",
       "</div>"
      ],
      "text/plain": [
       "     time_lessons    GPA  attendance\n",
       "0             4.0  90.60           1\n",
       "1             7.0  84.50           0\n",
       "3             2.0  80.00           1\n",
       "4             7.0  98.50           1\n",
       "5             2.0  91.26           1\n",
       "..            ...    ...         ...\n",
       "157           1.5  92.27           1\n",
       "158          10.0  72.00           0\n",
       "159           2.0  74.73           1\n",
       "160           3.0  83.87           1\n",
       "161           3.5  96.70           1\n",
       "\n",
       "[157 rows x 3 columns]"
      ]
     },
     "execution_count": 231,
     "metadata": {},
     "output_type": "execute_result"
    }
   ],
   "source": [
    "df"
   ]
  },
  {
   "cell_type": "markdown",
   "metadata": {},
   "source": [
    "### Determining independent and dependent variables"
   ]
  },
  {
   "cell_type": "code",
   "execution_count": 232,
   "metadata": {},
   "outputs": [],
   "source": [
    "x_6=df.iloc[:,:-1].values\n",
    "y_6=df.iloc[:,-1].values"
   ]
  },
  {
   "cell_type": "code",
   "execution_count": 233,
   "metadata": {},
   "outputs": [
    {
     "data": {
      "text/plain": [
       "array([[ 4.  , 90.6 ],\n",
       "       [ 7.  , 84.5 ],\n",
       "       [ 2.  , 80.  ],\n",
       "       [ 7.  , 98.5 ],\n",
       "       [ 2.  , 91.26],\n",
       "       [ 2.5 , 80.  ],\n",
       "       [ 3.  , 86.  ],\n",
       "       [ 4.5 , 71.  ],\n",
       "       [ 4.5 , 82.  ],\n",
       "       [ 2.  , 85.33],\n",
       "       [ 8.5 , 95.56],\n",
       "       [ 1.5 , 92.3 ],\n",
       "       [ 2.5 , 72.  ],\n",
       "       [ 5.5 , 80.  ],\n",
       "       [ 3.5 , 75.7 ],\n",
       "       [ 1.5 , 88.83],\n",
       "       [ 6.  , 93.9 ],\n",
       "       [ 0.25, 90.11],\n",
       "       [ 0.3 , 47.  ],\n",
       "       [ 1.5 , 86.  ],\n",
       "       [ 2.  , 95.4 ],\n",
       "       [12.  , 89.5 ],\n",
       "       [12.5 , 80.  ],\n",
       "       [ 4.  , 76.63],\n",
       "       [ 2.  , 76.  ],\n",
       "       [ 1.5 , 91.73],\n",
       "       [ 9.  , 91.  ],\n",
       "       [ 2.5 , 80.  ],\n",
       "       [ 4.  , 77.  ],\n",
       "       [ 3.5 , 87.  ],\n",
       "       [ 1.5 , 81.  ],\n",
       "       [ 5.  , 84.  ],\n",
       "       [ 3.  , 94.2 ],\n",
       "       [ 1.5 , 80.  ],\n",
       "       [ 1.5 , 83.  ],\n",
       "       [ 4.5 , 77.2 ],\n",
       "       [ 5.  , 84.  ],\n",
       "       [ 2.  , 83.67],\n",
       "       [ 2.5 , 91.5 ],\n",
       "       [11.  , 77.  ],\n",
       "       [ 3.  , 87.  ],\n",
       "       [ 4.5 , 96.5 ],\n",
       "       [ 0.5 , 88.03],\n",
       "       [ 1.5 , 91.27],\n",
       "       [ 4.  , 91.  ],\n",
       "       [ 3.5 , 93.  ],\n",
       "       [ 6.5 , 90.  ],\n",
       "       [ 9.  , 84.03],\n",
       "       [ 1.5 , 92.  ],\n",
       "       [ 2.5 , 94.  ],\n",
       "       [ 3.  , 74.43],\n",
       "       [ 5.  , 96.4 ],\n",
       "       [ 8.  , 93.  ],\n",
       "       [ 2.5 , 97.3 ],\n",
       "       [ 8.  , 96.  ],\n",
       "       [ 4.5 , 90.5 ],\n",
       "       [ 8.  , 81.  ],\n",
       "       [ 3.5 , 80.  ],\n",
       "       [ 5.5 , 92.6 ],\n",
       "       [ 5.5 , 78.  ],\n",
       "       [ 4.  , 76.71],\n",
       "       [ 0.5 , 91.3 ],\n",
       "       [ 2.  , 91.33],\n",
       "       [ 7.5 , 74.  ],\n",
       "       [ 4.5 , 90.73],\n",
       "       [ 4.5 , 96.  ],\n",
       "       [ 2.5 , 76.  ],\n",
       "       [ 5.  , 91.4 ],\n",
       "       [ 8.5 , 81.  ],\n",
       "       [ 2.5 , 88.51],\n",
       "       [ 4.  , 89.  ],\n",
       "       [ 3.5 , 73.22],\n",
       "       [ 3.5 , 93.8 ],\n",
       "       [10.  , 92.85],\n",
       "       [ 1.5 , 94.8 ],\n",
       "       [ 4.5 , 80.  ],\n",
       "       [ 5.5 , 84.5 ],\n",
       "       [ 7.  , 79.47],\n",
       "       [ 2.5 , 87.72],\n",
       "       [ 3.5 , 93.33],\n",
       "       [ 2.  , 69.87],\n",
       "       [ 2.  , 83.  ],\n",
       "       [ 2.5 , 93.03],\n",
       "       [ 2.  , 75.83],\n",
       "       [11.5 , 88.  ],\n",
       "       [ 2.  , 77.5 ],\n",
       "       [ 8.  , 87.83],\n",
       "       [ 1.  , 91.5 ],\n",
       "       [ 4.  , 92.8 ],\n",
       "       [ 0.25, 93.  ],\n",
       "       [ 3.  , 92.2 ],\n",
       "       [ 3.5 , 78.2 ],\n",
       "       [12.5 , 70.  ],\n",
       "       [ 2.5 , 84.2 ],\n",
       "       [ 5.5 , 89.99],\n",
       "       [ 1.5 , 91.  ],\n",
       "       [ 3.  , 83.67],\n",
       "       [ 2.5 , 89.43],\n",
       "       [ 5.  , 84.  ],\n",
       "       [ 4.  , 91.33],\n",
       "       [ 3.  , 91.  ],\n",
       "       [ 3.  , 90.56],\n",
       "       [ 1.  , 89.  ],\n",
       "       [ 3.5 , 70.  ],\n",
       "       [ 4.5 , 89.  ],\n",
       "       [ 5.5 , 83.66],\n",
       "       [ 0.5 , 85.  ],\n",
       "       [ 9.  , 83.  ],\n",
       "       [ 5.5 , 82.  ],\n",
       "       [ 4.  , 76.71],\n",
       "       [ 0.5 , 83.  ],\n",
       "       [ 2.5 , 91.3 ],\n",
       "       [10.  , 85.27],\n",
       "       [ 5.  , 84.  ],\n",
       "       [ 3.  , 90.44],\n",
       "       [ 0.5 , 82.  ],\n",
       "       [10.5 , 98.67],\n",
       "       [ 4.  , 85.  ],\n",
       "       [ 8.  , 93.  ],\n",
       "       [ 0.5 , 80.  ],\n",
       "       [ 3.  , 81.  ],\n",
       "       [ 3.  , 90.5 ],\n",
       "       [ 0.5 , 84.  ],\n",
       "       [ 4.  , 83.63],\n",
       "       [ 5.  , 85.  ],\n",
       "       [ 3.  , 94.  ],\n",
       "       [ 0.5 , 82.  ],\n",
       "       [ 4.  , 82.  ],\n",
       "       [ 4.5 , 78.  ],\n",
       "       [ 2.  , 96.  ],\n",
       "       [ 6.  , 77.  ],\n",
       "       [ 3.  , 79.  ],\n",
       "       [ 4.  , 88.2 ],\n",
       "       [ 2.5 , 93.  ],\n",
       "       [ 6.  , 82.5 ],\n",
       "       [11.  , 98.6 ],\n",
       "       [ 2.  , 89.  ],\n",
       "       [ 1.5 , 87.  ],\n",
       "       [ 5.5 , 87.  ],\n",
       "       [ 1.5 , 92.6 ],\n",
       "       [ 0.5 , 83.  ],\n",
       "       [ 0.5 , 87.  ],\n",
       "       [ 1.5 , 93.  ],\n",
       "       [ 3.  , 80.3 ],\n",
       "       [ 1.5 , 71.  ],\n",
       "       [ 0.5 , 94.04],\n",
       "       [ 1.5 , 88.  ],\n",
       "       [ 2.5 , 95.  ],\n",
       "       [ 3.  , 93.17],\n",
       "       [ 5.  , 80.  ],\n",
       "       [ 2.  , 94.  ],\n",
       "       [ 2.  , 71.  ],\n",
       "       [ 1.5 , 92.27],\n",
       "       [10.  , 72.  ],\n",
       "       [ 2.  , 74.73],\n",
       "       [ 3.  , 83.87],\n",
       "       [ 3.5 , 96.7 ]])"
      ]
     },
     "execution_count": 233,
     "metadata": {},
     "output_type": "execute_result"
    }
   ],
   "source": [
    "x_6"
   ]
  },
  {
   "cell_type": "code",
   "execution_count": 234,
   "metadata": {},
   "outputs": [
    {
     "data": {
      "text/plain": [
       "array([1, 0, 1, 1, 1, 1, 1, 0, 0, 1, 1, 1, 1, 0, 1, 1, 1, 1, 1, 1, 1, 0,\n",
       "       0, 1, 1, 1, 1, 1, 0, 1, 1, 1, 1, 1, 1, 1, 0, 1, 1, 0, 1, 1, 1, 1,\n",
       "       1, 1, 1, 0, 1, 1, 1, 1, 1, 1, 1, 0, 0, 1, 1, 0, 0, 1, 1, 0, 0, 1,\n",
       "       1, 1, 1, 1, 1, 1, 1, 0, 1, 0, 0, 0, 1, 1, 1, 1, 1, 1, 0, 1, 0, 1,\n",
       "       1, 1, 1, 1, 0, 1, 0, 1, 1, 1, 0, 1, 1, 1, 1, 1, 1, 1, 1, 1, 0, 0,\n",
       "       1, 1, 0, 1, 1, 1, 1, 1, 1, 1, 1, 1, 1, 0, 1, 1, 1, 0, 0, 1, 1, 1,\n",
       "       0, 1, 0, 1, 1, 1, 1, 1, 1, 1, 1, 1, 1, 1, 1, 1, 1, 1, 1, 1, 1, 0,\n",
       "       1, 1, 1], dtype=int64)"
      ]
     },
     "execution_count": 234,
     "metadata": {},
     "output_type": "execute_result"
    }
   ],
   "source": [
    "y_6"
   ]
  },
  {
   "cell_type": "markdown",
   "metadata": {},
   "source": [
    "## Train and test split"
   ]
  },
  {
   "cell_type": "code",
   "execution_count": 235,
   "metadata": {},
   "outputs": [],
   "source": [
    "x6_train, x6_test, y6_train, y6_test = train_test_split(x_6, y_6, test_size = 0.2, random_state = 1)"
   ]
  },
  {
   "cell_type": "code",
   "execution_count": 236,
   "metadata": {},
   "outputs": [
    {
     "data": {
      "text/plain": [
       "array([[ 2.5 , 76.  ],\n",
       "       [ 1.5 , 80.  ],\n",
       "       [ 0.5 , 87.  ],\n",
       "       [ 5.5 , 78.  ],\n",
       "       [ 4.  , 82.  ],\n",
       "       [ 3.  , 79.  ],\n",
       "       [ 5.  , 80.  ],\n",
       "       [ 3.  , 94.  ],\n",
       "       [ 5.5 , 92.6 ],\n",
       "       [ 4.  , 77.  ],\n",
       "       [ 5.  , 85.  ],\n",
       "       [ 2.5 , 91.3 ],\n",
       "       [ 8.  , 96.  ],\n",
       "       [ 0.25, 90.11],\n",
       "       [10.  , 92.85],\n",
       "       [ 4.5 , 89.  ],\n",
       "       [11.  , 98.6 ],\n",
       "       [ 7.  , 79.47],\n",
       "       [ 0.3 , 47.  ],\n",
       "       [ 1.5 , 92.  ],\n",
       "       [ 2.  , 91.26],\n",
       "       [ 3.5 , 93.  ],\n",
       "       [ 1.  , 89.  ],\n",
       "       [11.  , 77.  ],\n",
       "       [ 5.  , 84.  ],\n",
       "       [ 3.  , 81.  ],\n",
       "       [ 0.5 , 94.04],\n",
       "       [ 0.5 , 83.  ],\n",
       "       [ 2.5 , 72.  ],\n",
       "       [ 1.5 , 92.3 ],\n",
       "       [ 2.  , 77.5 ],\n",
       "       [ 0.5 , 82.  ],\n",
       "       [ 2.5 , 89.43],\n",
       "       [10.5 , 98.67],\n",
       "       [ 2.  , 80.  ],\n",
       "       [ 9.  , 83.  ],\n",
       "       [ 3.  , 86.  ],\n",
       "       [ 4.  , 90.6 ],\n",
       "       [ 5.  , 84.  ],\n",
       "       [ 4.5 , 96.  ],\n",
       "       [ 4.5 , 90.5 ],\n",
       "       [ 2.  , 83.  ],\n",
       "       [11.5 , 88.  ],\n",
       "       [ 6.5 , 90.  ],\n",
       "       [ 2.  , 91.33],\n",
       "       [ 1.5 , 94.8 ],\n",
       "       [ 0.5 , 80.  ],\n",
       "       [ 1.5 , 91.  ],\n",
       "       [ 3.5 , 70.  ],\n",
       "       [ 3.5 , 78.2 ],\n",
       "       [ 8.5 , 95.56],\n",
       "       [ 1.5 , 83.  ],\n",
       "       [ 3.  , 94.2 ],\n",
       "       [ 6.  , 77.  ],\n",
       "       [ 2.5 , 91.5 ],\n",
       "       [ 2.  , 75.83],\n",
       "       [ 3.  , 90.44],\n",
       "       [ 3.5 , 96.7 ],\n",
       "       [ 2.5 , 80.  ],\n",
       "       [ 4.  , 76.63],\n",
       "       [ 5.  , 91.4 ],\n",
       "       [ 2.  , 85.33],\n",
       "       [ 1.5 , 92.27],\n",
       "       [ 3.  , 91.  ],\n",
       "       [ 5.5 , 82.  ],\n",
       "       [ 2.  , 89.  ],\n",
       "       [ 1.  , 91.5 ],\n",
       "       [ 5.  , 84.  ],\n",
       "       [ 1.5 , 88.  ],\n",
       "       [10.  , 85.27],\n",
       "       [ 4.5 , 90.73],\n",
       "       [ 1.5 , 88.83],\n",
       "       [ 2.5 , 93.03],\n",
       "       [ 4.5 , 96.5 ],\n",
       "       [ 2.  , 69.87],\n",
       "       [ 8.  , 93.  ],\n",
       "       [ 9.  , 91.  ],\n",
       "       [ 5.5 , 84.5 ],\n",
       "       [ 1.5 , 91.27],\n",
       "       [ 2.  , 76.  ],\n",
       "       [ 3.  , 83.87],\n",
       "       [ 8.  , 93.  ],\n",
       "       [ 4.  , 88.2 ],\n",
       "       [ 2.5 , 94.  ],\n",
       "       [12.  , 89.5 ],\n",
       "       [ 4.  , 89.  ],\n",
       "       [ 7.  , 98.5 ],\n",
       "       [ 3.  , 93.17],\n",
       "       [ 1.5 , 81.  ],\n",
       "       [ 2.  , 74.73],\n",
       "       [ 3.  , 90.5 ],\n",
       "       [ 0.5 , 85.  ],\n",
       "       [ 9.  , 84.03],\n",
       "       [ 0.5 , 82.  ],\n",
       "       [ 5.5 , 80.  ],\n",
       "       [ 4.  , 92.8 ],\n",
       "       [ 4.5 , 82.  ],\n",
       "       [ 4.  , 76.71],\n",
       "       [ 4.5 , 78.  ],\n",
       "       [ 7.  , 84.5 ],\n",
       "       [ 3.5 , 80.  ],\n",
       "       [12.5 , 80.  ],\n",
       "       [ 0.5 , 91.3 ],\n",
       "       [ 7.5 , 74.  ],\n",
       "       [ 4.5 , 71.  ],\n",
       "       [10.  , 72.  ],\n",
       "       [ 8.  , 87.83],\n",
       "       [ 3.  , 83.67],\n",
       "       [ 8.5 , 81.  ],\n",
       "       [ 3.  , 74.43],\n",
       "       [ 1.5 , 93.  ],\n",
       "       [ 1.5 , 92.6 ],\n",
       "       [ 3.  , 90.56],\n",
       "       [ 2.  , 95.4 ],\n",
       "       [ 1.5 , 91.73],\n",
       "       [ 6.  , 82.5 ],\n",
       "       [ 3.5 , 73.22],\n",
       "       [ 2.  , 96.  ],\n",
       "       [ 1.5 , 71.  ],\n",
       "       [ 3.5 , 93.33],\n",
       "       [ 2.5 , 93.  ],\n",
       "       [ 1.5 , 87.  ],\n",
       "       [ 3.5 , 93.8 ],\n",
       "       [ 0.5 , 83.  ],\n",
       "       [ 2.  , 83.67]])"
      ]
     },
     "execution_count": 236,
     "metadata": {},
     "output_type": "execute_result"
    }
   ],
   "source": [
    "x6_train"
   ]
  },
  {
   "cell_type": "markdown",
   "metadata": {},
   "source": [
    "## Scaling the data"
   ]
  },
  {
   "cell_type": "code",
   "execution_count": 237,
   "metadata": {},
   "outputs": [],
   "source": [
    "scaled6=StandardScaler()"
   ]
  },
  {
   "cell_type": "code",
   "execution_count": 238,
   "metadata": {},
   "outputs": [],
   "source": [
    "x6_train_scaled=scaled6.fit_transform(x6_train)\n",
    "x6_test_scaled=scaled6.transform(x6_test)"
   ]
  },
  {
   "cell_type": "code",
   "execution_count": 239,
   "metadata": {},
   "outputs": [
    {
     "data": {
      "text/plain": [
       "array([[ 0.01234152, -0.0940246 ],\n",
       "       [ 0.18567749, -0.72273298],\n",
       "       [ 0.35901346,  1.33943053],\n",
       "       [ 0.35901346, -0.21976627],\n",
       "       [ 0.18567749, -1.07480968],\n",
       "       [-0.33433042,  0.15745876],\n",
       "       [-0.16099445, -1.2634222 ],\n",
       "       [ 0.01234152, -1.1364231 ],\n",
       "       [-0.50766639,  1.45259804],\n",
       "       [-0.50766639,  1.16339218],\n",
       "       [-0.68100236, -1.85440808],\n",
       "       [-0.50766639,  0.24799277],\n",
       "       [ 2.95905303, -1.98014976],\n",
       "       [-0.33433042,  0.81131548],\n",
       "       [-1.28767826,  0.91190882],\n",
       "       [-0.50766639, -0.72273298],\n",
       "       [ 0.01234152, -0.26629069],\n",
       "       [ 0.70568541,  1.02507633],\n",
       "       [-0.85433834,  0.03171708],\n",
       "       [-0.16099445,  0.15745876],\n",
       "       [ 1.39902929, -0.59699131],\n",
       "       [-0.68100236,  1.0376505 ],\n",
       "       [-0.33433042, -0.68501048],\n",
       "       [ 0.01234152,  0.70192022],\n",
       "       [-0.50766639, -0.19461794],\n",
       "       [-0.50766639,  0.34732869],\n",
       "       [ 0.53234944,  0.53342637],\n",
       "       [-1.20101028,  0.28697269],\n",
       "       [-1.20101028, -0.21976627],\n",
       "       [ 0.01234152,  0.66042547],\n",
       "       [ 0.53234944, -0.26251844],\n",
       "       [ 0.53234944,  0.15745876]])"
      ]
     },
     "execution_count": 239,
     "metadata": {},
     "output_type": "execute_result"
    }
   ],
   "source": [
    "x6_test_scaled"
   ]
  },
  {
   "cell_type": "markdown",
   "metadata": {},
   "source": [
    "## Decision Tree model on training set"
   ]
  },
  {
   "cell_type": "code",
   "execution_count": 240,
   "metadata": {},
   "outputs": [],
   "source": [
    "from sklearn.tree import DecisionTreeClassifier"
   ]
  },
  {
   "cell_type": "code",
   "execution_count": 241,
   "metadata": {},
   "outputs": [
    {
     "data": {
      "text/plain": [
       "DecisionTreeClassifier(class_weight=None, criterion='gini', max_depth=None,\n",
       "                       max_features=None, max_leaf_nodes=None,\n",
       "                       min_impurity_decrease=0.0, min_impurity_split=None,\n",
       "                       min_samples_leaf=1, min_samples_split=2,\n",
       "                       min_weight_fraction_leaf=0.0, presort=False,\n",
       "                       random_state=0, splitter='best')"
      ]
     },
     "execution_count": 241,
     "metadata": {},
     "output_type": "execute_result"
    }
   ],
   "source": [
    "clas6 = DecisionTreeClassifier(criterion = 'gini', random_state = 0)\n",
    "clas6.fit(x6_train_scaled, y6_train)"
   ]
  },
  {
   "cell_type": "markdown",
   "metadata": {},
   "source": [
    "## Predicting training results"
   ]
  },
  {
   "cell_type": "code",
   "execution_count": 242,
   "metadata": {},
   "outputs": [
    {
     "data": {
      "text/plain": [
       "array([1], dtype=int64)"
      ]
     },
     "execution_count": 242,
     "metadata": {},
     "output_type": "execute_result"
    }
   ],
   "source": [
    "clas6.predict(([[0.4,54]]))"
   ]
  },
  {
   "cell_type": "code",
   "execution_count": 243,
   "metadata": {},
   "outputs": [
    {
     "data": {
      "text/plain": [
       "array([[-1.23567747, -3.9920166 ]])"
      ]
     },
     "execution_count": 243,
     "metadata": {},
     "output_type": "execute_result"
    }
   ],
   "source": [
    "scaled6.transform(([[0.4,54]]))"
   ]
  },
  {
   "cell_type": "code",
   "execution_count": 244,
   "metadata": {},
   "outputs": [
    {
     "data": {
      "text/plain": [
       "array([1], dtype=int64)"
      ]
     },
     "execution_count": 244,
     "metadata": {},
     "output_type": "execute_result"
    }
   ],
   "source": [
    "clas6.predict(scaled6.transform(([[0.4,54]])))"
   ]
  },
  {
   "cell_type": "markdown",
   "metadata": {},
   "source": [
    "## Predicting test results"
   ]
  },
  {
   "cell_type": "code",
   "execution_count": 245,
   "metadata": {},
   "outputs": [],
   "source": [
    "y6_pred=clas6.predict(x6_test_scaled)"
   ]
  },
  {
   "cell_type": "code",
   "execution_count": 246,
   "metadata": {},
   "outputs": [
    {
     "data": {
      "text/plain": [
       "array([0, 0, 1, 0, 0, 1, 1, 0, 1, 1, 1, 1, 0, 1, 1, 1, 0, 1, 1, 1, 0, 1,\n",
       "       1, 1, 1, 1, 1, 1, 1, 1, 0, 0], dtype=int64)"
      ]
     },
     "execution_count": 246,
     "metadata": {},
     "output_type": "execute_result"
    }
   ],
   "source": [
    "y6_pred"
   ]
  },
  {
   "cell_type": "markdown",
   "metadata": {},
   "source": [
    "## Confusion Matrix"
   ]
  },
  {
   "cell_type": "code",
   "execution_count": 247,
   "metadata": {},
   "outputs": [
    {
     "data": {
      "text/plain": [
       "array([1, 0, 1, 1, 1, 1, 1, 0, 1, 1, 1, 1, 0, 1, 1, 1, 0, 1, 1, 1, 0, 1,\n",
       "       1, 1, 1, 1, 0, 1, 1, 1, 1, 1], dtype=int64)"
      ]
     },
     "execution_count": 247,
     "metadata": {},
     "output_type": "execute_result"
    }
   ],
   "source": [
    "y6_test"
   ]
  },
  {
   "cell_type": "code",
   "execution_count": 248,
   "metadata": {},
   "outputs": [
    {
     "data": {
      "text/plain": [
       "array([0, 0, 1, 0, 0, 1, 1, 0, 1, 1, 1, 1, 0, 1, 1, 1, 0, 1, 1, 1, 0, 1,\n",
       "       1, 1, 1, 1, 1, 1, 1, 1, 0, 0], dtype=int64)"
      ]
     },
     "execution_count": 248,
     "metadata": {},
     "output_type": "execute_result"
    }
   ],
   "source": [
    "y6_pred"
   ]
  },
  {
   "cell_type": "code",
   "execution_count": 249,
   "metadata": {},
   "outputs": [],
   "source": [
    "data6={\"Original values (y6_test)\": y6_test,\n",
    "      \"Predicted values (y6_pred)\": y6_pred}"
   ]
  },
  {
   "cell_type": "code",
   "execution_count": 250,
   "metadata": {},
   "outputs": [],
   "source": [
    "data6_=pd.DataFrame(data6)"
   ]
  },
  {
   "cell_type": "code",
   "execution_count": 251,
   "metadata": {},
   "outputs": [
    {
     "data": {
      "text/html": [
       "<div>\n",
       "<style scoped>\n",
       "    .dataframe tbody tr th:only-of-type {\n",
       "        vertical-align: middle;\n",
       "    }\n",
       "\n",
       "    .dataframe tbody tr th {\n",
       "        vertical-align: top;\n",
       "    }\n",
       "\n",
       "    .dataframe thead th {\n",
       "        text-align: right;\n",
       "    }\n",
       "</style>\n",
       "<table border=\"1\" class=\"dataframe\">\n",
       "  <thead>\n",
       "    <tr style=\"text-align: right;\">\n",
       "      <th></th>\n",
       "      <th>Original values (y6_test)</th>\n",
       "      <th>Predicted values (y6_pred)</th>\n",
       "    </tr>\n",
       "  </thead>\n",
       "  <tbody>\n",
       "    <tr>\n",
       "      <th>0</th>\n",
       "      <td>1</td>\n",
       "      <td>0</td>\n",
       "    </tr>\n",
       "    <tr>\n",
       "      <th>1</th>\n",
       "      <td>0</td>\n",
       "      <td>0</td>\n",
       "    </tr>\n",
       "    <tr>\n",
       "      <th>2</th>\n",
       "      <td>1</td>\n",
       "      <td>1</td>\n",
       "    </tr>\n",
       "    <tr>\n",
       "      <th>3</th>\n",
       "      <td>1</td>\n",
       "      <td>0</td>\n",
       "    </tr>\n",
       "    <tr>\n",
       "      <th>4</th>\n",
       "      <td>1</td>\n",
       "      <td>0</td>\n",
       "    </tr>\n",
       "    <tr>\n",
       "      <th>5</th>\n",
       "      <td>1</td>\n",
       "      <td>1</td>\n",
       "    </tr>\n",
       "    <tr>\n",
       "      <th>6</th>\n",
       "      <td>1</td>\n",
       "      <td>1</td>\n",
       "    </tr>\n",
       "    <tr>\n",
       "      <th>7</th>\n",
       "      <td>0</td>\n",
       "      <td>0</td>\n",
       "    </tr>\n",
       "    <tr>\n",
       "      <th>8</th>\n",
       "      <td>1</td>\n",
       "      <td>1</td>\n",
       "    </tr>\n",
       "    <tr>\n",
       "      <th>9</th>\n",
       "      <td>1</td>\n",
       "      <td>1</td>\n",
       "    </tr>\n",
       "    <tr>\n",
       "      <th>10</th>\n",
       "      <td>1</td>\n",
       "      <td>1</td>\n",
       "    </tr>\n",
       "    <tr>\n",
       "      <th>11</th>\n",
       "      <td>1</td>\n",
       "      <td>1</td>\n",
       "    </tr>\n",
       "    <tr>\n",
       "      <th>12</th>\n",
       "      <td>0</td>\n",
       "      <td>0</td>\n",
       "    </tr>\n",
       "    <tr>\n",
       "      <th>13</th>\n",
       "      <td>1</td>\n",
       "      <td>1</td>\n",
       "    </tr>\n",
       "    <tr>\n",
       "      <th>14</th>\n",
       "      <td>1</td>\n",
       "      <td>1</td>\n",
       "    </tr>\n",
       "    <tr>\n",
       "      <th>15</th>\n",
       "      <td>1</td>\n",
       "      <td>1</td>\n",
       "    </tr>\n",
       "    <tr>\n",
       "      <th>16</th>\n",
       "      <td>0</td>\n",
       "      <td>0</td>\n",
       "    </tr>\n",
       "    <tr>\n",
       "      <th>17</th>\n",
       "      <td>1</td>\n",
       "      <td>1</td>\n",
       "    </tr>\n",
       "    <tr>\n",
       "      <th>18</th>\n",
       "      <td>1</td>\n",
       "      <td>1</td>\n",
       "    </tr>\n",
       "    <tr>\n",
       "      <th>19</th>\n",
       "      <td>1</td>\n",
       "      <td>1</td>\n",
       "    </tr>\n",
       "    <tr>\n",
       "      <th>20</th>\n",
       "      <td>0</td>\n",
       "      <td>0</td>\n",
       "    </tr>\n",
       "    <tr>\n",
       "      <th>21</th>\n",
       "      <td>1</td>\n",
       "      <td>1</td>\n",
       "    </tr>\n",
       "    <tr>\n",
       "      <th>22</th>\n",
       "      <td>1</td>\n",
       "      <td>1</td>\n",
       "    </tr>\n",
       "    <tr>\n",
       "      <th>23</th>\n",
       "      <td>1</td>\n",
       "      <td>1</td>\n",
       "    </tr>\n",
       "    <tr>\n",
       "      <th>24</th>\n",
       "      <td>1</td>\n",
       "      <td>1</td>\n",
       "    </tr>\n",
       "    <tr>\n",
       "      <th>25</th>\n",
       "      <td>1</td>\n",
       "      <td>1</td>\n",
       "    </tr>\n",
       "    <tr>\n",
       "      <th>26</th>\n",
       "      <td>0</td>\n",
       "      <td>1</td>\n",
       "    </tr>\n",
       "    <tr>\n",
       "      <th>27</th>\n",
       "      <td>1</td>\n",
       "      <td>1</td>\n",
       "    </tr>\n",
       "    <tr>\n",
       "      <th>28</th>\n",
       "      <td>1</td>\n",
       "      <td>1</td>\n",
       "    </tr>\n",
       "    <tr>\n",
       "      <th>29</th>\n",
       "      <td>1</td>\n",
       "      <td>1</td>\n",
       "    </tr>\n",
       "    <tr>\n",
       "      <th>30</th>\n",
       "      <td>1</td>\n",
       "      <td>0</td>\n",
       "    </tr>\n",
       "    <tr>\n",
       "      <th>31</th>\n",
       "      <td>1</td>\n",
       "      <td>0</td>\n",
       "    </tr>\n",
       "  </tbody>\n",
       "</table>\n",
       "</div>"
      ],
      "text/plain": [
       "    Original values (y6_test)  Predicted values (y6_pred)\n",
       "0                           1                           0\n",
       "1                           0                           0\n",
       "2                           1                           1\n",
       "3                           1                           0\n",
       "4                           1                           0\n",
       "5                           1                           1\n",
       "6                           1                           1\n",
       "7                           0                           0\n",
       "8                           1                           1\n",
       "9                           1                           1\n",
       "10                          1                           1\n",
       "11                          1                           1\n",
       "12                          0                           0\n",
       "13                          1                           1\n",
       "14                          1                           1\n",
       "15                          1                           1\n",
       "16                          0                           0\n",
       "17                          1                           1\n",
       "18                          1                           1\n",
       "19                          1                           1\n",
       "20                          0                           0\n",
       "21                          1                           1\n",
       "22                          1                           1\n",
       "23                          1                           1\n",
       "24                          1                           1\n",
       "25                          1                           1\n",
       "26                          0                           1\n",
       "27                          1                           1\n",
       "28                          1                           1\n",
       "29                          1                           1\n",
       "30                          1                           0\n",
       "31                          1                           0"
      ]
     },
     "execution_count": 251,
     "metadata": {},
     "output_type": "execute_result"
    }
   ],
   "source": [
    "data6_"
   ]
  },
  {
   "cell_type": "code",
   "execution_count": 252,
   "metadata": {},
   "outputs": [],
   "source": [
    "confusion_matrix6=pd.crosstab(data6_['Original values (y6_test)'],data6_['Predicted values (y6_pred)'],\n",
    "                            rownames=['Original values'], colnames=['Predicted values'])"
   ]
  },
  {
   "cell_type": "code",
   "execution_count": 253,
   "metadata": {},
   "outputs": [
    {
     "data": {
      "text/html": [
       "<div>\n",
       "<style scoped>\n",
       "    .dataframe tbody tr th:only-of-type {\n",
       "        vertical-align: middle;\n",
       "    }\n",
       "\n",
       "    .dataframe tbody tr th {\n",
       "        vertical-align: top;\n",
       "    }\n",
       "\n",
       "    .dataframe thead th {\n",
       "        text-align: right;\n",
       "    }\n",
       "</style>\n",
       "<table border=\"1\" class=\"dataframe\">\n",
       "  <thead>\n",
       "    <tr style=\"text-align: right;\">\n",
       "      <th>Predicted values</th>\n",
       "      <th>0</th>\n",
       "      <th>1</th>\n",
       "    </tr>\n",
       "    <tr>\n",
       "      <th>Original values</th>\n",
       "      <th></th>\n",
       "      <th></th>\n",
       "    </tr>\n",
       "  </thead>\n",
       "  <tbody>\n",
       "    <tr>\n",
       "      <th>0</th>\n",
       "      <td>5</td>\n",
       "      <td>1</td>\n",
       "    </tr>\n",
       "    <tr>\n",
       "      <th>1</th>\n",
       "      <td>5</td>\n",
       "      <td>21</td>\n",
       "    </tr>\n",
       "  </tbody>\n",
       "</table>\n",
       "</div>"
      ],
      "text/plain": [
       "Predicted values  0   1\n",
       "Original values        \n",
       "0                 5   1\n",
       "1                 5  21"
      ]
     },
     "execution_count": 253,
     "metadata": {},
     "output_type": "execute_result"
    }
   ],
   "source": [
    "confusion_matrix6"
   ]
  },
  {
   "cell_type": "code",
   "execution_count": 254,
   "metadata": {},
   "outputs": [
    {
     "data": {
      "text/plain": [
       "<matplotlib.axes._subplots.AxesSubplot at 0x150f8e70>"
      ]
     },
     "execution_count": 254,
     "metadata": {},
     "output_type": "execute_result"
    },
    {
     "data": {
      "image/png": "[encoded data removed]",
      "text/plain": [
       "<Figure size 432x288 with 2 Axes>"
      ]
     },
     "metadata": {
      "needs_background": "light"
     },
     "output_type": "display_data"
    }
   ],
   "source": [
    "sn.heatmap(confusion_matrix6, annot=True)"
   ]
  },
  {
   "cell_type": "code",
   "execution_count": 255,
   "metadata": {},
   "outputs": [
    {
     "data": {
      "text/plain": [
       "10"
      ]
     },
     "execution_count": 255,
     "metadata": {},
     "output_type": "execute_result"
    }
   ],
   "source": [
    "len(y6_pred[y6_pred==0])"
   ]
  },
  {
   "cell_type": "code",
   "execution_count": 256,
   "metadata": {},
   "outputs": [
    {
     "data": {
      "text/plain": [
       "22"
      ]
     },
     "execution_count": 256,
     "metadata": {},
     "output_type": "execute_result"
    }
   ],
   "source": [
    "len(y6_pred[y6_pred==1])"
   ]
  },
  {
   "cell_type": "markdown",
   "metadata": {},
   "source": [
    "## Accuracy Score"
   ]
  },
  {
   "cell_type": "code",
   "execution_count": 257,
   "metadata": {},
   "outputs": [
    {
     "name": "stdout",
     "output_type": "stream",
     "text": [
      "Accuracy Score:  0.8125\n"
     ]
    }
   ],
   "source": [
    "print(\"Accuracy Score: \",accuracy_score(y6_test,y6_pred))"
   ]
  },
  {
   "cell_type": "markdown",
   "metadata": {},
   "source": [
    "## Visualization of Decision Tree model on training set"
   ]
  },
  {
   "cell_type": "code",
   "execution_count": 258,
   "metadata": {},
   "outputs": [
    {
     "name": "stderr",
     "output_type": "stream",
     "text": [
      "'c' argument looks like a single numeric RGB or RGBA sequence, which should be avoided as value-mapping will have precedence in case its length matches with 'x' & 'y'.  Please use a 2-D array with a single row if you really want to specify the same RGB or RGBA value for all points.\n",
      "'c' argument looks like a single numeric RGB or RGBA sequence, which should be avoided as value-mapping will have precedence in case its length matches with 'x' & 'y'.  Please use a 2-D array with a single row if you really want to specify the same RGB or RGBA value for all points.\n"
     ]
    },
    {
     "data": {
      "image/png": "[encoded data removed]",
      "text/plain": [
       "<Figure size 432x288 with 1 Axes>"
      ]
     },
     "metadata": {
      "needs_background": "light"
     },
     "output_type": "display_data"
    }
   ],
   "source": [
    "x6_set, y6_set = scaled6.inverse_transform(x6_train_scaled), y6_train\n",
    "\n",
    "___x1, ___x2 = np.meshgrid(np.arange(start = x6_set[:, 0].min() - 10, stop = x6_set[:, 0].max() + 10, step = 0.2),\n",
    "                     np.arange(start = x6_set[:, 1].min() - 1000, stop = x6_set[:, 1].max() + 1000, step = 0.2))\n",
    "\n",
    "plt.contourf(___x1, ___x2, clas6.predict(scaled6.transform(np.array([___x1.ravel(), ___x2.ravel()]).T)).reshape(___x1.shape),\n",
    "             alpha = 0.75, cmap = ListedColormap(('red', 'orange')))\n",
    "\n",
    "plt.xlim(0,12)\n",
    "plt.ylim(60,100)\n",
    "\n",
    "for i, j in enumerate(np.unique(y6_set)):\n",
    "    plt.scatter(x6_set[y6_set == j, 0], x6_set[y6_set == j, 1], c = ListedColormap(('red', 'orange'))(i), label = j)\n",
    "    \n",
    "plt.title(\"Decision Tree model on training set\")\n",
    "plt.xlabel(\"Time spent on lessons\")\n",
    "plt.ylabel(\"GPA\")\n",
    "plt.legend()\n",
    "plt.show()"
   ]
  },
  {
   "cell_type": "markdown",
   "metadata": {},
   "source": [
    "## Visualization of Decision Tree model on test set"
   ]
  },
  {
   "cell_type": "code",
   "execution_count": 259,
   "metadata": {},
   "outputs": [
    {
     "name": "stderr",
     "output_type": "stream",
     "text": [
      "'c' argument looks like a single numeric RGB or RGBA sequence, which should be avoided as value-mapping will have precedence in case its length matches with 'x' & 'y'.  Please use a 2-D array with a single row if you really want to specify the same RGB or RGBA value for all points.\n",
      "'c' argument looks like a single numeric RGB or RGBA sequence, which should be avoided as value-mapping will have precedence in case its length matches with 'x' & 'y'.  Please use a 2-D array with a single row if you really want to specify the same RGB or RGBA value for all points.\n"
     ]
    },
    {
     "data": {
      "image/png": "[encoded data removed]",
      "text/plain": [
       "<Figure size 432x288 with 1 Axes>"
      ]
     },
     "metadata": {
      "needs_background": "light"
     },
     "output_type": "display_data"
    }
   ],
   "source": [
    "x6_set, y6_set = scaled6.inverse_transform(x6_test_scaled), y6_test\n",
    "\n",
    "___x1, ___x2 = np.meshgrid(np.arange(start = x6_set[:, 0].min() - 10, stop = x6_set[:, 0].max() + 10, step = 0.2),\n",
    "                     np.arange(start = x6_set[:, 1].min() - 1000, stop = x6_set[:, 1].max() + 1000, step = 0.2))\n",
    "\n",
    "plt.contourf(___x1, ___x2, clas6.predict(scaled6.transform(np.array([___x1.ravel(), ___x2.ravel()]).T)).reshape(___x1.shape),\n",
    "             alpha = 0.75, cmap = ListedColormap(('red', 'orange')))\n",
    "\n",
    "plt.xlim(0,12)\n",
    "plt.ylim(60,100)\n",
    "\n",
    "for i, j in enumerate(np.unique(y6_set)):\n",
    "    plt.scatter(x6_set[y6_set == j, 0], x6_set[y6_set == j, 1], c = ListedColormap(('red', 'orange'))(i), label = j)\n",
    "    \n",
    "plt.title(\"Decision Tree model on test set\")\n",
    "plt.xlabel(\"Time spent on lessons\")\n",
    "plt.ylabel(\"GPA\")\n",
    "plt.legend()\n",
    "plt.show()"
   ]
  },
  {
   "cell_type": "markdown",
   "metadata": {},
   "source": [
    "# Comparison"
   ]
  },
  {
   "cell_type": "code",
   "execution_count": 260,
   "metadata": {},
   "outputs": [
    {
     "data": {
      "text/html": [
       "<div>\n",
       "<style scoped>\n",
       "    .dataframe tbody tr th:only-of-type {\n",
       "        vertical-align: middle;\n",
       "    }\n",
       "\n",
       "    .dataframe tbody tr th {\n",
       "        vertical-align: top;\n",
       "    }\n",
       "\n",
       "    .dataframe thead th {\n",
       "        text-align: right;\n",
       "    }\n",
       "</style>\n",
       "<table border=\"1\" class=\"dataframe\">\n",
       "  <thead>\n",
       "    <tr style=\"text-align: right;\">\n",
       "      <th>Predicted values</th>\n",
       "      <th>0</th>\n",
       "      <th>1</th>\n",
       "    </tr>\n",
       "    <tr>\n",
       "      <th>Original values</th>\n",
       "      <th></th>\n",
       "      <th></th>\n",
       "    </tr>\n",
       "  </thead>\n",
       "  <tbody>\n",
       "    <tr>\n",
       "      <th>0</th>\n",
       "      <td>2</td>\n",
       "      <td>4</td>\n",
       "    </tr>\n",
       "    <tr>\n",
       "      <th>1</th>\n",
       "      <td>0</td>\n",
       "      <td>26</td>\n",
       "    </tr>\n",
       "  </tbody>\n",
       "</table>\n",
       "</div>"
      ],
      "text/plain": [
       "Predicted values  0   1\n",
       "Original values        \n",
       "0                 2   4\n",
       "1                 0  26"
      ]
     },
     "execution_count": 260,
     "metadata": {},
     "output_type": "execute_result"
    }
   ],
   "source": [
    "confusion_matrix"
   ]
  },
  {
   "cell_type": "code",
   "execution_count": 261,
   "metadata": {},
   "outputs": [
    {
     "data": {
      "text/html": [
       "<div>\n",
       "<style scoped>\n",
       "    .dataframe tbody tr th:only-of-type {\n",
       "        vertical-align: middle;\n",
       "    }\n",
       "\n",
       "    .dataframe tbody tr th {\n",
       "        vertical-align: top;\n",
       "    }\n",
       "\n",
       "    .dataframe thead th {\n",
       "        text-align: right;\n",
       "    }\n",
       "</style>\n",
       "<table border=\"1\" class=\"dataframe\">\n",
       "  <thead>\n",
       "    <tr style=\"text-align: right;\">\n",
       "      <th>Predicted values</th>\n",
       "      <th>0</th>\n",
       "      <th>1</th>\n",
       "    </tr>\n",
       "    <tr>\n",
       "      <th>Original values</th>\n",
       "      <th></th>\n",
       "      <th></th>\n",
       "    </tr>\n",
       "  </thead>\n",
       "  <tbody>\n",
       "    <tr>\n",
       "      <th>0</th>\n",
       "      <td>5</td>\n",
       "      <td>1</td>\n",
       "    </tr>\n",
       "    <tr>\n",
       "      <th>1</th>\n",
       "      <td>4</td>\n",
       "      <td>22</td>\n",
       "    </tr>\n",
       "  </tbody>\n",
       "</table>\n",
       "</div>"
      ],
      "text/plain": [
       "Predicted values  0   1\n",
       "Original values        \n",
       "0                 5   1\n",
       "1                 4  22"
      ]
     },
     "execution_count": 261,
     "metadata": {},
     "output_type": "execute_result"
    }
   ],
   "source": [
    "confusion_matrix1"
   ]
  },
  {
   "cell_type": "code",
   "execution_count": 262,
   "metadata": {},
   "outputs": [
    {
     "data": {
      "text/html": [
       "<div>\n",
       "<style scoped>\n",
       "    .dataframe tbody tr th:only-of-type {\n",
       "        vertical-align: middle;\n",
       "    }\n",
       "\n",
       "    .dataframe tbody tr th {\n",
       "        vertical-align: top;\n",
       "    }\n",
       "\n",
       "    .dataframe thead th {\n",
       "        text-align: right;\n",
       "    }\n",
       "</style>\n",
       "<table border=\"1\" class=\"dataframe\">\n",
       "  <thead>\n",
       "    <tr style=\"text-align: right;\">\n",
       "      <th>Predicted values</th>\n",
       "      <th>0</th>\n",
       "      <th>1</th>\n",
       "    </tr>\n",
       "    <tr>\n",
       "      <th>Original values</th>\n",
       "      <th></th>\n",
       "      <th></th>\n",
       "    </tr>\n",
       "  </thead>\n",
       "  <tbody>\n",
       "    <tr>\n",
       "      <th>0</th>\n",
       "      <td>2</td>\n",
       "      <td>4</td>\n",
       "    </tr>\n",
       "    <tr>\n",
       "      <th>1</th>\n",
       "      <td>0</td>\n",
       "      <td>26</td>\n",
       "    </tr>\n",
       "  </tbody>\n",
       "</table>\n",
       "</div>"
      ],
      "text/plain": [
       "Predicted values  0   1\n",
       "Original values        \n",
       "0                 2   4\n",
       "1                 0  26"
      ]
     },
     "execution_count": 262,
     "metadata": {},
     "output_type": "execute_result"
    }
   ],
   "source": [
    "confusion_matrix2"
   ]
  },
  {
   "cell_type": "code",
   "execution_count": 263,
   "metadata": {},
   "outputs": [
    {
     "data": {
      "text/html": [
       "<div>\n",
       "<style scoped>\n",
       "    .dataframe tbody tr th:only-of-type {\n",
       "        vertical-align: middle;\n",
       "    }\n",
       "\n",
       "    .dataframe tbody tr th {\n",
       "        vertical-align: top;\n",
       "    }\n",
       "\n",
       "    .dataframe thead th {\n",
       "        text-align: right;\n",
       "    }\n",
       "</style>\n",
       "<table border=\"1\" class=\"dataframe\">\n",
       "  <thead>\n",
       "    <tr style=\"text-align: right;\">\n",
       "      <th>Predicted values</th>\n",
       "      <th>0</th>\n",
       "      <th>1</th>\n",
       "    </tr>\n",
       "    <tr>\n",
       "      <th>Original values</th>\n",
       "      <th></th>\n",
       "      <th></th>\n",
       "    </tr>\n",
       "  </thead>\n",
       "  <tbody>\n",
       "    <tr>\n",
       "      <th>0</th>\n",
       "      <td>3</td>\n",
       "      <td>3</td>\n",
       "    </tr>\n",
       "    <tr>\n",
       "      <th>1</th>\n",
       "      <td>4</td>\n",
       "      <td>22</td>\n",
       "    </tr>\n",
       "  </tbody>\n",
       "</table>\n",
       "</div>"
      ],
      "text/plain": [
       "Predicted values  0   1\n",
       "Original values        \n",
       "0                 3   3\n",
       "1                 4  22"
      ]
     },
     "execution_count": 263,
     "metadata": {},
     "output_type": "execute_result"
    }
   ],
   "source": [
    "confusion_matrix3"
   ]
  },
  {
   "cell_type": "code",
   "execution_count": 264,
   "metadata": {},
   "outputs": [
    {
     "data": {
      "text/html": [
       "<div>\n",
       "<style scoped>\n",
       "    .dataframe tbody tr th:only-of-type {\n",
       "        vertical-align: middle;\n",
       "    }\n",
       "\n",
       "    .dataframe tbody tr th {\n",
       "        vertical-align: top;\n",
       "    }\n",
       "\n",
       "    .dataframe thead th {\n",
       "        text-align: right;\n",
       "    }\n",
       "</style>\n",
       "<table border=\"1\" class=\"dataframe\">\n",
       "  <thead>\n",
       "    <tr style=\"text-align: right;\">\n",
       "      <th>Predicted values</th>\n",
       "      <th>0</th>\n",
       "      <th>1</th>\n",
       "    </tr>\n",
       "    <tr>\n",
       "      <th>Original values</th>\n",
       "      <th></th>\n",
       "      <th></th>\n",
       "    </tr>\n",
       "  </thead>\n",
       "  <tbody>\n",
       "    <tr>\n",
       "      <th>0</th>\n",
       "      <td>2</td>\n",
       "      <td>4</td>\n",
       "    </tr>\n",
       "    <tr>\n",
       "      <th>1</th>\n",
       "      <td>0</td>\n",
       "      <td>26</td>\n",
       "    </tr>\n",
       "  </tbody>\n",
       "</table>\n",
       "</div>"
      ],
      "text/plain": [
       "Predicted values  0   1\n",
       "Original values        \n",
       "0                 2   4\n",
       "1                 0  26"
      ]
     },
     "execution_count": 264,
     "metadata": {},
     "output_type": "execute_result"
    }
   ],
   "source": [
    "confusion_matrix4"
   ]
  },
  {
   "cell_type": "code",
   "execution_count": 265,
   "metadata": {},
   "outputs": [
    {
     "data": {
      "text/html": [
       "<div>\n",
       "<style scoped>\n",
       "    .dataframe tbody tr th:only-of-type {\n",
       "        vertical-align: middle;\n",
       "    }\n",
       "\n",
       "    .dataframe tbody tr th {\n",
       "        vertical-align: top;\n",
       "    }\n",
       "\n",
       "    .dataframe thead th {\n",
       "        text-align: right;\n",
       "    }\n",
       "</style>\n",
       "<table border=\"1\" class=\"dataframe\">\n",
       "  <thead>\n",
       "    <tr style=\"text-align: right;\">\n",
       "      <th>Predicted values</th>\n",
       "      <th>0</th>\n",
       "      <th>1</th>\n",
       "    </tr>\n",
       "    <tr>\n",
       "      <th>Original values</th>\n",
       "      <th></th>\n",
       "      <th></th>\n",
       "    </tr>\n",
       "  </thead>\n",
       "  <tbody>\n",
       "    <tr>\n",
       "      <th>0</th>\n",
       "      <td>5</td>\n",
       "      <td>1</td>\n",
       "    </tr>\n",
       "    <tr>\n",
       "      <th>1</th>\n",
       "      <td>5</td>\n",
       "      <td>21</td>\n",
       "    </tr>\n",
       "  </tbody>\n",
       "</table>\n",
       "</div>"
      ],
      "text/plain": [
       "Predicted values  0   1\n",
       "Original values        \n",
       "0                 5   1\n",
       "1                 5  21"
      ]
     },
     "execution_count": 265,
     "metadata": {},
     "output_type": "execute_result"
    }
   ],
   "source": [
    "confusion_matrix5"
   ]
  },
  {
   "cell_type": "code",
   "execution_count": 266,
   "metadata": {},
   "outputs": [
    {
     "data": {
      "text/html": [
       "<div>\n",
       "<style scoped>\n",
       "    .dataframe tbody tr th:only-of-type {\n",
       "        vertical-align: middle;\n",
       "    }\n",
       "\n",
       "    .dataframe tbody tr th {\n",
       "        vertical-align: top;\n",
       "    }\n",
       "\n",
       "    .dataframe thead th {\n",
       "        text-align: right;\n",
       "    }\n",
       "</style>\n",
       "<table border=\"1\" class=\"dataframe\">\n",
       "  <thead>\n",
       "    <tr style=\"text-align: right;\">\n",
       "      <th>Predicted values</th>\n",
       "      <th>0</th>\n",
       "      <th>1</th>\n",
       "    </tr>\n",
       "    <tr>\n",
       "      <th>Original values</th>\n",
       "      <th></th>\n",
       "      <th></th>\n",
       "    </tr>\n",
       "  </thead>\n",
       "  <tbody>\n",
       "    <tr>\n",
       "      <th>0</th>\n",
       "      <td>5</td>\n",
       "      <td>1</td>\n",
       "    </tr>\n",
       "    <tr>\n",
       "      <th>1</th>\n",
       "      <td>5</td>\n",
       "      <td>21</td>\n",
       "    </tr>\n",
       "  </tbody>\n",
       "</table>\n",
       "</div>"
      ],
      "text/plain": [
       "Predicted values  0   1\n",
       "Original values        \n",
       "0                 5   1\n",
       "1                 5  21"
      ]
     },
     "execution_count": 266,
     "metadata": {},
     "output_type": "execute_result"
    }
   ],
   "source": [
    "confusion_matrix6"
   ]
  },
  {
   "cell_type": "code",
   "execution_count": 267,
   "metadata": {},
   "outputs": [],
   "source": [
    "frame=pd.DataFrame()"
   ]
  },
  {
   "cell_type": "code",
   "execution_count": 268,
   "metadata": {},
   "outputs": [],
   "source": [
    "frame[\"Classifications\"]=['Logistic','K - NN','SVM','Kernel - SVM','Naive Bayes','Random Forest','Decision Tree']"
   ]
  },
  {
   "cell_type": "code",
   "execution_count": 269,
   "metadata": {},
   "outputs": [],
   "source": [
    "frame[\"Accuracy Scores\"]=[0.875, 0.84375, 0.875, 0.78125, 0.875, 0.8125, 0.8125]"
   ]
  },
  {
   "cell_type": "code",
   "execution_count": 270,
   "metadata": {},
   "outputs": [
    {
     "data": {
      "text/html": [
       "<div>\n",
       "<style scoped>\n",
       "    .dataframe tbody tr th:only-of-type {\n",
       "        vertical-align: middle;\n",
       "    }\n",
       "\n",
       "    .dataframe tbody tr th {\n",
       "        vertical-align: top;\n",
       "    }\n",
       "\n",
       "    .dataframe thead th {\n",
       "        text-align: right;\n",
       "    }\n",
       "</style>\n",
       "<table border=\"1\" class=\"dataframe\">\n",
       "  <thead>\n",
       "    <tr style=\"text-align: right;\">\n",
       "      <th></th>\n",
       "      <th>Classifications</th>\n",
       "      <th>Accuracy Scores</th>\n",
       "    </tr>\n",
       "  </thead>\n",
       "  <tbody>\n",
       "    <tr>\n",
       "      <th>0</th>\n",
       "      <td>Logistic</td>\n",
       "      <td>0.87500</td>\n",
       "    </tr>\n",
       "    <tr>\n",
       "      <th>1</th>\n",
       "      <td>K - NN</td>\n",
       "      <td>0.84375</td>\n",
       "    </tr>\n",
       "    <tr>\n",
       "      <th>2</th>\n",
       "      <td>SVM</td>\n",
       "      <td>0.87500</td>\n",
       "    </tr>\n",
       "    <tr>\n",
       "      <th>3</th>\n",
       "      <td>Kernel - SVM</td>\n",
       "      <td>0.78125</td>\n",
       "    </tr>\n",
       "    <tr>\n",
       "      <th>4</th>\n",
       "      <td>Naive Bayes</td>\n",
       "      <td>0.87500</td>\n",
       "    </tr>\n",
       "    <tr>\n",
       "      <th>5</th>\n",
       "      <td>Random Forest</td>\n",
       "      <td>0.81250</td>\n",
       "    </tr>\n",
       "    <tr>\n",
       "      <th>6</th>\n",
       "      <td>Decision Tree</td>\n",
       "      <td>0.81250</td>\n",
       "    </tr>\n",
       "  </tbody>\n",
       "</table>\n",
       "</div>"
      ],
      "text/plain": [
       "  Classifications  Accuracy Scores\n",
       "0        Logistic          0.87500\n",
       "1          K - NN          0.84375\n",
       "2             SVM          0.87500\n",
       "3    Kernel - SVM          0.78125\n",
       "4     Naive Bayes          0.87500\n",
       "5   Random Forest          0.81250\n",
       "6   Decision Tree          0.81250"
      ]
     },
     "execution_count": 270,
     "metadata": {},
     "output_type": "execute_result"
    }
   ],
   "source": [
    "frame"
   ]
  },
  {
   "cell_type": "code",
   "execution_count": 271,
   "metadata": {},
   "outputs": [],
   "source": [
    "# So here we can see the accuracy scores comparatively. According to this data accuracy scores and confusion matrix of 3 models\n",
    "# are the same. So the most powerful models are logistic, SVM and Naive Bayes"
   ]
  }
 ],
 "metadata": {
  "kernelspec": {
   "display_name": "Python 3",
   "language": "python",
   "name": "python3"
  },
  "language_info": {
   "codemirror_mode": {
    "name": "ipython",
    "version": 3
   },
   "file_extension": ".py",
   "mimetype": "text/x-python",
   "name": "python",
   "nbconvert_exporter": "python",
   "pygments_lexer": "ipython3",
   "version": "3.7.6"
  }
 },
 "nbformat": 4,
 "nbformat_minor": 4
}
